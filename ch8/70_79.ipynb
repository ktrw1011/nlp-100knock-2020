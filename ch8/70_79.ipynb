{
  "nbformat": 4,
  "nbformat_minor": 0,
  "metadata": {
    "colab": {
      "name": "ch70-79.ipynb",
      "provenance": [],
      "toc_visible": true
    },
    "kernelspec": {
      "name": "python3",
      "display_name": "Python 3"
    },
    "widgets": {
      "application/vnd.jupyter.widget-state+json": {
        "d202e0ff5d6a45f58d903698150548c4": {
          "model_module": "@jupyter-widgets/controls",
          "model_name": "HBoxModel",
          "state": {
            "_view_name": "HBoxView",
            "_dom_classes": [],
            "_model_name": "HBoxModel",
            "_view_module": "@jupyter-widgets/controls",
            "_model_module_version": "1.5.0",
            "_view_count": null,
            "_view_module_version": "1.5.0",
            "box_style": "",
            "layout": "IPY_MODEL_1f3677785bda44fa8de05a69899234b4",
            "_model_module": "@jupyter-widgets/controls",
            "children": [
              "IPY_MODEL_460b6d0d799b409da6a405b01a9cf63f",
              "IPY_MODEL_610ba83c43d34990a786b30827bde0a4"
            ]
          }
        },
        "1f3677785bda44fa8de05a69899234b4": {
          "model_module": "@jupyter-widgets/base",
          "model_name": "LayoutModel",
          "state": {
            "_view_name": "LayoutView",
            "grid_template_rows": null,
            "right": null,
            "justify_content": null,
            "_view_module": "@jupyter-widgets/base",
            "overflow": null,
            "_model_module_version": "1.2.0",
            "_view_count": null,
            "flex_flow": null,
            "width": null,
            "min_width": null,
            "border": null,
            "align_items": null,
            "bottom": null,
            "_model_module": "@jupyter-widgets/base",
            "top": null,
            "grid_column": null,
            "overflow_y": null,
            "overflow_x": null,
            "grid_auto_flow": null,
            "grid_area": null,
            "grid_template_columns": null,
            "flex": null,
            "_model_name": "LayoutModel",
            "justify_items": null,
            "grid_row": null,
            "max_height": null,
            "align_content": null,
            "visibility": null,
            "align_self": null,
            "height": null,
            "min_height": null,
            "padding": null,
            "grid_auto_rows": null,
            "grid_gap": null,
            "max_width": null,
            "order": null,
            "_view_module_version": "1.2.0",
            "grid_template_areas": null,
            "object_position": null,
            "object_fit": null,
            "grid_auto_columns": null,
            "margin": null,
            "display": null,
            "left": null
          }
        },
        "460b6d0d799b409da6a405b01a9cf63f": {
          "model_module": "@jupyter-widgets/controls",
          "model_name": "FloatProgressModel",
          "state": {
            "_view_name": "ProgressView",
            "style": "IPY_MODEL_99e3168fe08e4e1b9af4f539418b38e4",
            "_dom_classes": [],
            "description": "100%",
            "_model_name": "FloatProgressModel",
            "bar_style": "success",
            "max": 300,
            "_view_module": "@jupyter-widgets/controls",
            "_model_module_version": "1.5.0",
            "value": 300,
            "_view_count": null,
            "_view_module_version": "1.5.0",
            "orientation": "horizontal",
            "min": 0,
            "description_tooltip": null,
            "_model_module": "@jupyter-widgets/controls",
            "layout": "IPY_MODEL_f6fbb1d78f414cee89b478dc763806fb"
          }
        },
        "610ba83c43d34990a786b30827bde0a4": {
          "model_module": "@jupyter-widgets/controls",
          "model_name": "HTMLModel",
          "state": {
            "_view_name": "HTMLView",
            "style": "IPY_MODEL_e23ddaa680234e6ebb44c933e7306fab",
            "_dom_classes": [],
            "description": "",
            "_model_name": "HTMLModel",
            "placeholder": "​",
            "_view_module": "@jupyter-widgets/controls",
            "_model_module_version": "1.5.0",
            "value": " 300/300 [00:05&lt;00:00, 59.05it/s, train_acc=0.715, valid_acc=0.707, test_acc=0.723]",
            "_view_count": null,
            "_view_module_version": "1.5.0",
            "description_tooltip": null,
            "_model_module": "@jupyter-widgets/controls",
            "layout": "IPY_MODEL_53859525c1cb4ec49c3d3faf76e47703"
          }
        },
        "99e3168fe08e4e1b9af4f539418b38e4": {
          "model_module": "@jupyter-widgets/controls",
          "model_name": "ProgressStyleModel",
          "state": {
            "_view_name": "StyleView",
            "_model_name": "ProgressStyleModel",
            "description_width": "initial",
            "_view_module": "@jupyter-widgets/base",
            "_model_module_version": "1.5.0",
            "_view_count": null,
            "_view_module_version": "1.2.0",
            "bar_color": null,
            "_model_module": "@jupyter-widgets/controls"
          }
        },
        "f6fbb1d78f414cee89b478dc763806fb": {
          "model_module": "@jupyter-widgets/base",
          "model_name": "LayoutModel",
          "state": {
            "_view_name": "LayoutView",
            "grid_template_rows": null,
            "right": null,
            "justify_content": null,
            "_view_module": "@jupyter-widgets/base",
            "overflow": null,
            "_model_module_version": "1.2.0",
            "_view_count": null,
            "flex_flow": null,
            "width": null,
            "min_width": null,
            "border": null,
            "align_items": null,
            "bottom": null,
            "_model_module": "@jupyter-widgets/base",
            "top": null,
            "grid_column": null,
            "overflow_y": null,
            "overflow_x": null,
            "grid_auto_flow": null,
            "grid_area": null,
            "grid_template_columns": null,
            "flex": null,
            "_model_name": "LayoutModel",
            "justify_items": null,
            "grid_row": null,
            "max_height": null,
            "align_content": null,
            "visibility": null,
            "align_self": null,
            "height": null,
            "min_height": null,
            "padding": null,
            "grid_auto_rows": null,
            "grid_gap": null,
            "max_width": null,
            "order": null,
            "_view_module_version": "1.2.0",
            "grid_template_areas": null,
            "object_position": null,
            "object_fit": null,
            "grid_auto_columns": null,
            "margin": null,
            "display": null,
            "left": null
          }
        },
        "e23ddaa680234e6ebb44c933e7306fab": {
          "model_module": "@jupyter-widgets/controls",
          "model_name": "DescriptionStyleModel",
          "state": {
            "_view_name": "StyleView",
            "_model_name": "DescriptionStyleModel",
            "description_width": "",
            "_view_module": "@jupyter-widgets/base",
            "_model_module_version": "1.5.0",
            "_view_count": null,
            "_view_module_version": "1.2.0",
            "_model_module": "@jupyter-widgets/controls"
          }
        },
        "53859525c1cb4ec49c3d3faf76e47703": {
          "model_module": "@jupyter-widgets/base",
          "model_name": "LayoutModel",
          "state": {
            "_view_name": "LayoutView",
            "grid_template_rows": null,
            "right": null,
            "justify_content": null,
            "_view_module": "@jupyter-widgets/base",
            "overflow": null,
            "_model_module_version": "1.2.0",
            "_view_count": null,
            "flex_flow": null,
            "width": null,
            "min_width": null,
            "border": null,
            "align_items": null,
            "bottom": null,
            "_model_module": "@jupyter-widgets/base",
            "top": null,
            "grid_column": null,
            "overflow_y": null,
            "overflow_x": null,
            "grid_auto_flow": null,
            "grid_area": null,
            "grid_template_columns": null,
            "flex": null,
            "_model_name": "LayoutModel",
            "justify_items": null,
            "grid_row": null,
            "max_height": null,
            "align_content": null,
            "visibility": null,
            "align_self": null,
            "height": null,
            "min_height": null,
            "padding": null,
            "grid_auto_rows": null,
            "grid_gap": null,
            "max_width": null,
            "order": null,
            "_view_module_version": "1.2.0",
            "grid_template_areas": null,
            "object_position": null,
            "object_fit": null,
            "grid_auto_columns": null,
            "margin": null,
            "display": null,
            "left": null
          }
        },
        "c42de45090904cc3a466b19c2619515b": {
          "model_module": "@jupyter-widgets/controls",
          "model_name": "HBoxModel",
          "state": {
            "_view_name": "HBoxView",
            "_dom_classes": [],
            "_model_name": "HBoxModel",
            "_view_module": "@jupyter-widgets/controls",
            "_model_module_version": "1.5.0",
            "_view_count": null,
            "_view_module_version": "1.5.0",
            "box_style": "",
            "layout": "IPY_MODEL_04bc205f5ee946ec866705543330d16d",
            "_model_module": "@jupyter-widgets/controls",
            "children": [
              "IPY_MODEL_6aba088eb82b431e9a1e1be2775eb65f",
              "IPY_MODEL_c75f6f2d35be4ca4ab32b1d5db10547d"
            ]
          }
        },
        "04bc205f5ee946ec866705543330d16d": {
          "model_module": "@jupyter-widgets/base",
          "model_name": "LayoutModel",
          "state": {
            "_view_name": "LayoutView",
            "grid_template_rows": null,
            "right": null,
            "justify_content": null,
            "_view_module": "@jupyter-widgets/base",
            "overflow": null,
            "_model_module_version": "1.2.0",
            "_view_count": null,
            "flex_flow": null,
            "width": null,
            "min_width": null,
            "border": null,
            "align_items": null,
            "bottom": null,
            "_model_module": "@jupyter-widgets/base",
            "top": null,
            "grid_column": null,
            "overflow_y": null,
            "overflow_x": null,
            "grid_auto_flow": null,
            "grid_area": null,
            "grid_template_columns": null,
            "flex": null,
            "_model_name": "LayoutModel",
            "justify_items": null,
            "grid_row": null,
            "max_height": null,
            "align_content": null,
            "visibility": null,
            "align_self": null,
            "height": null,
            "min_height": null,
            "padding": null,
            "grid_auto_rows": null,
            "grid_gap": null,
            "max_width": null,
            "order": null,
            "_view_module_version": "1.2.0",
            "grid_template_areas": null,
            "object_position": null,
            "object_fit": null,
            "grid_auto_columns": null,
            "margin": null,
            "display": null,
            "left": null
          }
        },
        "6aba088eb82b431e9a1e1be2775eb65f": {
          "model_module": "@jupyter-widgets/controls",
          "model_name": "FloatProgressModel",
          "state": {
            "_view_name": "ProgressView",
            "style": "IPY_MODEL_8a6f1c385cc843688224b504fac1eb9a",
            "_dom_classes": [],
            "description": "100%",
            "_model_name": "FloatProgressModel",
            "bar_style": "success",
            "max": 10,
            "_view_module": "@jupyter-widgets/controls",
            "_model_module_version": "1.5.0",
            "value": 10,
            "_view_count": null,
            "_view_module_version": "1.5.0",
            "orientation": "horizontal",
            "min": 0,
            "description_tooltip": null,
            "_model_module": "@jupyter-widgets/controls",
            "layout": "IPY_MODEL_6c1c950ccbbb42089726904028233b2a"
          }
        },
        "c75f6f2d35be4ca4ab32b1d5db10547d": {
          "model_module": "@jupyter-widgets/controls",
          "model_name": "HTMLModel",
          "state": {
            "_view_name": "HTMLView",
            "style": "IPY_MODEL_f763afa2fb184b589f096d8a3ee913c9",
            "_dom_classes": [],
            "description": "",
            "_model_name": "HTMLModel",
            "placeholder": "​",
            "_view_module": "@jupyter-widgets/controls",
            "_model_module_version": "1.5.0",
            "value": " 10/10 [04:16&lt;00:00, 25.66s/it, train_acc=0.906, valid_acc=0.905, test_acc=0.884]",
            "_view_count": null,
            "_view_module_version": "1.5.0",
            "description_tooltip": null,
            "_model_module": "@jupyter-widgets/controls",
            "layout": "IPY_MODEL_01eca69587994ef4be00733a188e65b5"
          }
        },
        "8a6f1c385cc843688224b504fac1eb9a": {
          "model_module": "@jupyter-widgets/controls",
          "model_name": "ProgressStyleModel",
          "state": {
            "_view_name": "StyleView",
            "_model_name": "ProgressStyleModel",
            "description_width": "initial",
            "_view_module": "@jupyter-widgets/base",
            "_model_module_version": "1.5.0",
            "_view_count": null,
            "_view_module_version": "1.2.0",
            "bar_color": null,
            "_model_module": "@jupyter-widgets/controls"
          }
        },
        "6c1c950ccbbb42089726904028233b2a": {
          "model_module": "@jupyter-widgets/base",
          "model_name": "LayoutModel",
          "state": {
            "_view_name": "LayoutView",
            "grid_template_rows": null,
            "right": null,
            "justify_content": null,
            "_view_module": "@jupyter-widgets/base",
            "overflow": null,
            "_model_module_version": "1.2.0",
            "_view_count": null,
            "flex_flow": null,
            "width": null,
            "min_width": null,
            "border": null,
            "align_items": null,
            "bottom": null,
            "_model_module": "@jupyter-widgets/base",
            "top": null,
            "grid_column": null,
            "overflow_y": null,
            "overflow_x": null,
            "grid_auto_flow": null,
            "grid_area": null,
            "grid_template_columns": null,
            "flex": null,
            "_model_name": "LayoutModel",
            "justify_items": null,
            "grid_row": null,
            "max_height": null,
            "align_content": null,
            "visibility": null,
            "align_self": null,
            "height": null,
            "min_height": null,
            "padding": null,
            "grid_auto_rows": null,
            "grid_gap": null,
            "max_width": null,
            "order": null,
            "_view_module_version": "1.2.0",
            "grid_template_areas": null,
            "object_position": null,
            "object_fit": null,
            "grid_auto_columns": null,
            "margin": null,
            "display": null,
            "left": null
          }
        },
        "f763afa2fb184b589f096d8a3ee913c9": {
          "model_module": "@jupyter-widgets/controls",
          "model_name": "DescriptionStyleModel",
          "state": {
            "_view_name": "StyleView",
            "_model_name": "DescriptionStyleModel",
            "description_width": "",
            "_view_module": "@jupyter-widgets/base",
            "_model_module_version": "1.5.0",
            "_view_count": null,
            "_view_module_version": "1.2.0",
            "_model_module": "@jupyter-widgets/controls"
          }
        },
        "01eca69587994ef4be00733a188e65b5": {
          "model_module": "@jupyter-widgets/base",
          "model_name": "LayoutModel",
          "state": {
            "_view_name": "LayoutView",
            "grid_template_rows": null,
            "right": null,
            "justify_content": null,
            "_view_module": "@jupyter-widgets/base",
            "overflow": null,
            "_model_module_version": "1.2.0",
            "_view_count": null,
            "flex_flow": null,
            "width": null,
            "min_width": null,
            "border": null,
            "align_items": null,
            "bottom": null,
            "_model_module": "@jupyter-widgets/base",
            "top": null,
            "grid_column": null,
            "overflow_y": null,
            "overflow_x": null,
            "grid_auto_flow": null,
            "grid_area": null,
            "grid_template_columns": null,
            "flex": null,
            "_model_name": "LayoutModel",
            "justify_items": null,
            "grid_row": null,
            "max_height": null,
            "align_content": null,
            "visibility": null,
            "align_self": null,
            "height": null,
            "min_height": null,
            "padding": null,
            "grid_auto_rows": null,
            "grid_gap": null,
            "max_width": null,
            "order": null,
            "_view_module_version": "1.2.0",
            "grid_template_areas": null,
            "object_position": null,
            "object_fit": null,
            "grid_auto_columns": null,
            "margin": null,
            "display": null,
            "left": null
          }
        },
        "bea424ffe0fe4480a7f91e2cd779a4fd": {
          "model_module": "@jupyter-widgets/controls",
          "model_name": "HBoxModel",
          "state": {
            "_view_name": "HBoxView",
            "_dom_classes": [],
            "_model_name": "HBoxModel",
            "_view_module": "@jupyter-widgets/controls",
            "_model_module_version": "1.5.0",
            "_view_count": null,
            "_view_module_version": "1.5.0",
            "box_style": "",
            "layout": "IPY_MODEL_3c0d62af1aa643008066beea08ea3ae0",
            "_model_module": "@jupyter-widgets/controls",
            "children": [
              "IPY_MODEL_ce0c290febf343a3b336c8e7bdf4b121",
              "IPY_MODEL_31d480e7bad94362a5dd1b128ab3a3d7"
            ]
          }
        },
        "3c0d62af1aa643008066beea08ea3ae0": {
          "model_module": "@jupyter-widgets/base",
          "model_name": "LayoutModel",
          "state": {
            "_view_name": "LayoutView",
            "grid_template_rows": null,
            "right": null,
            "justify_content": null,
            "_view_module": "@jupyter-widgets/base",
            "overflow": null,
            "_model_module_version": "1.2.0",
            "_view_count": null,
            "flex_flow": null,
            "width": null,
            "min_width": null,
            "border": null,
            "align_items": null,
            "bottom": null,
            "_model_module": "@jupyter-widgets/base",
            "top": null,
            "grid_column": null,
            "overflow_y": null,
            "overflow_x": null,
            "grid_auto_flow": null,
            "grid_area": null,
            "grid_template_columns": null,
            "flex": null,
            "_model_name": "LayoutModel",
            "justify_items": null,
            "grid_row": null,
            "max_height": null,
            "align_content": null,
            "visibility": null,
            "align_self": null,
            "height": null,
            "min_height": null,
            "padding": null,
            "grid_auto_rows": null,
            "grid_gap": null,
            "max_width": null,
            "order": null,
            "_view_module_version": "1.2.0",
            "grid_template_areas": null,
            "object_position": null,
            "object_fit": null,
            "grid_auto_columns": null,
            "margin": null,
            "display": null,
            "left": null
          }
        },
        "ce0c290febf343a3b336c8e7bdf4b121": {
          "model_module": "@jupyter-widgets/controls",
          "model_name": "FloatProgressModel",
          "state": {
            "_view_name": "ProgressView",
            "style": "IPY_MODEL_cafb903cd1dd4bd7b717ea0c8f4a8ddc",
            "_dom_classes": [],
            "description": "100%",
            "_model_name": "FloatProgressModel",
            "bar_style": "success",
            "max": 10,
            "_view_module": "@jupyter-widgets/controls",
            "_model_module_version": "1.5.0",
            "value": 10,
            "_view_count": null,
            "_view_module_version": "1.5.0",
            "orientation": "horizontal",
            "min": 0,
            "description_tooltip": null,
            "_model_module": "@jupyter-widgets/controls",
            "layout": "IPY_MODEL_e32098aa41e64706b8a8043d373a5398"
          }
        },
        "31d480e7bad94362a5dd1b128ab3a3d7": {
          "model_module": "@jupyter-widgets/controls",
          "model_name": "HTMLModel",
          "state": {
            "_view_name": "HTMLView",
            "style": "IPY_MODEL_8ef94a39b9924455aef73d82c1b5d31c",
            "_dom_classes": [],
            "description": "",
            "_model_name": "HTMLModel",
            "placeholder": "​",
            "_view_module": "@jupyter-widgets/controls",
            "_model_module_version": "1.5.0",
            "value": " 10/10 [00:54&lt;00:00,  5.46s/it, train_acc=0.899, valid_acc=0.911, test_acc=0.886]",
            "_view_count": null,
            "_view_module_version": "1.5.0",
            "description_tooltip": null,
            "_model_module": "@jupyter-widgets/controls",
            "layout": "IPY_MODEL_4f5124de8611413b8e1a324fbb8299a3"
          }
        },
        "cafb903cd1dd4bd7b717ea0c8f4a8ddc": {
          "model_module": "@jupyter-widgets/controls",
          "model_name": "ProgressStyleModel",
          "state": {
            "_view_name": "StyleView",
            "_model_name": "ProgressStyleModel",
            "description_width": "initial",
            "_view_module": "@jupyter-widgets/base",
            "_model_module_version": "1.5.0",
            "_view_count": null,
            "_view_module_version": "1.2.0",
            "bar_color": null,
            "_model_module": "@jupyter-widgets/controls"
          }
        },
        "e32098aa41e64706b8a8043d373a5398": {
          "model_module": "@jupyter-widgets/base",
          "model_name": "LayoutModel",
          "state": {
            "_view_name": "LayoutView",
            "grid_template_rows": null,
            "right": null,
            "justify_content": null,
            "_view_module": "@jupyter-widgets/base",
            "overflow": null,
            "_model_module_version": "1.2.0",
            "_view_count": null,
            "flex_flow": null,
            "width": null,
            "min_width": null,
            "border": null,
            "align_items": null,
            "bottom": null,
            "_model_module": "@jupyter-widgets/base",
            "top": null,
            "grid_column": null,
            "overflow_y": null,
            "overflow_x": null,
            "grid_auto_flow": null,
            "grid_area": null,
            "grid_template_columns": null,
            "flex": null,
            "_model_name": "LayoutModel",
            "justify_items": null,
            "grid_row": null,
            "max_height": null,
            "align_content": null,
            "visibility": null,
            "align_self": null,
            "height": null,
            "min_height": null,
            "padding": null,
            "grid_auto_rows": null,
            "grid_gap": null,
            "max_width": null,
            "order": null,
            "_view_module_version": "1.2.0",
            "grid_template_areas": null,
            "object_position": null,
            "object_fit": null,
            "grid_auto_columns": null,
            "margin": null,
            "display": null,
            "left": null
          }
        },
        "8ef94a39b9924455aef73d82c1b5d31c": {
          "model_module": "@jupyter-widgets/controls",
          "model_name": "DescriptionStyleModel",
          "state": {
            "_view_name": "StyleView",
            "_model_name": "DescriptionStyleModel",
            "description_width": "",
            "_view_module": "@jupyter-widgets/base",
            "_model_module_version": "1.5.0",
            "_view_count": null,
            "_view_module_version": "1.2.0",
            "_model_module": "@jupyter-widgets/controls"
          }
        },
        "4f5124de8611413b8e1a324fbb8299a3": {
          "model_module": "@jupyter-widgets/base",
          "model_name": "LayoutModel",
          "state": {
            "_view_name": "LayoutView",
            "grid_template_rows": null,
            "right": null,
            "justify_content": null,
            "_view_module": "@jupyter-widgets/base",
            "overflow": null,
            "_model_module_version": "1.2.0",
            "_view_count": null,
            "flex_flow": null,
            "width": null,
            "min_width": null,
            "border": null,
            "align_items": null,
            "bottom": null,
            "_model_module": "@jupyter-widgets/base",
            "top": null,
            "grid_column": null,
            "overflow_y": null,
            "overflow_x": null,
            "grid_auto_flow": null,
            "grid_area": null,
            "grid_template_columns": null,
            "flex": null,
            "_model_name": "LayoutModel",
            "justify_items": null,
            "grid_row": null,
            "max_height": null,
            "align_content": null,
            "visibility": null,
            "align_self": null,
            "height": null,
            "min_height": null,
            "padding": null,
            "grid_auto_rows": null,
            "grid_gap": null,
            "max_width": null,
            "order": null,
            "_view_module_version": "1.2.0",
            "grid_template_areas": null,
            "object_position": null,
            "object_fit": null,
            "grid_auto_columns": null,
            "margin": null,
            "display": null,
            "left": null
          }
        },
        "70c2c93fb1f4446e9bbb463e48e7d736": {
          "model_module": "@jupyter-widgets/controls",
          "model_name": "HBoxModel",
          "state": {
            "_view_name": "HBoxView",
            "_dom_classes": [],
            "_model_name": "HBoxModel",
            "_view_module": "@jupyter-widgets/controls",
            "_model_module_version": "1.5.0",
            "_view_count": null,
            "_view_module_version": "1.5.0",
            "box_style": "",
            "layout": "IPY_MODEL_1ff9abb79c33414a8736c04d9ba32ecb",
            "_model_module": "@jupyter-widgets/controls",
            "children": [
              "IPY_MODEL_81c6a97fa10d48df9fcfe563367a93e5",
              "IPY_MODEL_6577ab0834204ed5be7e25684b61eb79"
            ]
          }
        },
        "1ff9abb79c33414a8736c04d9ba32ecb": {
          "model_module": "@jupyter-widgets/base",
          "model_name": "LayoutModel",
          "state": {
            "_view_name": "LayoutView",
            "grid_template_rows": null,
            "right": null,
            "justify_content": null,
            "_view_module": "@jupyter-widgets/base",
            "overflow": null,
            "_model_module_version": "1.2.0",
            "_view_count": null,
            "flex_flow": null,
            "width": null,
            "min_width": null,
            "border": null,
            "align_items": null,
            "bottom": null,
            "_model_module": "@jupyter-widgets/base",
            "top": null,
            "grid_column": null,
            "overflow_y": null,
            "overflow_x": null,
            "grid_auto_flow": null,
            "grid_area": null,
            "grid_template_columns": null,
            "flex": null,
            "_model_name": "LayoutModel",
            "justify_items": null,
            "grid_row": null,
            "max_height": null,
            "align_content": null,
            "visibility": null,
            "align_self": null,
            "height": null,
            "min_height": null,
            "padding": null,
            "grid_auto_rows": null,
            "grid_gap": null,
            "max_width": null,
            "order": null,
            "_view_module_version": "1.2.0",
            "grid_template_areas": null,
            "object_position": null,
            "object_fit": null,
            "grid_auto_columns": null,
            "margin": null,
            "display": null,
            "left": null
          }
        },
        "81c6a97fa10d48df9fcfe563367a93e5": {
          "model_module": "@jupyter-widgets/controls",
          "model_name": "FloatProgressModel",
          "state": {
            "_view_name": "ProgressView",
            "style": "IPY_MODEL_f80daaef00aa4351aebf5aa56e1349b6",
            "_dom_classes": [],
            "description": "100%",
            "_model_name": "FloatProgressModel",
            "bar_style": "success",
            "max": 10,
            "_view_module": "@jupyter-widgets/controls",
            "_model_module_version": "1.5.0",
            "value": 10,
            "_view_count": null,
            "_view_module_version": "1.5.0",
            "orientation": "horizontal",
            "min": 0,
            "description_tooltip": null,
            "_model_module": "@jupyter-widgets/controls",
            "layout": "IPY_MODEL_8e7ebcbf219649209f2e74818a98efc8"
          }
        },
        "6577ab0834204ed5be7e25684b61eb79": {
          "model_module": "@jupyter-widgets/controls",
          "model_name": "HTMLModel",
          "state": {
            "_view_name": "HTMLView",
            "style": "IPY_MODEL_804acb331e1a4634823b3b9be25b7ab4",
            "_dom_classes": [],
            "description": "",
            "_model_name": "HTMLModel",
            "placeholder": "​",
            "_view_module": "@jupyter-widgets/controls",
            "_model_module_version": "1.5.0",
            "value": " 10/10 [00:27&lt;00:00,  2.77s/it, train_acc=0.889, valid_acc=0.904, test_acc=0.884]",
            "_view_count": null,
            "_view_module_version": "1.5.0",
            "description_tooltip": null,
            "_model_module": "@jupyter-widgets/controls",
            "layout": "IPY_MODEL_343e9116442045d48778475d52655772"
          }
        },
        "f80daaef00aa4351aebf5aa56e1349b6": {
          "model_module": "@jupyter-widgets/controls",
          "model_name": "ProgressStyleModel",
          "state": {
            "_view_name": "StyleView",
            "_model_name": "ProgressStyleModel",
            "description_width": "initial",
            "_view_module": "@jupyter-widgets/base",
            "_model_module_version": "1.5.0",
            "_view_count": null,
            "_view_module_version": "1.2.0",
            "bar_color": null,
            "_model_module": "@jupyter-widgets/controls"
          }
        },
        "8e7ebcbf219649209f2e74818a98efc8": {
          "model_module": "@jupyter-widgets/base",
          "model_name": "LayoutModel",
          "state": {
            "_view_name": "LayoutView",
            "grid_template_rows": null,
            "right": null,
            "justify_content": null,
            "_view_module": "@jupyter-widgets/base",
            "overflow": null,
            "_model_module_version": "1.2.0",
            "_view_count": null,
            "flex_flow": null,
            "width": null,
            "min_width": null,
            "border": null,
            "align_items": null,
            "bottom": null,
            "_model_module": "@jupyter-widgets/base",
            "top": null,
            "grid_column": null,
            "overflow_y": null,
            "overflow_x": null,
            "grid_auto_flow": null,
            "grid_area": null,
            "grid_template_columns": null,
            "flex": null,
            "_model_name": "LayoutModel",
            "justify_items": null,
            "grid_row": null,
            "max_height": null,
            "align_content": null,
            "visibility": null,
            "align_self": null,
            "height": null,
            "min_height": null,
            "padding": null,
            "grid_auto_rows": null,
            "grid_gap": null,
            "max_width": null,
            "order": null,
            "_view_module_version": "1.2.0",
            "grid_template_areas": null,
            "object_position": null,
            "object_fit": null,
            "grid_auto_columns": null,
            "margin": null,
            "display": null,
            "left": null
          }
        },
        "804acb331e1a4634823b3b9be25b7ab4": {
          "model_module": "@jupyter-widgets/controls",
          "model_name": "DescriptionStyleModel",
          "state": {
            "_view_name": "StyleView",
            "_model_name": "DescriptionStyleModel",
            "description_width": "",
            "_view_module": "@jupyter-widgets/base",
            "_model_module_version": "1.5.0",
            "_view_count": null,
            "_view_module_version": "1.2.0",
            "_model_module": "@jupyter-widgets/controls"
          }
        },
        "343e9116442045d48778475d52655772": {
          "model_module": "@jupyter-widgets/base",
          "model_name": "LayoutModel",
          "state": {
            "_view_name": "LayoutView",
            "grid_template_rows": null,
            "right": null,
            "justify_content": null,
            "_view_module": "@jupyter-widgets/base",
            "overflow": null,
            "_model_module_version": "1.2.0",
            "_view_count": null,
            "flex_flow": null,
            "width": null,
            "min_width": null,
            "border": null,
            "align_items": null,
            "bottom": null,
            "_model_module": "@jupyter-widgets/base",
            "top": null,
            "grid_column": null,
            "overflow_y": null,
            "overflow_x": null,
            "grid_auto_flow": null,
            "grid_area": null,
            "grid_template_columns": null,
            "flex": null,
            "_model_name": "LayoutModel",
            "justify_items": null,
            "grid_row": null,
            "max_height": null,
            "align_content": null,
            "visibility": null,
            "align_self": null,
            "height": null,
            "min_height": null,
            "padding": null,
            "grid_auto_rows": null,
            "grid_gap": null,
            "max_width": null,
            "order": null,
            "_view_module_version": "1.2.0",
            "grid_template_areas": null,
            "object_position": null,
            "object_fit": null,
            "grid_auto_columns": null,
            "margin": null,
            "display": null,
            "left": null
          }
        },
        "80e5370e86e5452dae0351f67a997536": {
          "model_module": "@jupyter-widgets/controls",
          "model_name": "HBoxModel",
          "state": {
            "_view_name": "HBoxView",
            "_dom_classes": [],
            "_model_name": "HBoxModel",
            "_view_module": "@jupyter-widgets/controls",
            "_model_module_version": "1.5.0",
            "_view_count": null,
            "_view_module_version": "1.5.0",
            "box_style": "",
            "layout": "IPY_MODEL_9d547a520bc549daa14faf23cbace897",
            "_model_module": "@jupyter-widgets/controls",
            "children": [
              "IPY_MODEL_f1e6a96a45894cfe8cb890dde076f6cd",
              "IPY_MODEL_cc05ec15b6e349aa8cee525494d35cd6"
            ]
          }
        },
        "9d547a520bc549daa14faf23cbace897": {
          "model_module": "@jupyter-widgets/base",
          "model_name": "LayoutModel",
          "state": {
            "_view_name": "LayoutView",
            "grid_template_rows": null,
            "right": null,
            "justify_content": null,
            "_view_module": "@jupyter-widgets/base",
            "overflow": null,
            "_model_module_version": "1.2.0",
            "_view_count": null,
            "flex_flow": null,
            "width": null,
            "min_width": null,
            "border": null,
            "align_items": null,
            "bottom": null,
            "_model_module": "@jupyter-widgets/base",
            "top": null,
            "grid_column": null,
            "overflow_y": null,
            "overflow_x": null,
            "grid_auto_flow": null,
            "grid_area": null,
            "grid_template_columns": null,
            "flex": null,
            "_model_name": "LayoutModel",
            "justify_items": null,
            "grid_row": null,
            "max_height": null,
            "align_content": null,
            "visibility": null,
            "align_self": null,
            "height": null,
            "min_height": null,
            "padding": null,
            "grid_auto_rows": null,
            "grid_gap": null,
            "max_width": null,
            "order": null,
            "_view_module_version": "1.2.0",
            "grid_template_areas": null,
            "object_position": null,
            "object_fit": null,
            "grid_auto_columns": null,
            "margin": null,
            "display": null,
            "left": null
          }
        },
        "f1e6a96a45894cfe8cb890dde076f6cd": {
          "model_module": "@jupyter-widgets/controls",
          "model_name": "FloatProgressModel",
          "state": {
            "_view_name": "ProgressView",
            "style": "IPY_MODEL_0c44855f7e3c43d1a3b76ff985bc3e0a",
            "_dom_classes": [],
            "description": "100%",
            "_model_name": "FloatProgressModel",
            "bar_style": "success",
            "max": 10,
            "_view_module": "@jupyter-widgets/controls",
            "_model_module_version": "1.5.0",
            "value": 10,
            "_view_count": null,
            "_view_module_version": "1.5.0",
            "orientation": "horizontal",
            "min": 0,
            "description_tooltip": null,
            "_model_module": "@jupyter-widgets/controls",
            "layout": "IPY_MODEL_7a60e60a2ea7455ab9bc2887ec77fd09"
          }
        },
        "cc05ec15b6e349aa8cee525494d35cd6": {
          "model_module": "@jupyter-widgets/controls",
          "model_name": "HTMLModel",
          "state": {
            "_view_name": "HTMLView",
            "style": "IPY_MODEL_0a41eb158dae4ff5b953c0567ab38f7a",
            "_dom_classes": [],
            "description": "",
            "_model_name": "HTMLModel",
            "placeholder": "​",
            "_view_module": "@jupyter-widgets/controls",
            "_model_module_version": "1.5.0",
            "value": " 10/10 [00:13&lt;00:00,  1.39s/it, train_acc=0.877, valid_acc=0.898, test_acc=0.878]",
            "_view_count": null,
            "_view_module_version": "1.5.0",
            "description_tooltip": null,
            "_model_module": "@jupyter-widgets/controls",
            "layout": "IPY_MODEL_3d8a271085574974a2c6a7806f979cd1"
          }
        },
        "0c44855f7e3c43d1a3b76ff985bc3e0a": {
          "model_module": "@jupyter-widgets/controls",
          "model_name": "ProgressStyleModel",
          "state": {
            "_view_name": "StyleView",
            "_model_name": "ProgressStyleModel",
            "description_width": "initial",
            "_view_module": "@jupyter-widgets/base",
            "_model_module_version": "1.5.0",
            "_view_count": null,
            "_view_module_version": "1.2.0",
            "bar_color": null,
            "_model_module": "@jupyter-widgets/controls"
          }
        },
        "7a60e60a2ea7455ab9bc2887ec77fd09": {
          "model_module": "@jupyter-widgets/base",
          "model_name": "LayoutModel",
          "state": {
            "_view_name": "LayoutView",
            "grid_template_rows": null,
            "right": null,
            "justify_content": null,
            "_view_module": "@jupyter-widgets/base",
            "overflow": null,
            "_model_module_version": "1.2.0",
            "_view_count": null,
            "flex_flow": null,
            "width": null,
            "min_width": null,
            "border": null,
            "align_items": null,
            "bottom": null,
            "_model_module": "@jupyter-widgets/base",
            "top": null,
            "grid_column": null,
            "overflow_y": null,
            "overflow_x": null,
            "grid_auto_flow": null,
            "grid_area": null,
            "grid_template_columns": null,
            "flex": null,
            "_model_name": "LayoutModel",
            "justify_items": null,
            "grid_row": null,
            "max_height": null,
            "align_content": null,
            "visibility": null,
            "align_self": null,
            "height": null,
            "min_height": null,
            "padding": null,
            "grid_auto_rows": null,
            "grid_gap": null,
            "max_width": null,
            "order": null,
            "_view_module_version": "1.2.0",
            "grid_template_areas": null,
            "object_position": null,
            "object_fit": null,
            "grid_auto_columns": null,
            "margin": null,
            "display": null,
            "left": null
          }
        },
        "0a41eb158dae4ff5b953c0567ab38f7a": {
          "model_module": "@jupyter-widgets/controls",
          "model_name": "DescriptionStyleModel",
          "state": {
            "_view_name": "StyleView",
            "_model_name": "DescriptionStyleModel",
            "description_width": "",
            "_view_module": "@jupyter-widgets/base",
            "_model_module_version": "1.5.0",
            "_view_count": null,
            "_view_module_version": "1.2.0",
            "_model_module": "@jupyter-widgets/controls"
          }
        },
        "3d8a271085574974a2c6a7806f979cd1": {
          "model_module": "@jupyter-widgets/base",
          "model_name": "LayoutModel",
          "state": {
            "_view_name": "LayoutView",
            "grid_template_rows": null,
            "right": null,
            "justify_content": null,
            "_view_module": "@jupyter-widgets/base",
            "overflow": null,
            "_model_module_version": "1.2.0",
            "_view_count": null,
            "flex_flow": null,
            "width": null,
            "min_width": null,
            "border": null,
            "align_items": null,
            "bottom": null,
            "_model_module": "@jupyter-widgets/base",
            "top": null,
            "grid_column": null,
            "overflow_y": null,
            "overflow_x": null,
            "grid_auto_flow": null,
            "grid_area": null,
            "grid_template_columns": null,
            "flex": null,
            "_model_name": "LayoutModel",
            "justify_items": null,
            "grid_row": null,
            "max_height": null,
            "align_content": null,
            "visibility": null,
            "align_self": null,
            "height": null,
            "min_height": null,
            "padding": null,
            "grid_auto_rows": null,
            "grid_gap": null,
            "max_width": null,
            "order": null,
            "_view_module_version": "1.2.0",
            "grid_template_areas": null,
            "object_position": null,
            "object_fit": null,
            "grid_auto_columns": null,
            "margin": null,
            "display": null,
            "left": null
          }
        },
        "83374c94bd074d7888dc0b8fc6d0cc84": {
          "model_module": "@jupyter-widgets/controls",
          "model_name": "HBoxModel",
          "state": {
            "_view_name": "HBoxView",
            "_dom_classes": [],
            "_model_name": "HBoxModel",
            "_view_module": "@jupyter-widgets/controls",
            "_model_module_version": "1.5.0",
            "_view_count": null,
            "_view_module_version": "1.5.0",
            "box_style": "",
            "layout": "IPY_MODEL_7be46238cad54252a8c024886d975708",
            "_model_module": "@jupyter-widgets/controls",
            "children": [
              "IPY_MODEL_ad718a075204476b8a5ac4695418faa8",
              "IPY_MODEL_976a74750ee044c38465f757e3b80d3f"
            ]
          }
        },
        "7be46238cad54252a8c024886d975708": {
          "model_module": "@jupyter-widgets/base",
          "model_name": "LayoutModel",
          "state": {
            "_view_name": "LayoutView",
            "grid_template_rows": null,
            "right": null,
            "justify_content": null,
            "_view_module": "@jupyter-widgets/base",
            "overflow": null,
            "_model_module_version": "1.2.0",
            "_view_count": null,
            "flex_flow": null,
            "width": null,
            "min_width": null,
            "border": null,
            "align_items": null,
            "bottom": null,
            "_model_module": "@jupyter-widgets/base",
            "top": null,
            "grid_column": null,
            "overflow_y": null,
            "overflow_x": null,
            "grid_auto_flow": null,
            "grid_area": null,
            "grid_template_columns": null,
            "flex": null,
            "_model_name": "LayoutModel",
            "justify_items": null,
            "grid_row": null,
            "max_height": null,
            "align_content": null,
            "visibility": null,
            "align_self": null,
            "height": null,
            "min_height": null,
            "padding": null,
            "grid_auto_rows": null,
            "grid_gap": null,
            "max_width": null,
            "order": null,
            "_view_module_version": "1.2.0",
            "grid_template_areas": null,
            "object_position": null,
            "object_fit": null,
            "grid_auto_columns": null,
            "margin": null,
            "display": null,
            "left": null
          }
        },
        "ad718a075204476b8a5ac4695418faa8": {
          "model_module": "@jupyter-widgets/controls",
          "model_name": "FloatProgressModel",
          "state": {
            "_view_name": "ProgressView",
            "style": "IPY_MODEL_bf3fdabd4bba4b5da28964ef82dcb37f",
            "_dom_classes": [],
            "description": "100%",
            "_model_name": "FloatProgressModel",
            "bar_style": "success",
            "max": 30,
            "_view_module": "@jupyter-widgets/controls",
            "_model_module_version": "1.5.0",
            "value": 30,
            "_view_count": null,
            "_view_module_version": "1.5.0",
            "orientation": "horizontal",
            "min": 0,
            "description_tooltip": null,
            "_model_module": "@jupyter-widgets/controls",
            "layout": "IPY_MODEL_d50e35e5d8a14d16ba3c2cd9ad15ddad"
          }
        },
        "976a74750ee044c38465f757e3b80d3f": {
          "model_module": "@jupyter-widgets/controls",
          "model_name": "HTMLModel",
          "state": {
            "_view_name": "HTMLView",
            "style": "IPY_MODEL_a82cc9f9b473484b933532d99814f409",
            "_dom_classes": [],
            "description": "",
            "_model_name": "HTMLModel",
            "placeholder": "​",
            "_view_module": "@jupyter-widgets/controls",
            "_model_module_version": "1.5.0",
            "value": " 30/30 [00:12&lt;00:00,  2.40it/s, train_acc=0.9, valid_acc=0.907, test_acc=0.875]",
            "_view_count": null,
            "_view_module_version": "1.5.0",
            "description_tooltip": null,
            "_model_module": "@jupyter-widgets/controls",
            "layout": "IPY_MODEL_9c6b0c12e88d4f56af7294d2c8d88987"
          }
        },
        "bf3fdabd4bba4b5da28964ef82dcb37f": {
          "model_module": "@jupyter-widgets/controls",
          "model_name": "ProgressStyleModel",
          "state": {
            "_view_name": "StyleView",
            "_model_name": "ProgressStyleModel",
            "description_width": "initial",
            "_view_module": "@jupyter-widgets/base",
            "_model_module_version": "1.5.0",
            "_view_count": null,
            "_view_module_version": "1.2.0",
            "bar_color": null,
            "_model_module": "@jupyter-widgets/controls"
          }
        },
        "d50e35e5d8a14d16ba3c2cd9ad15ddad": {
          "model_module": "@jupyter-widgets/base",
          "model_name": "LayoutModel",
          "state": {
            "_view_name": "LayoutView",
            "grid_template_rows": null,
            "right": null,
            "justify_content": null,
            "_view_module": "@jupyter-widgets/base",
            "overflow": null,
            "_model_module_version": "1.2.0",
            "_view_count": null,
            "flex_flow": null,
            "width": null,
            "min_width": null,
            "border": null,
            "align_items": null,
            "bottom": null,
            "_model_module": "@jupyter-widgets/base",
            "top": null,
            "grid_column": null,
            "overflow_y": null,
            "overflow_x": null,
            "grid_auto_flow": null,
            "grid_area": null,
            "grid_template_columns": null,
            "flex": null,
            "_model_name": "LayoutModel",
            "justify_items": null,
            "grid_row": null,
            "max_height": null,
            "align_content": null,
            "visibility": null,
            "align_self": null,
            "height": null,
            "min_height": null,
            "padding": null,
            "grid_auto_rows": null,
            "grid_gap": null,
            "max_width": null,
            "order": null,
            "_view_module_version": "1.2.0",
            "grid_template_areas": null,
            "object_position": null,
            "object_fit": null,
            "grid_auto_columns": null,
            "margin": null,
            "display": null,
            "left": null
          }
        },
        "a82cc9f9b473484b933532d99814f409": {
          "model_module": "@jupyter-widgets/controls",
          "model_name": "DescriptionStyleModel",
          "state": {
            "_view_name": "StyleView",
            "_model_name": "DescriptionStyleModel",
            "description_width": "",
            "_view_module": "@jupyter-widgets/base",
            "_model_module_version": "1.5.0",
            "_view_count": null,
            "_view_module_version": "1.2.0",
            "_model_module": "@jupyter-widgets/controls"
          }
        },
        "9c6b0c12e88d4f56af7294d2c8d88987": {
          "model_module": "@jupyter-widgets/base",
          "model_name": "LayoutModel",
          "state": {
            "_view_name": "LayoutView",
            "grid_template_rows": null,
            "right": null,
            "justify_content": null,
            "_view_module": "@jupyter-widgets/base",
            "overflow": null,
            "_model_module_version": "1.2.0",
            "_view_count": null,
            "flex_flow": null,
            "width": null,
            "min_width": null,
            "border": null,
            "align_items": null,
            "bottom": null,
            "_model_module": "@jupyter-widgets/base",
            "top": null,
            "grid_column": null,
            "overflow_y": null,
            "overflow_x": null,
            "grid_auto_flow": null,
            "grid_area": null,
            "grid_template_columns": null,
            "flex": null,
            "_model_name": "LayoutModel",
            "justify_items": null,
            "grid_row": null,
            "max_height": null,
            "align_content": null,
            "visibility": null,
            "align_self": null,
            "height": null,
            "min_height": null,
            "padding": null,
            "grid_auto_rows": null,
            "grid_gap": null,
            "max_width": null,
            "order": null,
            "_view_module_version": "1.2.0",
            "grid_template_areas": null,
            "object_position": null,
            "object_fit": null,
            "grid_auto_columns": null,
            "margin": null,
            "display": null,
            "left": null
          }
        }
      }
    },
    "accelerator": "GPU"
  },
  "cells": [
    {
      "cell_type": "markdown",
      "metadata": {
        "id": "6UNJrNF5Gm7z"
      },
      "source": [
        "# Prepare"
      ]
    },
    {
      "cell_type": "code",
      "metadata": {
        "id": "nDcEqkr8O_Lq"
      },
      "source": [
        "# !pip install -U gdown"
      ],
      "execution_count": 1,
      "outputs": []
    },
    {
      "cell_type": "code",
      "metadata": {
        "id": "1npQBNT4FXs5",
        "outputId": "d63502ff-30e3-406f-c56d-de74785625e6",
        "colab": {
          "base_uri": "https://localhost:8080/",
          "height": 85
        }
      },
      "source": [
        "# donwload word2vec\n",
        "import gdown\n",
        "url = 'https://drive.google.com/u/0/uc?export=download&confirm=xJKk&id=0B7XkCwpI5KDYNlNUTTlSS21pQmM'\n",
        "output = 'GoogleNews-vectors-negative300.bin.gz'\n",
        "gdown.download(url, output, quiet=False)\n",
        "!gzip -d '/content/GoogleNews-vectors-negative300.bin.gz'"
      ],
      "execution_count": 2,
      "outputs": [
        {
          "output_type": "stream",
          "text": [
            "Downloading...\n",
            "From: https://drive.google.com/u/0/uc?export=download&confirm=xJKk&id=0B7XkCwpI5KDYNlNUTTlSS21pQmM\n",
            "To: /content/GoogleNews-vectors-negative300.bin.gz\n",
            "1.65GB [00:23, 68.8MB/s]\n"
          ],
          "name": "stderr"
        }
      ]
    },
    {
      "cell_type": "code",
      "metadata": {
        "id": "6ElprD1QF4a_",
        "outputId": "ebfc83fb-4e63-4e3c-acf9-82b67c5a9ac5",
        "colab": {
          "base_uri": "https://localhost:8080/",
          "height": 34
        }
      },
      "source": [
        "# test.txt, train.txt, valid.txt made at ch6\n",
        "!ls '/content/'"
      ],
      "execution_count": 3,
      "outputs": [
        {
          "output_type": "stream",
          "text": [
            "GoogleNews-vectors-negative300.bin  sample_data  test.txt  train.txt  valid.txt\n"
          ],
          "name": "stdout"
        }
      ]
    },
    {
      "cell_type": "code",
      "metadata": {
        "id": "-lIn2woeGIUq"
      },
      "source": [
        "import pandas as pd\n",
        "train_df = pd.read_csv('train.txt', delimiter='\\t')\n",
        "valid_df = pd.read_csv('valid.txt', delimiter='\\t')\n",
        "test_df = pd.read_csv('test.txt', delimiter='\\t')"
      ],
      "execution_count": 4,
      "outputs": []
    },
    {
      "cell_type": "code",
      "metadata": {
        "id": "FezoDFUhH3Iv"
      },
      "source": [
        "import spacy\n",
        "nlp = spacy.load('en_core_web_sm')"
      ],
      "execution_count": 5,
      "outputs": []
    },
    {
      "cell_type": "code",
      "metadata": {
        "id": "OIgn5DO9IGsb"
      },
      "source": [
        "import re\n",
        "import time\n",
        "from pathlib import Path\n",
        "\n",
        "import numpy as np\n",
        "import gensim\n",
        "import pickle\n",
        "import scipy\n",
        "\n",
        "from tqdm.auto import tqdm\n",
        "\n",
        "import torch\n",
        "import torch.nn as nn\n",
        "from torch.utils.data import TensorDataset, DataLoader\n",
        "\n",
        "from sklearn.metrics import accuracy_score\n",
        "\n",
        "import matplotlib.pyplot as plt"
      ],
      "execution_count": 6,
      "outputs": []
    },
    {
      "cell_type": "markdown",
      "metadata": {
        "id": "Ta5K2rwoGprx"
      },
      "source": [
        "# 70"
      ]
    },
    {
      "cell_type": "markdown",
      "metadata": {
        "id": "HU3LnQ-uG7c7"
      },
      "source": [
        "特徴量ベクトルとラベルの保存\n",
        "- b = business, t = science and technology, e = entertainment, m = health"
      ]
    },
    {
      "cell_type": "code",
      "metadata": {
        "id": "nhqsytMPGeLM"
      },
      "source": [
        "category_map = {'b': 0, 't': 1, 'e':2, 'm': 3}\n",
        "train_df['category'] = train_df['category'].map(category_map)\n",
        "valid_df['category'] = valid_df['category'].map(category_map)\n",
        "test_df['category'] = test_df['category'].map(category_map)"
      ],
      "execution_count": 7,
      "outputs": []
    },
    {
      "cell_type": "code",
      "metadata": {
        "id": "yFDE3JJtGvnf"
      },
      "source": [
        "# 第6章と同様に前処理\n",
        "# ulrの削除\n",
        "def remove_url(text):\n",
        "    url_pat = r'http[s]?://(?:[a-zA-Z]|[0-9]|[$-_@.&+]|[!*\\(\\),]|(?:%[0-9a-fA-F][0-9a-fA-F]))+'\n",
        "    text = re.sub(url_pat, ' ', text)\n",
        "    return text\n",
        "\n",
        "# 小文字化\n",
        "def lower_text(text):\n",
        "    return text.lower()\n",
        "\n",
        "# トークン化\n",
        "def tokenize(text):\n",
        "    tokens = ' '.join([str(token) for token in nlp.make_doc(text) if str(token) != ' '])\n",
        "    return tokens\n",
        "\n",
        "def preporcessing(text):\n",
        "    text = lower_text(text)\n",
        "    text = remove_url(text)\n",
        "    tokens = tokenize(text)\n",
        "    return tokens"
      ],
      "execution_count": 8,
      "outputs": []
    },
    {
      "cell_type": "code",
      "metadata": {
        "id": "G_q19oLIHn87"
      },
      "source": [
        "train_title_tokenized = train_df['title'].map(preporcessing)\n",
        "valid_title_tokenized = valid_df['title'].map(preporcessing)\n",
        "test_title_tokenized = test_df['title'].map(preporcessing)"
      ],
      "execution_count": 9,
      "outputs": []
    },
    {
      "cell_type": "code",
      "metadata": {
        "id": "PDAfhFdPIqtV",
        "outputId": "c2ef8707-a1d3-4b0a-cb46-741574fa6ca6",
        "colab": {
          "base_uri": "https://localhost:8080/",
          "height": 71
        }
      },
      "source": [
        "# embeddingのロード\n",
        "model = gensim.models.KeyedVectors.load_word2vec_format('/content/GoogleNews-vectors-negative300.bin', binary=True)"
      ],
      "execution_count": 10,
      "outputs": [
        {
          "output_type": "stream",
          "text": [
            "/usr/local/lib/python3.6/dist-packages/smart_open/smart_open_lib.py:252: UserWarning: This function is deprecated, use smart_open.open instead. See the migration notes for details: https://github.com/RaRe-Technologies/smart_open/blob/master/README.rst#migrating-to-the-new-open-function\n",
            "  'See the migration notes for details: %s' % _MIGRATION_NOTES_URL\n"
          ],
          "name": "stderr"
        }
      ]
    },
    {
      "cell_type": "code",
      "metadata": {
        "id": "GZExw3iGJt0w"
      },
      "source": [
        "# inputするベクトルはtitleの単語ベクトルの平均\n",
        "def get_avg_vector(text):\n",
        "    vecs = []\n",
        "    tokens = text.strip().split()\n",
        "    for token in tokens:\n",
        "        if model.vocab.get(token):\n",
        "            vecs.append(model.get_vector(token))\n",
        "\n",
        "    if vecs == []:\n",
        "        raise ValueError\n",
        "\n",
        "    return np.vstack(vecs).mean(axis=0)"
      ],
      "execution_count": 14,
      "outputs": []
    },
    {
      "cell_type": "code",
      "metadata": {
        "id": "QnpnmurWNpdJ"
      },
      "source": [
        "x_train = np.array(train_title_tokenized.map(get_avg_vector).to_list())\n",
        "y_train = train_df['category'].values\n",
        "\n",
        "x_valid = np.array(valid_title_tokenized.map(get_avg_vector).to_list())\n",
        "y_valid = valid_df['category'].values\n",
        "\n",
        "x_test = np.array(test_title_tokenized.map(get_avg_vector).to_list())\n",
        "y_test = test_df['category'].values"
      ],
      "execution_count": 15,
      "outputs": []
    },
    {
      "cell_type": "code",
      "metadata": {
        "id": "HJ80XrR_Otuf"
      },
      "source": [
        "with open('train.pkl', 'wb') as f:\n",
        "    pickle.dump((x_train, y_train), f)\n",
        "\n",
        "with open('valid.pkl', 'wb') as f:\n",
        "    pickle.dump((x_valid, y_valid), f)\n",
        "\n",
        "with open('test.pkl', 'wb') as f:\n",
        "    pickle.dump((x_test, y_test), f)"
      ],
      "execution_count": 16,
      "outputs": []
    },
    {
      "cell_type": "markdown",
      "metadata": {
        "id": "yqP46RZpPvoT"
      },
      "source": [
        "# 71 - 72\n",
        "単層NNによる予測\n",
        "- 出力値の確認\n",
        "- 損失と勾配の計算"
      ]
    },
    {
      "cell_type": "code",
      "metadata": {
        "id": "1kT-CHc8PtsV"
      },
      "source": [
        "with open('train.pkl', 'rb') as f:\n",
        "    x_train, y_train = pickle.load(f)\n",
        "\n",
        "with open('valid.pkl', 'rb') as f:\n",
        "    x_valid, y_valid = pickle.load(f)\n",
        "\n",
        "with open('test.pkl', 'rb') as f:\n",
        "    x_test, y_test = pickle.load(f)"
      ],
      "execution_count": 17,
      "outputs": []
    },
    {
      "cell_type": "code",
      "metadata": {
        "id": "njA6RuvDEgIi",
        "outputId": "7cc6e4f2-4634-4fe7-cd73-beab43bc030c",
        "colab": {
          "base_uri": "https://localhost:8080/",
          "height": 34
        }
      },
      "source": [
        "# LogisticRegressionでの参考値\n",
        "from sklearn.linear_model import LogisticRegression\n",
        "clf = LogisticRegression(max_iter=1000)\n",
        "clf.fit(x_train, y_train)\n",
        "valid_preds = clf.predict(x_valid)\n",
        "print(accuracy_score(y_valid, valid_preds))"
      ],
      "execution_count": 18,
      "outputs": [
        {
          "output_type": "stream",
          "text": [
            "0.9098621420996819\n"
          ],
          "name": "stdout"
        }
      ]
    },
    {
      "cell_type": "code",
      "metadata": {
        "id": "78lG3Ip-XkBP"
      },
      "source": [
        "# tensort化\n",
        "x_train = torch.tensor(x_train)\n",
        "y_train = torch.tensor(y_train)\n",
        "\n",
        "x_valid = torch.tensor(x_valid)\n",
        "y_valid = torch.tensor(y_valid)\n",
        "\n",
        "x_test = torch.tensor(x_test)\n",
        "y_test = torch.tensor(y_test)"
      ],
      "execution_count": 19,
      "outputs": []
    },
    {
      "cell_type": "code",
      "metadata": {
        "id": "uTnvI975_1PY"
      },
      "source": [
        "class SingleLayerPerceptron(nn.Module):\n",
        "    def __init__(self):\n",
        "        super().__init__()\n",
        "\n",
        "        self.fc = nn.Linear(300, 5, bias=False)\n",
        "    \n",
        "    def forward(self, x):\n",
        "        return self.fc(x)"
      ],
      "execution_count": 20,
      "outputs": []
    },
    {
      "cell_type": "code",
      "metadata": {
        "id": "EjZPpbYNAPnS"
      },
      "source": [
        "model = SingleLayerPerceptron()"
      ],
      "execution_count": 21,
      "outputs": []
    },
    {
      "cell_type": "code",
      "metadata": {
        "id": "1eFQgisiA--1",
        "outputId": "b5dd536e-1e86-4a8f-d64c-33e4e11549c8",
        "colab": {
          "base_uri": "https://localhost:8080/",
          "height": 34
        }
      },
      "source": [
        "with torch.no_grad():\n",
        "    y_hat = model(x_train[0])\n",
        "torch.softmax(y_hat, dim=-1)"
      ],
      "execution_count": 22,
      "outputs": [
        {
          "output_type": "execute_result",
          "data": {
            "text/plain": [
              "tensor([0.2014, 0.1981, 0.1980, 0.1981, 0.2044])"
            ]
          },
          "metadata": {
            "tags": []
          },
          "execution_count": 22
        }
      ]
    },
    {
      "cell_type": "code",
      "metadata": {
        "id": "v1bHYjTXAZfK",
        "outputId": "87430735-467f-4c35-815e-1321d72d36ad",
        "colab": {
          "base_uri": "https://localhost:8080/",
          "height": 85
        }
      },
      "source": [
        "with torch.no_grad():\n",
        "    y_hat = model(x_train[0:4])\n",
        "torch.softmax(y_hat, dim=-1)"
      ],
      "execution_count": 23,
      "outputs": [
        {
          "output_type": "execute_result",
          "data": {
            "text/plain": [
              "tensor([[0.2014, 0.1981, 0.1980, 0.1981, 0.2044],\n",
              "        [0.1987, 0.2024, 0.2018, 0.1968, 0.2002],\n",
              "        [0.2026, 0.2009, 0.1968, 0.2025, 0.1972],\n",
              "        [0.1930, 0.2104, 0.1933, 0.2043, 0.1990]])"
            ]
          },
          "metadata": {
            "tags": []
          },
          "execution_count": 23
        }
      ]
    },
    {
      "cell_type": "code",
      "metadata": {
        "id": "_iTlFNWyBFx0"
      },
      "source": [
        "criterion = nn.CrossEntropyLoss()"
      ],
      "execution_count": 24,
      "outputs": []
    },
    {
      "cell_type": "code",
      "metadata": {
        "id": "javJYNRWCLOk"
      },
      "source": [
        "model.zero_grad()"
      ],
      "execution_count": 25,
      "outputs": []
    },
    {
      "cell_type": "code",
      "metadata": {
        "id": "Ym9LTGVLBTww"
      },
      "source": [
        "y_hat = model(x_train[:1])"
      ],
      "execution_count": 26,
      "outputs": []
    },
    {
      "cell_type": "code",
      "metadata": {
        "id": "ZwNamjm0BcBU"
      },
      "source": [
        "loss = criterion(y_hat, y_train[:1])"
      ],
      "execution_count": 27,
      "outputs": []
    },
    {
      "cell_type": "code",
      "metadata": {
        "id": "Cbyq5Gy3B1s7"
      },
      "source": [
        "loss.backward()"
      ],
      "execution_count": 28,
      "outputs": []
    },
    {
      "cell_type": "code",
      "metadata": {
        "id": "YhT-U59LB0Kq",
        "outputId": "e83128a3-202b-4d2d-a2cb-6b1033fe3452",
        "colab": {
          "base_uri": "https://localhost:8080/",
          "height": 136
        }
      },
      "source": [
        "print('loss:',loss.item())\n",
        "print('grad:\\n',model.fc.weight.grad)"
      ],
      "execution_count": 29,
      "outputs": [
        {
          "output_type": "stream",
          "text": [
            "loss: 1.619483232498169\n",
            "grad:\n",
            " tensor([[-0.0184,  0.0183,  0.0020,  ..., -0.0115, -0.0083,  0.0275],\n",
            "        [-0.0181,  0.0180,  0.0020,  ..., -0.0114, -0.0082,  0.0271],\n",
            "        [ 0.0732, -0.0728, -0.0080,  ...,  0.0460,  0.0332, -0.1096],\n",
            "        [-0.0181,  0.0180,  0.0020,  ..., -0.0114, -0.0082,  0.0271],\n",
            "        [-0.0187,  0.0186,  0.0020,  ..., -0.0117, -0.0085,  0.0279]])\n"
          ],
          "name": "stdout"
        }
      ]
    },
    {
      "cell_type": "code",
      "metadata": {
        "id": "hJANEyg0CSP3"
      },
      "source": [
        "model.zero_grad()\n",
        "y_hat = model(x_train[0:4])\n",
        "loss = criterion(y_hat, y_train[0:4])\n",
        "loss.backward()"
      ],
      "execution_count": 30,
      "outputs": []
    },
    {
      "cell_type": "code",
      "metadata": {
        "id": "0KgsZIwQCvR4",
        "outputId": "fba5d7a8-7a1a-4693-e8f3-37420037b136",
        "colab": {
          "base_uri": "https://localhost:8080/",
          "height": 136
        }
      },
      "source": [
        "print('loss:',loss.item())\n",
        "print('grad:\\n',model.fc.weight.grad)"
      ],
      "execution_count": 31,
      "outputs": [
        {
          "output_type": "stream",
          "text": [
            "loss: 1.6149988174438477\n",
            "grad:\n",
            " tensor([[-0.0125,  0.0030, -0.0010,  ..., -0.0053,  0.0119,  0.0073],\n",
            "        [ 0.0054,  0.0095, -0.0004,  ..., -0.0070, -0.0025,  0.0039],\n",
            "        [-0.0034, -0.0315,  0.0021,  ...,  0.0262, -0.0042, -0.0194],\n",
            "        [ 0.0053,  0.0094, -0.0003,  ..., -0.0069, -0.0026,  0.0040],\n",
            "        [ 0.0051,  0.0096, -0.0004,  ..., -0.0069, -0.0026,  0.0043]])\n"
          ],
          "name": "stdout"
        }
      ]
    },
    {
      "cell_type": "markdown",
      "metadata": {
        "id": "pUXVsfC1bg1o"
      },
      "source": [
        "# 73-76\n",
        "- 100エポックでランダムに初期化した行列を最適化して、検証データの正解率を確認する 。各エポックでのlossと正解率を計算する\n",
        "- エポックの毎の重み行列とオプティマイザの状態を保存する"
      ]
    },
    {
      "cell_type": "code",
      "metadata": {
        "id": "SJyLuoIQOjqw"
      },
      "source": [
        "save_dir = Path('./checkpoint')\n",
        "save_dir.mkdir(exist_ok=True)"
      ],
      "execution_count": 32,
      "outputs": []
    },
    {
      "cell_type": "code",
      "metadata": {
        "id": "FuVa3ZZaEK-G"
      },
      "source": [
        "def evaluate_accuracy(model, y, x):\n",
        "    with torch.no_grad():\n",
        "        y_hat = model(x)\n",
        "    return accuracy_score(y.numpy(), torch.argmax(y_hat, axis=-1).numpy())\n",
        "\n",
        "def evaluate_loss(model, criterion, y, x):\n",
        "    with torch.no_grad():\n",
        "        y_hat = model(x)\n",
        "        return float(criterion(y_hat, y).numpy())"
      ],
      "execution_count": 33,
      "outputs": []
    },
    {
      "cell_type": "code",
      "metadata": {
        "id": "R7k54WePc41B",
        "outputId": "31507ecb-763f-48a6-8607-108af163e508",
        "colab": {
          "base_uri": "https://localhost:8080/",
          "height": 66,
          "referenced_widgets": [
            "d202e0ff5d6a45f58d903698150548c4",
            "1f3677785bda44fa8de05a69899234b4",
            "460b6d0d799b409da6a405b01a9cf63f",
            "610ba83c43d34990a786b30827bde0a4",
            "99e3168fe08e4e1b9af4f539418b38e4",
            "f6fbb1d78f414cee89b478dc763806fb",
            "e23ddaa680234e6ebb44c933e7306fab",
            "53859525c1cb4ec49c3d3faf76e47703"
          ]
        }
      },
      "source": [
        "model = SingleLayerPerceptron()\n",
        "\n",
        "acc_epcohs = []\n",
        "losses_epochs = []\n",
        "\n",
        "model.zero_grad()\n",
        "optimizer = torch.optim.SGD(model.parameters(), lr=1e-1)\n",
        "\n",
        "losses = []\n",
        "with tqdm(range(300)) as pbar:\n",
        "    for epoch in pbar:\n",
        "        optimizer.zero_grad()\n",
        "\n",
        "        y_hat = model(x_train)\n",
        "        loss = criterion(y_hat, y_train)\n",
        "        loss.backward()\n",
        "        optimizer.step()\n",
        "\n",
        "        # save\n",
        "        torch.save(optimizer.state_dict(), save_dir/f'epoch_{epoch}_optimizer.pth')\n",
        "        torch.save(model.state_dict(), save_dir/f'epoch_{epoch}_model.pth')\n",
        "\n",
        "        acc_score = {}\n",
        "        acc_score['train_acc'] = evaluate_accuracy(model, y_train, x_train)\n",
        "        acc_score['valid_acc'] = evaluate_accuracy(model, y_valid, x_valid)\n",
        "        acc_score['test_acc'] = evaluate_accuracy(model, y_test, x_test)\n",
        "        acc_epcohs.append(acc_score)\n",
        "        \n",
        "        losses = {}\n",
        "        losses['train_loss'] = evaluate_loss(model, criterion, y_train, x_train)\n",
        "        losses['valid_loss'] = evaluate_loss(model, criterion, y_valid, x_valid)\n",
        "        losses['test_loss'] = evaluate_loss(model, criterion, y_test, x_test)\n",
        "        losses_epochs.append(losses)\n",
        "\n",
        "        pbar.set_postfix(acc_score)"
      ],
      "execution_count": 34,
      "outputs": [
        {
          "output_type": "display_data",
          "data": {
            "application/vnd.jupyter.widget-view+json": {
              "model_id": "d202e0ff5d6a45f58d903698150548c4",
              "version_minor": 0,
              "version_major": 2
            },
            "text/plain": [
              "HBox(children=(FloatProgress(value=0.0, max=300.0), HTML(value='')))"
            ]
          },
          "metadata": {
            "tags": []
          }
        },
        {
          "output_type": "stream",
          "text": [
            "\n"
          ],
          "name": "stdout"
        }
      ]
    },
    {
      "cell_type": "code",
      "metadata": {
        "id": "o_NtfMpmNZCo"
      },
      "source": [
        "acc_df = pd.DataFrame(acc_epcohs)\n",
        "loss_df = pd.DataFrame(losses_epochs)"
      ],
      "execution_count": 35,
      "outputs": []
    },
    {
      "cell_type": "code",
      "metadata": {
        "id": "oRlznWDdd6wL",
        "outputId": "97256d4f-a321-46c8-ca74-c14b5cbec1e3",
        "colab": {
          "base_uri": "https://localhost:8080/",
          "height": 282
        }
      },
      "source": [
        "acc_df.plot()"
      ],
      "execution_count": 36,
      "outputs": [
        {
          "output_type": "execute_result",
          "data": {
            "text/plain": [
              "<matplotlib.axes._subplots.AxesSubplot at 0x7fbc25072be0>"
            ]
          },
          "metadata": {
            "tags": []
          },
          "execution_count": 36
        },
        {
          "output_type": "display_data",
          "data": {
            "image/png": "[encoded data removed]",
            "text/plain": [
              "<Figure size 432x288 with 1 Axes>"
            ]
          },
          "metadata": {
            "tags": [],
            "needs_background": "light"
          }
        }
      ]
    },
    {
      "cell_type": "code",
      "metadata": {
        "id": "3y_mfBYPNqu_",
        "outputId": "98a58bd6-f10f-4dd2-bc89-8629f8c710d4",
        "colab": {
          "base_uri": "https://localhost:8080/",
          "height": 282
        }
      },
      "source": [
        "loss_df.plot()"
      ],
      "execution_count": 37,
      "outputs": [
        {
          "output_type": "execute_result",
          "data": {
            "text/plain": [
              "<matplotlib.axes._subplots.AxesSubplot at 0x7fbc24e877b8>"
            ]
          },
          "metadata": {
            "tags": []
          },
          "execution_count": 37
        },
        {
          "output_type": "display_data",
          "data": {
            "image/png": "[encoded data removed]",
            "text/plain": [
              "<Figure size 432x288 with 1 Axes>"
            ]
          },
          "metadata": {
            "tags": [],
            "needs_background": "light"
          }
        }
      ]
    },
    {
      "cell_type": "markdown",
      "metadata": {
        "id": "EM6a9IMEhjNW"
      },
      "source": [
        "# 77 ミニバッチ化\n",
        "バッチ化して処理時間の遷移を比較する"
      ]
    },
    {
      "cell_type": "code",
      "metadata": {
        "id": "r6QjUa8DHnRP"
      },
      "source": [
        "class Trainer:\n",
        "    def __init__(self, model, batch_size, num_epoch):\n",
        "        self.trn_ds = TensorDataset(x_train, y_train)\n",
        "        self.trn_dl = DataLoader(self.trn_ds, batch_size=batch_size)\n",
        "\n",
        "        self.val_ds = TensorDataset(x_valid, y_valid)\n",
        "        self.val_dl = DataLoader(self.val_ds, batch_size=batch_size)\n",
        "\n",
        "        self.test_ds = TensorDataset(x_test, y_test)\n",
        "        self.test_dl = DataLoader(self.test_ds, batch_size=batch_size)\n",
        "\n",
        "        self.model = model\n",
        "        self.num_epoch = num_epoch\n",
        "        self.optimizer = torch.optim.SGD(model.parameters(), lr=1e-1)\n",
        "        self.criterion = nn.CrossEntropyLoss()\n",
        "\n",
        "    def batch_step(self):\n",
        "        for xs, ys in self.trn_dl:\n",
        "            self.optimizer.zero_grad()\n",
        "            \n",
        "            y_hat = self.model(xs)\n",
        "            loss = self.criterion(y_hat, ys)\n",
        "            loss.backward()\n",
        "            self.optimizer.step()\n",
        "\n",
        "    def evaluation(self, dl):\n",
        "        acc_scores = []\n",
        "        losses = []\n",
        "        model.eval()\n",
        "        with torch.no_grad():\n",
        "            for xs, ys in dl:\n",
        "                acc = evaluate_accuracy(self.model, ys, xs)\n",
        "                loss = evaluate_loss(self.model, self.criterion, ys, xs)\n",
        "                acc_scores.append(acc)\n",
        "                losses.append(loss)\n",
        "\n",
        "        return np.mean(acc_scores), np.mean(losses)\n",
        "\n",
        "    def train(self):\n",
        "        self.model.zero_grad()\n",
        "\n",
        "        acc_epcohs = []\n",
        "        losses_epochs = []\n",
        "        epoch_time = []\n",
        "\n",
        "        with tqdm(range(self.num_epoch)) as pbar:\n",
        "            for epoch in pbar:\n",
        "                now = time.time()\n",
        "                self.batch_step()\n",
        "                elasped = time.time() - now\n",
        "                epoch_time.append(elasped)\n",
        "            \n",
        "                # 評価\n",
        "                acc_score = {}\n",
        "                losses = {}\n",
        "\n",
        "                acc_epoch, loss_epoch = self.evaluation(self.trn_dl)\n",
        "                acc_score['train_acc'] = acc_epoch\n",
        "                losses['train_loss'] = loss_epoch\n",
        "\n",
        "                acc_epoch, loss_epoch = self.evaluation(self.val_dl)\n",
        "                acc_score['valid_acc'] = acc_epoch\n",
        "                losses['valid_loss'] = loss_epoch\n",
        "\n",
        "                acc_epoch, loss_epoch = self.evaluation(self.test_dl)\n",
        "                acc_score['test_acc'] = acc_epoch\n",
        "                losses['test_loss'] = loss_epoch\n",
        "\n",
        "\n",
        "                acc_epcohs.append(acc_score)\n",
        "                losses_epochs.append(losses)\n",
        "                pbar.set_postfix(acc_score)\n",
        "\n",
        "        return acc_epcohs, losses_epochs, np.mean(epoch_time)"
      ],
      "execution_count": 38,
      "outputs": []
    },
    {
      "cell_type": "code",
      "metadata": {
        "id": "1-ks38DYF_o_",
        "outputId": "c596a00b-b2d2-4eb6-d1e1-cea0bbdb53ec",
        "colab": {
          "base_uri": "https://localhost:8080/",
          "height": 85
        }
      },
      "source": [
        "print(pd.DataFrame(acc_epcohs).mean())"
      ],
      "execution_count": 39,
      "outputs": [
        {
          "output_type": "stream",
          "text": [
            "train_acc    0.633853\n",
            "valid_acc    0.623468\n",
            "test_acc     0.627252\n",
            "dtype: float64\n"
          ],
          "name": "stdout"
        }
      ]
    },
    {
      "cell_type": "code",
      "metadata": {
        "id": "4TFaAJt1HSXf",
        "outputId": "65aeeec2-539c-4015-baf1-4a0ad78de30f",
        "colab": {
          "base_uri": "https://localhost:8080/",
          "height": 553,
          "referenced_widgets": [
            "c42de45090904cc3a466b19c2619515b",
            "04bc205f5ee946ec866705543330d16d",
            "6aba088eb82b431e9a1e1be2775eb65f",
            "c75f6f2d35be4ca4ab32b1d5db10547d",
            "8a6f1c385cc843688224b504fac1eb9a",
            "6c1c950ccbbb42089726904028233b2a",
            "f763afa2fb184b589f096d8a3ee913c9",
            "01eca69587994ef4be00733a188e65b5",
            "bea424ffe0fe4480a7f91e2cd779a4fd",
            "3c0d62af1aa643008066beea08ea3ae0",
            "ce0c290febf343a3b336c8e7bdf4b121",
            "31d480e7bad94362a5dd1b128ab3a3d7",
            "cafb903cd1dd4bd7b717ea0c8f4a8ddc",
            "e32098aa41e64706b8a8043d373a5398",
            "8ef94a39b9924455aef73d82c1b5d31c",
            "4f5124de8611413b8e1a324fbb8299a3",
            "70c2c93fb1f4446e9bbb463e48e7d736",
            "1ff9abb79c33414a8736c04d9ba32ecb",
            "81c6a97fa10d48df9fcfe563367a93e5",
            "6577ab0834204ed5be7e25684b61eb79",
            "f80daaef00aa4351aebf5aa56e1349b6",
            "8e7ebcbf219649209f2e74818a98efc8",
            "804acb331e1a4634823b3b9be25b7ab4",
            "343e9116442045d48778475d52655772",
            "80e5370e86e5452dae0351f67a997536",
            "9d547a520bc549daa14faf23cbace897",
            "f1e6a96a45894cfe8cb890dde076f6cd",
            "cc05ec15b6e349aa8cee525494d35cd6",
            "0c44855f7e3c43d1a3b76ff985bc3e0a",
            "7a60e60a2ea7455ab9bc2887ec77fd09",
            "0a41eb158dae4ff5b953c0567ab38f7a",
            "3d8a271085574974a2c6a7806f979cd1"
          ]
        }
      },
      "source": [
        "batch_epoch_time = {}\n",
        "for batch_size in [1, 2, 4, 8]:\n",
        "    model = SingleLayerPerceptron()\n",
        "    trainer = Trainer(model, batch_size, 10)\n",
        "\n",
        "    now = time.time()\n",
        "    acc_epcohs, losses_epochs, epoch_time = trainer.train()\n",
        "    print(f'batch_size: {batch_size}, epoch mean time: {epoch_time} s')\n",
        "    print(pd.DataFrame(acc_epcohs).mean())"
      ],
      "execution_count": 40,
      "outputs": [
        {
          "output_type": "display_data",
          "data": {
            "application/vnd.jupyter.widget-view+json": {
              "model_id": "c42de45090904cc3a466b19c2619515b",
              "version_minor": 0,
              "version_major": 2
            },
            "text/plain": [
              "HBox(children=(FloatProgress(value=0.0, max=10.0), HTML(value='')))"
            ]
          },
          "metadata": {
            "tags": []
          }
        },
        {
          "output_type": "stream",
          "text": [
            "\n",
            "batch_size: 1, epoch mean time: 1.7310770273208618 s\n",
            "train_acc    0.896623\n",
            "valid_acc    0.904772\n",
            "test_acc     0.883915\n",
            "dtype: float64\n"
          ],
          "name": "stdout"
        },
        {
          "output_type": "display_data",
          "data": {
            "application/vnd.jupyter.widget-view+json": {
              "model_id": "bea424ffe0fe4480a7f91e2cd779a4fd",
              "version_minor": 0,
              "version_major": 2
            },
            "text/plain": [
              "HBox(children=(FloatProgress(value=0.0, max=10.0), HTML(value='')))"
            ]
          },
          "metadata": {
            "tags": []
          }
        },
        {
          "output_type": "stream",
          "text": [
            "\n",
            "batch_size: 2, epoch mean time: 0.9308552265167236 s\n",
            "train_acc    0.886530\n",
            "valid_acc    0.899894\n",
            "test_acc     0.881501\n",
            "dtype: float64\n"
          ],
          "name": "stdout"
        },
        {
          "output_type": "display_data",
          "data": {
            "application/vnd.jupyter.widget-view+json": {
              "model_id": "70c2c93fb1f4446e9bbb463e48e7d736",
              "version_minor": 0,
              "version_major": 2
            },
            "text/plain": [
              "HBox(children=(FloatProgress(value=0.0, max=10.0), HTML(value='')))"
            ]
          },
          "metadata": {
            "tags": []
          }
        },
        {
          "output_type": "stream",
          "text": [
            "\n",
            "batch_size: 4, epoch mean time: 0.500223183631897 s\n",
            "train_acc    0.872564\n",
            "valid_acc    0.883263\n",
            "test_acc     0.876371\n",
            "dtype: float64\n"
          ],
          "name": "stdout"
        },
        {
          "output_type": "display_data",
          "data": {
            "application/vnd.jupyter.widget-view+json": {
              "model_id": "80e5370e86e5452dae0351f67a997536",
              "version_minor": 0,
              "version_major": 2
            },
            "text/plain": [
              "HBox(children=(FloatProgress(value=0.0, max=10.0), HTML(value='')))"
            ]
          },
          "metadata": {
            "tags": []
          }
        },
        {
          "output_type": "stream",
          "text": [
            "\n",
            "batch_size: 8, epoch mean time: 0.3083126783370972 s\n",
            "train_acc    0.851536\n",
            "valid_acc    0.861093\n",
            "test_acc     0.860294\n",
            "dtype: float64\n"
          ],
          "name": "stdout"
        }
      ]
    },
    {
      "cell_type": "markdown",
      "metadata": {
        "id": "_fBteALqciXM"
      },
      "source": [
        "# 78-79\n",
        "多層ニューラルネットに変更してgpuで実行"
      ]
    },
    {
      "cell_type": "code",
      "metadata": {
        "id": "6oVyWjYMeoc7",
        "outputId": "bee99a6f-cc8f-4a61-d96b-1088c7c80771",
        "colab": {
          "base_uri": "https://localhost:8080/",
          "height": 35
        }
      },
      "source": [
        "device = 'cuda' if torch.cuda.is_available() else 'cpu'\n",
        "device"
      ],
      "execution_count": 47,
      "outputs": [
        {
          "output_type": "execute_result",
          "data": {
            "application/vnd.google.colaboratory.intrinsic+json": {
              "type": "string"
            },
            "text/plain": [
              "'cuda'"
            ]
          },
          "metadata": {
            "tags": []
          },
          "execution_count": 47
        }
      ]
    },
    {
      "cell_type": "code",
      "metadata": {
        "id": "ieMvI-xpcbEp"
      },
      "source": [
        "class MLP(nn.Module):\n",
        "    def __init__(self):\n",
        "        super().__init__()\n",
        "\n",
        "        self.fc1 = nn.Sequential(\n",
        "            nn.Linear(300, 150),\n",
        "            nn.ReLU(),\n",
        "            nn.Dropout(0.2)\n",
        "        )\n",
        "\n",
        "        self.fc2 = nn.Sequential(\n",
        "            nn.Linear(150, 50),\n",
        "            nn.ReLU(),\n",
        "            nn.Dropout(0.2)\n",
        "        )\n",
        "\n",
        "        self.fc3 = nn.Linear(50, 5)\n",
        "\n",
        "    def forward(self, x):\n",
        "        out = self.fc1(x)\n",
        "        out = self.fc2(out)\n",
        "        out = self.fc3(out)\n",
        "\n",
        "        return out"
      ],
      "execution_count": 70,
      "outputs": []
    },
    {
      "cell_type": "code",
      "metadata": {
        "id": "LtsJwOvqM1HG"
      },
      "source": [
        "def evaluate_accuracy(model, y, x):\n",
        "    with torch.no_grad():\n",
        "        y_hat = model(x)\n",
        "        if device == 'cuda':\n",
        "            return accuracy_score(y.cpu().numpy(), torch.argmax(y_hat, axis=-1).cpu().numpy())\n",
        "        else:\n",
        "            return accuracy_score(y.numpy(), torch.argmax(y_hat, axis=-1).numpy())\n",
        "\n",
        "def evaluate_loss(model, criterion, y, x):\n",
        "    with torch.no_grad():\n",
        "        y_hat = model(x)\n",
        "        return criterion(y_hat, y).item()"
      ],
      "execution_count": 71,
      "outputs": []
    },
    {
      "cell_type": "code",
      "metadata": {
        "id": "Du0DSFnjkvz-"
      },
      "source": [
        "class Trainer:\n",
        "    def __init__(self, model, batch_size, num_epoch):\n",
        "        self.trn_ds = TensorDataset(x_train, y_train)\n",
        "        self.trn_dl = DataLoader(self.trn_ds, batch_size=batch_size)\n",
        "\n",
        "        self.val_ds = TensorDataset(x_valid, y_valid)\n",
        "        self.val_dl = DataLoader(self.val_ds, batch_size=batch_size)\n",
        "\n",
        "        self.test_ds = TensorDataset(x_test, y_test)\n",
        "        self.test_dl = DataLoader(self.test_ds, batch_size=batch_size)\n",
        "\n",
        "        self.model = model\n",
        "        self.num_epoch = num_epoch\n",
        "        self.optimizer = torch.optim.SGD(model.parameters(), lr=1e-1)\n",
        "        self.criterion = nn.CrossEntropyLoss()\n",
        "\n",
        "    def batch_step(self):\n",
        "        for xs, ys in self.trn_dl:\n",
        "            xs, ys = xs.to(device), ys.to(device)\n",
        "            self.optimizer.zero_grad()\n",
        "            \n",
        "            y_hat = self.model(xs)\n",
        "            loss = self.criterion(y_hat, ys)\n",
        "            loss.backward()\n",
        "            self.optimizer.step()\n",
        "\n",
        "    def evaluation(self, dl):\n",
        "        acc_scores = []\n",
        "        losses = []\n",
        "        model.eval()\n",
        "        with torch.no_grad():\n",
        "            for xs, ys in dl:\n",
        "                xs, ys = xs.to(device), ys.to(device)\n",
        "                acc = evaluate_accuracy(self.model, ys, xs)\n",
        "                loss = evaluate_loss(self.model, self.criterion, ys, xs)\n",
        "                acc_scores.append(acc)\n",
        "                losses.append(loss)\n",
        "\n",
        "        return np.mean(acc_scores), np.mean(losses)\n",
        "\n",
        "    def train(self):\n",
        "        self.model.zero_grad()\n",
        "\n",
        "        acc_epcohs = []\n",
        "        losses_epochs = []\n",
        "        epoch_time = []\n",
        "\n",
        "        with tqdm(range(self.num_epoch)) as pbar:\n",
        "            for epoch in pbar:\n",
        "                now = time.time()\n",
        "                self.batch_step()\n",
        "                elasped = time.time() - now\n",
        "                epoch_time.append(elasped)\n",
        "            \n",
        "                # 評価\n",
        "                acc_score = {}\n",
        "                losses = {}\n",
        "\n",
        "                acc_epoch, loss_epoch = self.evaluation(self.trn_dl)\n",
        "                acc_score['train_acc'] = acc_epoch\n",
        "                losses['train_loss'] = loss_epoch\n",
        "\n",
        "                acc_epoch, loss_epoch = self.evaluation(self.val_dl)\n",
        "                acc_score['valid_acc'] = acc_epoch\n",
        "                losses['valid_loss'] = loss_epoch\n",
        "\n",
        "                acc_epoch, loss_epoch = self.evaluation(self.test_dl)\n",
        "                acc_score['test_acc'] = acc_epoch\n",
        "                losses['test_loss'] = loss_epoch\n",
        "\n",
        "\n",
        "                acc_epcohs.append(acc_score)\n",
        "                losses_epochs.append(losses)\n",
        "                pbar.set_postfix(acc_score)\n",
        "\n",
        "        return acc_epcohs, losses_epochs, np.mean(epoch_time)"
      ],
      "execution_count": 72,
      "outputs": []
    },
    {
      "cell_type": "code",
      "metadata": {
        "id": "2kzX7vGcI7h7",
        "outputId": "f0116bd9-a3e0-4018-92cf-9a3405648c40",
        "colab": {
          "base_uri": "https://localhost:8080/",
          "height": 238
        }
      },
      "source": [
        "model =  MLP()\n",
        "model.to(device)"
      ],
      "execution_count": 73,
      "outputs": [
        {
          "output_type": "execute_result",
          "data": {
            "text/plain": [
              "MLP(\n",
              "  (fc1): Sequential(\n",
              "    (0): Linear(in_features=300, out_features=150, bias=True)\n",
              "    (1): ReLU()\n",
              "    (2): Dropout(p=0.2, inplace=False)\n",
              "  )\n",
              "  (fc2): Sequential(\n",
              "    (0): Linear(in_features=150, out_features=50, bias=True)\n",
              "    (1): ReLU()\n",
              "    (2): Dropout(p=0.2, inplace=False)\n",
              "  )\n",
              "  (fc3): Linear(in_features=50, out_features=5, bias=True)\n",
              ")"
            ]
          },
          "metadata": {
            "tags": []
          },
          "execution_count": 73
        }
      ]
    },
    {
      "cell_type": "code",
      "metadata": {
        "id": "_LuUSP4aJZw_",
        "outputId": "acdc8714-8dc0-465f-9db1-4235bbcca629",
        "colab": {
          "base_uri": "https://localhost:8080/",
          "height": 66,
          "referenced_widgets": [
            "83374c94bd074d7888dc0b8fc6d0cc84",
            "7be46238cad54252a8c024886d975708",
            "ad718a075204476b8a5ac4695418faa8",
            "976a74750ee044c38465f757e3b80d3f",
            "bf3fdabd4bba4b5da28964ef82dcb37f",
            "d50e35e5d8a14d16ba3c2cd9ad15ddad",
            "a82cc9f9b473484b933532d99814f409",
            "9c6b0c12e88d4f56af7294d2c8d88987"
          ]
        }
      },
      "source": [
        "trainer = Trainer(model, 128, 30)\n",
        "\n",
        "now = time.time()\n",
        "acc_epcohs, losses_epochs, epoch_time = trainer.train()"
      ],
      "execution_count": 74,
      "outputs": [
        {
          "output_type": "display_data",
          "data": {
            "application/vnd.jupyter.widget-view+json": {
              "model_id": "83374c94bd074d7888dc0b8fc6d0cc84",
              "version_minor": 0,
              "version_major": 2
            },
            "text/plain": [
              "HBox(children=(FloatProgress(value=0.0, max=30.0), HTML(value='')))"
            ]
          },
          "metadata": {
            "tags": []
          }
        },
        {
          "output_type": "stream",
          "text": [
            "\n"
          ],
          "name": "stdout"
        }
      ]
    },
    {
      "cell_type": "code",
      "metadata": {
        "id": "BgM0iMGWJ5rD"
      },
      "source": [
        "acc_df = pd.DataFrame(acc_epcohs)\n",
        "loss_df = pd.DataFrame(losses_epochs)"
      ],
      "execution_count": 75,
      "outputs": []
    },
    {
      "cell_type": "code",
      "metadata": {
        "id": "nELBc-ZdKc2T",
        "outputId": "d01ad734-9bab-4b79-c843-2caca4af0910",
        "colab": {
          "base_uri": "https://localhost:8080/",
          "height": 282
        }
      },
      "source": [
        "acc_df.plot()"
      ],
      "execution_count": 76,
      "outputs": [
        {
          "output_type": "execute_result",
          "data": {
            "text/plain": [
              "<matplotlib.axes._subplots.AxesSubplot at 0x7fbc2449ff98>"
            ]
          },
          "metadata": {
            "tags": []
          },
          "execution_count": 76
        },
        {
          "output_type": "display_data",
          "data": {
            "image/png": "[encoded data removed]",
            "text/plain": [
              "<Figure size 432x288 with 1 Axes>"
            ]
          },
          "metadata": {
            "tags": [],
            "needs_background": "light"
          }
        }
      ]
    },
    {
      "cell_type": "code",
      "metadata": {
        "id": "sWQjrUyzKewG",
        "outputId": "92b9bbb7-4b49-45d4-8cfa-763c382d259d",
        "colab": {
          "base_uri": "https://localhost:8080/",
          "height": 282
        }
      },
      "source": [
        "loss_df.plot()"
      ],
      "execution_count": 77,
      "outputs": [
        {
          "output_type": "execute_result",
          "data": {
            "text/plain": [
              "<matplotlib.axes._subplots.AxesSubplot at 0x7fbc242aa940>"
            ]
          },
          "metadata": {
            "tags": []
          },
          "execution_count": 77
        },
        {
          "output_type": "display_data",
          "data": {
            "image/png": "[encoded data removed]",
            "text/plain": [
              "<Figure size 432x288 with 1 Axes>"
            ]
          },
          "metadata": {
            "tags": [],
            "needs_background": "light"
          }
        }
      ]
    }
  ]
}