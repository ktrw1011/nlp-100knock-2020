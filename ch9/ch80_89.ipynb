{
  "nbformat": 4,
  "nbformat_minor": 0,
  "metadata": {
    "colab": {
      "name": "ch80-89.ipynb",
      "provenance": [],
      "toc_visible": true
    },
    "kernelspec": {
      "name": "python3",
      "display_name": "Python 3"
    },
    "accelerator": "GPU",
    "widgets": {
      "application/vnd.jupyter.widget-state+json": {
        "06ce8f5c081442d9b3130bab69ad5fff": {
          "model_module": "@jupyter-widgets/controls",
          "model_name": "HBoxModel",
          "state": {
            "_view_name": "HBoxView",
            "_dom_classes": [],
            "_model_name": "HBoxModel",
            "_view_module": "@jupyter-widgets/controls",
            "_model_module_version": "1.5.0",
            "_view_count": null,
            "_view_module_version": "1.5.0",
            "box_style": "",
            "layout": "IPY_MODEL_3d35981ffc5c4eef8d593cfcd16415e2",
            "_model_module": "@jupyter-widgets/controls",
            "children": [
              "IPY_MODEL_799f9ba61fe24c1ab96617232a42f578",
              "IPY_MODEL_bcf858fbf2bc4cbd90f97db4c8bdf19e"
            ]
          }
        },
        "3d35981ffc5c4eef8d593cfcd16415e2": {
          "model_module": "@jupyter-widgets/base",
          "model_name": "LayoutModel",
          "state": {
            "_view_name": "LayoutView",
            "grid_template_rows": null,
            "right": null,
            "justify_content": null,
            "_view_module": "@jupyter-widgets/base",
            "overflow": null,
            "_model_module_version": "1.2.0",
            "_view_count": null,
            "flex_flow": null,
            "width": null,
            "min_width": null,
            "border": null,
            "align_items": null,
            "bottom": null,
            "_model_module": "@jupyter-widgets/base",
            "top": null,
            "grid_column": null,
            "overflow_y": null,
            "overflow_x": null,
            "grid_auto_flow": null,
            "grid_area": null,
            "grid_template_columns": null,
            "flex": null,
            "_model_name": "LayoutModel",
            "justify_items": null,
            "grid_row": null,
            "max_height": null,
            "align_content": null,
            "visibility": null,
            "align_self": null,
            "height": null,
            "min_height": null,
            "padding": null,
            "grid_auto_rows": null,
            "grid_gap": null,
            "max_width": null,
            "order": null,
            "_view_module_version": "1.2.0",
            "grid_template_areas": null,
            "object_position": null,
            "object_fit": null,
            "grid_auto_columns": null,
            "margin": null,
            "display": null,
            "left": null
          }
        },
        "799f9ba61fe24c1ab96617232a42f578": {
          "model_module": "@jupyter-widgets/controls",
          "model_name": "FloatProgressModel",
          "state": {
            "_view_name": "ProgressView",
            "style": "IPY_MODEL_74eacac33b0b4addb77e2cdaf2bba86f",
            "_dom_classes": [],
            "description": "100%",
            "_model_name": "FloatProgressModel",
            "bar_style": "success",
            "max": 5,
            "_view_module": "@jupyter-widgets/controls",
            "_model_module_version": "1.5.0",
            "value": 5,
            "_view_count": null,
            "_view_module_version": "1.5.0",
            "orientation": "horizontal",
            "min": 0,
            "description_tooltip": null,
            "_model_module": "@jupyter-widgets/controls",
            "layout": "IPY_MODEL_0faccfd023414cfdaea015ad9aa9f7ee"
          }
        },
        "bcf858fbf2bc4cbd90f97db4c8bdf19e": {
          "model_module": "@jupyter-widgets/controls",
          "model_name": "HTMLModel",
          "state": {
            "_view_name": "HTMLView",
            "style": "IPY_MODEL_4acbac823da743a2b5deba39c2fb85d4",
            "_dom_classes": [],
            "description": "",
            "_model_name": "HTMLModel",
            "placeholder": "​",
            "_view_module": "@jupyter-widgets/controls",
            "_model_module_version": "1.5.0",
            "value": " 5/5 [03:54&lt;00:00, 46.94s/it, train_acc=0.472, valid_acc=0.36, test_acc=0.364]",
            "_view_count": null,
            "_view_module_version": "1.5.0",
            "description_tooltip": null,
            "_model_module": "@jupyter-widgets/controls",
            "layout": "IPY_MODEL_be1d4265cd564ac0bb30d91337fa1e7d"
          }
        },
        "74eacac33b0b4addb77e2cdaf2bba86f": {
          "model_module": "@jupyter-widgets/controls",
          "model_name": "ProgressStyleModel",
          "state": {
            "_view_name": "StyleView",
            "_model_name": "ProgressStyleModel",
            "description_width": "initial",
            "_view_module": "@jupyter-widgets/base",
            "_model_module_version": "1.5.0",
            "_view_count": null,
            "_view_module_version": "1.2.0",
            "bar_color": null,
            "_model_module": "@jupyter-widgets/controls"
          }
        },
        "0faccfd023414cfdaea015ad9aa9f7ee": {
          "model_module": "@jupyter-widgets/base",
          "model_name": "LayoutModel",
          "state": {
            "_view_name": "LayoutView",
            "grid_template_rows": null,
            "right": null,
            "justify_content": null,
            "_view_module": "@jupyter-widgets/base",
            "overflow": null,
            "_model_module_version": "1.2.0",
            "_view_count": null,
            "flex_flow": null,
            "width": null,
            "min_width": null,
            "border": null,
            "align_items": null,
            "bottom": null,
            "_model_module": "@jupyter-widgets/base",
            "top": null,
            "grid_column": null,
            "overflow_y": null,
            "overflow_x": null,
            "grid_auto_flow": null,
            "grid_area": null,
            "grid_template_columns": null,
            "flex": null,
            "_model_name": "LayoutModel",
            "justify_items": null,
            "grid_row": null,
            "max_height": null,
            "align_content": null,
            "visibility": null,
            "align_self": null,
            "height": null,
            "min_height": null,
            "padding": null,
            "grid_auto_rows": null,
            "grid_gap": null,
            "max_width": null,
            "order": null,
            "_view_module_version": "1.2.0",
            "grid_template_areas": null,
            "object_position": null,
            "object_fit": null,
            "grid_auto_columns": null,
            "margin": null,
            "display": null,
            "left": null
          }
        },
        "4acbac823da743a2b5deba39c2fb85d4": {
          "model_module": "@jupyter-widgets/controls",
          "model_name": "DescriptionStyleModel",
          "state": {
            "_view_name": "StyleView",
            "_model_name": "DescriptionStyleModel",
            "description_width": "",
            "_view_module": "@jupyter-widgets/base",
            "_model_module_version": "1.5.0",
            "_view_count": null,
            "_view_module_version": "1.2.0",
            "_model_module": "@jupyter-widgets/controls"
          }
        },
        "be1d4265cd564ac0bb30d91337fa1e7d": {
          "model_module": "@jupyter-widgets/base",
          "model_name": "LayoutModel",
          "state": {
            "_view_name": "LayoutView",
            "grid_template_rows": null,
            "right": null,
            "justify_content": null,
            "_view_module": "@jupyter-widgets/base",
            "overflow": null,
            "_model_module_version": "1.2.0",
            "_view_count": null,
            "flex_flow": null,
            "width": null,
            "min_width": null,
            "border": null,
            "align_items": null,
            "bottom": null,
            "_model_module": "@jupyter-widgets/base",
            "top": null,
            "grid_column": null,
            "overflow_y": null,
            "overflow_x": null,
            "grid_auto_flow": null,
            "grid_area": null,
            "grid_template_columns": null,
            "flex": null,
            "_model_name": "LayoutModel",
            "justify_items": null,
            "grid_row": null,
            "max_height": null,
            "align_content": null,
            "visibility": null,
            "align_self": null,
            "height": null,
            "min_height": null,
            "padding": null,
            "grid_auto_rows": null,
            "grid_gap": null,
            "max_width": null,
            "order": null,
            "_view_module_version": "1.2.0",
            "grid_template_areas": null,
            "object_position": null,
            "object_fit": null,
            "grid_auto_columns": null,
            "margin": null,
            "display": null,
            "left": null
          }
        },
        "94b40974fd734121a02c450563a02da2": {
          "model_module": "@jupyter-widgets/controls",
          "model_name": "HBoxModel",
          "state": {
            "_view_name": "HBoxView",
            "_dom_classes": [],
            "_model_name": "HBoxModel",
            "_view_module": "@jupyter-widgets/controls",
            "_model_module_version": "1.5.0",
            "_view_count": null,
            "_view_module_version": "1.5.0",
            "box_style": "",
            "layout": "IPY_MODEL_fd1d09b6084047bfbb22fe791c3e0632",
            "_model_module": "@jupyter-widgets/controls",
            "children": [
              "IPY_MODEL_f9ef48694e7f4a599b0e806e644de5a0",
              "IPY_MODEL_fc89e551045d46cc9c1dfd7b0977f22a"
            ]
          }
        },
        "fd1d09b6084047bfbb22fe791c3e0632": {
          "model_module": "@jupyter-widgets/base",
          "model_name": "LayoutModel",
          "state": {
            "_view_name": "LayoutView",
            "grid_template_rows": null,
            "right": null,
            "justify_content": null,
            "_view_module": "@jupyter-widgets/base",
            "overflow": null,
            "_model_module_version": "1.2.0",
            "_view_count": null,
            "flex_flow": null,
            "width": null,
            "min_width": null,
            "border": null,
            "align_items": null,
            "bottom": null,
            "_model_module": "@jupyter-widgets/base",
            "top": null,
            "grid_column": null,
            "overflow_y": null,
            "overflow_x": null,
            "grid_auto_flow": null,
            "grid_area": null,
            "grid_template_columns": null,
            "flex": null,
            "_model_name": "LayoutModel",
            "justify_items": null,
            "grid_row": null,
            "max_height": null,
            "align_content": null,
            "visibility": null,
            "align_self": null,
            "height": null,
            "min_height": null,
            "padding": null,
            "grid_auto_rows": null,
            "grid_gap": null,
            "max_width": null,
            "order": null,
            "_view_module_version": "1.2.0",
            "grid_template_areas": null,
            "object_position": null,
            "object_fit": null,
            "grid_auto_columns": null,
            "margin": null,
            "display": null,
            "left": null
          }
        },
        "f9ef48694e7f4a599b0e806e644de5a0": {
          "model_module": "@jupyter-widgets/controls",
          "model_name": "FloatProgressModel",
          "state": {
            "_view_name": "ProgressView",
            "style": "IPY_MODEL_6b1b3536f6d74b3b818a893b1d32aea0",
            "_dom_classes": [],
            "description": "100%",
            "_model_name": "FloatProgressModel",
            "bar_style": "success",
            "max": 15,
            "_view_module": "@jupyter-widgets/controls",
            "_model_module_version": "1.5.0",
            "value": 15,
            "_view_count": null,
            "_view_module_version": "1.5.0",
            "orientation": "horizontal",
            "min": 0,
            "description_tooltip": null,
            "_model_module": "@jupyter-widgets/controls",
            "layout": "IPY_MODEL_e234dd896d0c4ae1a042bb9c40c29cc2"
          }
        },
        "fc89e551045d46cc9c1dfd7b0977f22a": {
          "model_module": "@jupyter-widgets/controls",
          "model_name": "HTMLModel",
          "state": {
            "_view_name": "HTMLView",
            "style": "IPY_MODEL_add3abffb6994ca58e922adcf2f1b9d8",
            "_dom_classes": [],
            "description": "",
            "_model_name": "HTMLModel",
            "placeholder": "​",
            "_view_module": "@jupyter-widgets/controls",
            "_model_module_version": "1.5.0",
            "value": " 15/15 [01:36&lt;00:00,  6.42s/it, train_acc=0.897, valid_acc=0.827, test_acc=0.81]",
            "_view_count": null,
            "_view_module_version": "1.5.0",
            "description_tooltip": null,
            "_model_module": "@jupyter-widgets/controls",
            "layout": "IPY_MODEL_716a9893030c44198392a8d490c11915"
          }
        },
        "6b1b3536f6d74b3b818a893b1d32aea0": {
          "model_module": "@jupyter-widgets/controls",
          "model_name": "ProgressStyleModel",
          "state": {
            "_view_name": "StyleView",
            "_model_name": "ProgressStyleModel",
            "description_width": "initial",
            "_view_module": "@jupyter-widgets/base",
            "_model_module_version": "1.5.0",
            "_view_count": null,
            "_view_module_version": "1.2.0",
            "bar_color": null,
            "_model_module": "@jupyter-widgets/controls"
          }
        },
        "e234dd896d0c4ae1a042bb9c40c29cc2": {
          "model_module": "@jupyter-widgets/base",
          "model_name": "LayoutModel",
          "state": {
            "_view_name": "LayoutView",
            "grid_template_rows": null,
            "right": null,
            "justify_content": null,
            "_view_module": "@jupyter-widgets/base",
            "overflow": null,
            "_model_module_version": "1.2.0",
            "_view_count": null,
            "flex_flow": null,
            "width": null,
            "min_width": null,
            "border": null,
            "align_items": null,
            "bottom": null,
            "_model_module": "@jupyter-widgets/base",
            "top": null,
            "grid_column": null,
            "overflow_y": null,
            "overflow_x": null,
            "grid_auto_flow": null,
            "grid_area": null,
            "grid_template_columns": null,
            "flex": null,
            "_model_name": "LayoutModel",
            "justify_items": null,
            "grid_row": null,
            "max_height": null,
            "align_content": null,
            "visibility": null,
            "align_self": null,
            "height": null,
            "min_height": null,
            "padding": null,
            "grid_auto_rows": null,
            "grid_gap": null,
            "max_width": null,
            "order": null,
            "_view_module_version": "1.2.0",
            "grid_template_areas": null,
            "object_position": null,
            "object_fit": null,
            "grid_auto_columns": null,
            "margin": null,
            "display": null,
            "left": null
          }
        },
        "add3abffb6994ca58e922adcf2f1b9d8": {
          "model_module": "@jupyter-widgets/controls",
          "model_name": "DescriptionStyleModel",
          "state": {
            "_view_name": "StyleView",
            "_model_name": "DescriptionStyleModel",
            "description_width": "",
            "_view_module": "@jupyter-widgets/base",
            "_model_module_version": "1.5.0",
            "_view_count": null,
            "_view_module_version": "1.2.0",
            "_model_module": "@jupyter-widgets/controls"
          }
        },
        "716a9893030c44198392a8d490c11915": {
          "model_module": "@jupyter-widgets/base",
          "model_name": "LayoutModel",
          "state": {
            "_view_name": "LayoutView",
            "grid_template_rows": null,
            "right": null,
            "justify_content": null,
            "_view_module": "@jupyter-widgets/base",
            "overflow": null,
            "_model_module_version": "1.2.0",
            "_view_count": null,
            "flex_flow": null,
            "width": null,
            "min_width": null,
            "border": null,
            "align_items": null,
            "bottom": null,
            "_model_module": "@jupyter-widgets/base",
            "top": null,
            "grid_column": null,
            "overflow_y": null,
            "overflow_x": null,
            "grid_auto_flow": null,
            "grid_area": null,
            "grid_template_columns": null,
            "flex": null,
            "_model_name": "LayoutModel",
            "justify_items": null,
            "grid_row": null,
            "max_height": null,
            "align_content": null,
            "visibility": null,
            "align_self": null,
            "height": null,
            "min_height": null,
            "padding": null,
            "grid_auto_rows": null,
            "grid_gap": null,
            "max_width": null,
            "order": null,
            "_view_module_version": "1.2.0",
            "grid_template_areas": null,
            "object_position": null,
            "object_fit": null,
            "grid_auto_columns": null,
            "margin": null,
            "display": null,
            "left": null
          }
        },
        "f9c9b2447ba145ea826e08b8eda17d7b": {
          "model_module": "@jupyter-widgets/controls",
          "model_name": "HBoxModel",
          "state": {
            "_view_name": "HBoxView",
            "_dom_classes": [],
            "_model_name": "HBoxModel",
            "_view_module": "@jupyter-widgets/controls",
            "_model_module_version": "1.5.0",
            "_view_count": null,
            "_view_module_version": "1.5.0",
            "box_style": "",
            "layout": "IPY_MODEL_fdd99675017944f3b58c877579ec7bd6",
            "_model_module": "@jupyter-widgets/controls",
            "children": [
              "IPY_MODEL_2f47f70811d5479a91fa8a4edcccbafd",
              "IPY_MODEL_efdfd4c6b7b248d2aaae93b0a11c1f8a"
            ]
          }
        },
        "fdd99675017944f3b58c877579ec7bd6": {
          "model_module": "@jupyter-widgets/base",
          "model_name": "LayoutModel",
          "state": {
            "_view_name": "LayoutView",
            "grid_template_rows": null,
            "right": null,
            "justify_content": null,
            "_view_module": "@jupyter-widgets/base",
            "overflow": null,
            "_model_module_version": "1.2.0",
            "_view_count": null,
            "flex_flow": null,
            "width": null,
            "min_width": null,
            "border": null,
            "align_items": null,
            "bottom": null,
            "_model_module": "@jupyter-widgets/base",
            "top": null,
            "grid_column": null,
            "overflow_y": null,
            "overflow_x": null,
            "grid_auto_flow": null,
            "grid_area": null,
            "grid_template_columns": null,
            "flex": null,
            "_model_name": "LayoutModel",
            "justify_items": null,
            "grid_row": null,
            "max_height": null,
            "align_content": null,
            "visibility": null,
            "align_self": null,
            "height": null,
            "min_height": null,
            "padding": null,
            "grid_auto_rows": null,
            "grid_gap": null,
            "max_width": null,
            "order": null,
            "_view_module_version": "1.2.0",
            "grid_template_areas": null,
            "object_position": null,
            "object_fit": null,
            "grid_auto_columns": null,
            "margin": null,
            "display": null,
            "left": null
          }
        },
        "2f47f70811d5479a91fa8a4edcccbafd": {
          "model_module": "@jupyter-widgets/controls",
          "model_name": "FloatProgressModel",
          "state": {
            "_view_name": "ProgressView",
            "style": "IPY_MODEL_86c7a30805054802a83cdd959a89423e",
            "_dom_classes": [],
            "description": "100%",
            "_model_name": "FloatProgressModel",
            "bar_style": "success",
            "max": 15,
            "_view_module": "@jupyter-widgets/controls",
            "_model_module_version": "1.5.0",
            "value": 15,
            "_view_count": null,
            "_view_module_version": "1.5.0",
            "orientation": "horizontal",
            "min": 0,
            "description_tooltip": null,
            "_model_module": "@jupyter-widgets/controls",
            "layout": "IPY_MODEL_38140d53e3ea4847a1e3809694757fad"
          }
        },
        "efdfd4c6b7b248d2aaae93b0a11c1f8a": {
          "model_module": "@jupyter-widgets/controls",
          "model_name": "HTMLModel",
          "state": {
            "_view_name": "HTMLView",
            "style": "IPY_MODEL_29fc6fd36c6d44aab5a959101208a6a7",
            "_dom_classes": [],
            "description": "",
            "_model_name": "HTMLModel",
            "placeholder": "​",
            "_view_module": "@jupyter-widgets/controls",
            "_model_module_version": "1.5.0",
            "value": " 15/15 [00:11&lt;00:00,  1.34it/s, train_acc=0.631, valid_acc=0.613, test_acc=0.61]",
            "_view_count": null,
            "_view_module_version": "1.5.0",
            "description_tooltip": null,
            "_model_module": "@jupyter-widgets/controls",
            "layout": "IPY_MODEL_3a759ea9be734404ab19400adfd4e3e2"
          }
        },
        "86c7a30805054802a83cdd959a89423e": {
          "model_module": "@jupyter-widgets/controls",
          "model_name": "ProgressStyleModel",
          "state": {
            "_view_name": "StyleView",
            "_model_name": "ProgressStyleModel",
            "description_width": "initial",
            "_view_module": "@jupyter-widgets/base",
            "_model_module_version": "1.5.0",
            "_view_count": null,
            "_view_module_version": "1.2.0",
            "bar_color": null,
            "_model_module": "@jupyter-widgets/controls"
          }
        },
        "38140d53e3ea4847a1e3809694757fad": {
          "model_module": "@jupyter-widgets/base",
          "model_name": "LayoutModel",
          "state": {
            "_view_name": "LayoutView",
            "grid_template_rows": null,
            "right": null,
            "justify_content": null,
            "_view_module": "@jupyter-widgets/base",
            "overflow": null,
            "_model_module_version": "1.2.0",
            "_view_count": null,
            "flex_flow": null,
            "width": null,
            "min_width": null,
            "border": null,
            "align_items": null,
            "bottom": null,
            "_model_module": "@jupyter-widgets/base",
            "top": null,
            "grid_column": null,
            "overflow_y": null,
            "overflow_x": null,
            "grid_auto_flow": null,
            "grid_area": null,
            "grid_template_columns": null,
            "flex": null,
            "_model_name": "LayoutModel",
            "justify_items": null,
            "grid_row": null,
            "max_height": null,
            "align_content": null,
            "visibility": null,
            "align_self": null,
            "height": null,
            "min_height": null,
            "padding": null,
            "grid_auto_rows": null,
            "grid_gap": null,
            "max_width": null,
            "order": null,
            "_view_module_version": "1.2.0",
            "grid_template_areas": null,
            "object_position": null,
            "object_fit": null,
            "grid_auto_columns": null,
            "margin": null,
            "display": null,
            "left": null
          }
        },
        "29fc6fd36c6d44aab5a959101208a6a7": {
          "model_module": "@jupyter-widgets/controls",
          "model_name": "DescriptionStyleModel",
          "state": {
            "_view_name": "StyleView",
            "_model_name": "DescriptionStyleModel",
            "description_width": "",
            "_view_module": "@jupyter-widgets/base",
            "_model_module_version": "1.5.0",
            "_view_count": null,
            "_view_module_version": "1.2.0",
            "_model_module": "@jupyter-widgets/controls"
          }
        },
        "3a759ea9be734404ab19400adfd4e3e2": {
          "model_module": "@jupyter-widgets/base",
          "model_name": "LayoutModel",
          "state": {
            "_view_name": "LayoutView",
            "grid_template_rows": null,
            "right": null,
            "justify_content": null,
            "_view_module": "@jupyter-widgets/base",
            "overflow": null,
            "_model_module_version": "1.2.0",
            "_view_count": null,
            "flex_flow": null,
            "width": null,
            "min_width": null,
            "border": null,
            "align_items": null,
            "bottom": null,
            "_model_module": "@jupyter-widgets/base",
            "top": null,
            "grid_column": null,
            "overflow_y": null,
            "overflow_x": null,
            "grid_auto_flow": null,
            "grid_area": null,
            "grid_template_columns": null,
            "flex": null,
            "_model_name": "LayoutModel",
            "justify_items": null,
            "grid_row": null,
            "max_height": null,
            "align_content": null,
            "visibility": null,
            "align_self": null,
            "height": null,
            "min_height": null,
            "padding": null,
            "grid_auto_rows": null,
            "grid_gap": null,
            "max_width": null,
            "order": null,
            "_view_module_version": "1.2.0",
            "grid_template_areas": null,
            "object_position": null,
            "object_fit": null,
            "grid_auto_columns": null,
            "margin": null,
            "display": null,
            "left": null
          }
        },
        "ea7a9e12a8d24d9982260c608d817f69": {
          "model_module": "@jupyter-widgets/controls",
          "model_name": "HBoxModel",
          "state": {
            "_view_name": "HBoxView",
            "_dom_classes": [],
            "_model_name": "HBoxModel",
            "_view_module": "@jupyter-widgets/controls",
            "_model_module_version": "1.5.0",
            "_view_count": null,
            "_view_module_version": "1.5.0",
            "box_style": "",
            "layout": "IPY_MODEL_887264e0b41b47938a261c235a7f4fd1",
            "_model_module": "@jupyter-widgets/controls",
            "children": [
              "IPY_MODEL_8c84e4e560cc4ad7a6817efd42fccdea",
              "IPY_MODEL_c9af794ba9044bb9b52e6137de1f6570"
            ]
          }
        },
        "887264e0b41b47938a261c235a7f4fd1": {
          "model_module": "@jupyter-widgets/base",
          "model_name": "LayoutModel",
          "state": {
            "_view_name": "LayoutView",
            "grid_template_rows": null,
            "right": null,
            "justify_content": null,
            "_view_module": "@jupyter-widgets/base",
            "overflow": null,
            "_model_module_version": "1.2.0",
            "_view_count": null,
            "flex_flow": null,
            "width": null,
            "min_width": null,
            "border": null,
            "align_items": null,
            "bottom": null,
            "_model_module": "@jupyter-widgets/base",
            "top": null,
            "grid_column": null,
            "overflow_y": null,
            "overflow_x": null,
            "grid_auto_flow": null,
            "grid_area": null,
            "grid_template_columns": null,
            "flex": null,
            "_model_name": "LayoutModel",
            "justify_items": null,
            "grid_row": null,
            "max_height": null,
            "align_content": null,
            "visibility": null,
            "align_self": null,
            "height": null,
            "min_height": null,
            "padding": null,
            "grid_auto_rows": null,
            "grid_gap": null,
            "max_width": null,
            "order": null,
            "_view_module_version": "1.2.0",
            "grid_template_areas": null,
            "object_position": null,
            "object_fit": null,
            "grid_auto_columns": null,
            "margin": null,
            "display": null,
            "left": null
          }
        },
        "8c84e4e560cc4ad7a6817efd42fccdea": {
          "model_module": "@jupyter-widgets/controls",
          "model_name": "FloatProgressModel",
          "state": {
            "_view_name": "ProgressView",
            "style": "IPY_MODEL_9971d4a9f9f1485aac6d475dc08f4234",
            "_dom_classes": [],
            "description": "100%",
            "_model_name": "FloatProgressModel",
            "bar_style": "success",
            "max": 15,
            "_view_module": "@jupyter-widgets/controls",
            "_model_module_version": "1.5.0",
            "value": 15,
            "_view_count": null,
            "_view_module_version": "1.5.0",
            "orientation": "horizontal",
            "min": 0,
            "description_tooltip": null,
            "_model_module": "@jupyter-widgets/controls",
            "layout": "IPY_MODEL_91d58cc8aba84a01b1dc8fd906938ec2"
          }
        },
        "c9af794ba9044bb9b52e6137de1f6570": {
          "model_module": "@jupyter-widgets/controls",
          "model_name": "HTMLModel",
          "state": {
            "_view_name": "HTMLView",
            "style": "IPY_MODEL_db650a5a9b2542dea8b5ae990041fe95",
            "_dom_classes": [],
            "description": "",
            "_model_name": "HTMLModel",
            "placeholder": "​",
            "_view_module": "@jupyter-widgets/controls",
            "_model_module_version": "1.5.0",
            "value": " 15/15 [00:44&lt;00:00,  2.95s/it, train_acc=0.777, valid_acc=0.776, test_acc=0.764]",
            "_view_count": null,
            "_view_module_version": "1.5.0",
            "description_tooltip": null,
            "_model_module": "@jupyter-widgets/controls",
            "layout": "IPY_MODEL_f5cb0f2f4a514d06b4d21da703792690"
          }
        },
        "9971d4a9f9f1485aac6d475dc08f4234": {
          "model_module": "@jupyter-widgets/controls",
          "model_name": "ProgressStyleModel",
          "state": {
            "_view_name": "StyleView",
            "_model_name": "ProgressStyleModel",
            "description_width": "initial",
            "_view_module": "@jupyter-widgets/base",
            "_model_module_version": "1.5.0",
            "_view_count": null,
            "_view_module_version": "1.2.0",
            "bar_color": null,
            "_model_module": "@jupyter-widgets/controls"
          }
        },
        "91d58cc8aba84a01b1dc8fd906938ec2": {
          "model_module": "@jupyter-widgets/base",
          "model_name": "LayoutModel",
          "state": {
            "_view_name": "LayoutView",
            "grid_template_rows": null,
            "right": null,
            "justify_content": null,
            "_view_module": "@jupyter-widgets/base",
            "overflow": null,
            "_model_module_version": "1.2.0",
            "_view_count": null,
            "flex_flow": null,
            "width": null,
            "min_width": null,
            "border": null,
            "align_items": null,
            "bottom": null,
            "_model_module": "@jupyter-widgets/base",
            "top": null,
            "grid_column": null,
            "overflow_y": null,
            "overflow_x": null,
            "grid_auto_flow": null,
            "grid_area": null,
            "grid_template_columns": null,
            "flex": null,
            "_model_name": "LayoutModel",
            "justify_items": null,
            "grid_row": null,
            "max_height": null,
            "align_content": null,
            "visibility": null,
            "align_self": null,
            "height": null,
            "min_height": null,
            "padding": null,
            "grid_auto_rows": null,
            "grid_gap": null,
            "max_width": null,
            "order": null,
            "_view_module_version": "1.2.0",
            "grid_template_areas": null,
            "object_position": null,
            "object_fit": null,
            "grid_auto_columns": null,
            "margin": null,
            "display": null,
            "left": null
          }
        },
        "db650a5a9b2542dea8b5ae990041fe95": {
          "model_module": "@jupyter-widgets/controls",
          "model_name": "DescriptionStyleModel",
          "state": {
            "_view_name": "StyleView",
            "_model_name": "DescriptionStyleModel",
            "description_width": "",
            "_view_module": "@jupyter-widgets/base",
            "_model_module_version": "1.5.0",
            "_view_count": null,
            "_view_module_version": "1.2.0",
            "_model_module": "@jupyter-widgets/controls"
          }
        },
        "f5cb0f2f4a514d06b4d21da703792690": {
          "model_module": "@jupyter-widgets/base",
          "model_name": "LayoutModel",
          "state": {
            "_view_name": "LayoutView",
            "grid_template_rows": null,
            "right": null,
            "justify_content": null,
            "_view_module": "@jupyter-widgets/base",
            "overflow": null,
            "_model_module_version": "1.2.0",
            "_view_count": null,
            "flex_flow": null,
            "width": null,
            "min_width": null,
            "border": null,
            "align_items": null,
            "bottom": null,
            "_model_module": "@jupyter-widgets/base",
            "top": null,
            "grid_column": null,
            "overflow_y": null,
            "overflow_x": null,
            "grid_auto_flow": null,
            "grid_area": null,
            "grid_template_columns": null,
            "flex": null,
            "_model_name": "LayoutModel",
            "justify_items": null,
            "grid_row": null,
            "max_height": null,
            "align_content": null,
            "visibility": null,
            "align_self": null,
            "height": null,
            "min_height": null,
            "padding": null,
            "grid_auto_rows": null,
            "grid_gap": null,
            "max_width": null,
            "order": null,
            "_view_module_version": "1.2.0",
            "grid_template_areas": null,
            "object_position": null,
            "object_fit": null,
            "grid_auto_columns": null,
            "margin": null,
            "display": null,
            "left": null
          }
        },
        "224da281747c4381a6b4f96751594156": {
          "model_module": "@jupyter-widgets/controls",
          "model_name": "HBoxModel",
          "state": {
            "_view_name": "HBoxView",
            "_dom_classes": [],
            "_model_name": "HBoxModel",
            "_view_module": "@jupyter-widgets/controls",
            "_model_module_version": "1.5.0",
            "_view_count": null,
            "_view_module_version": "1.5.0",
            "box_style": "",
            "layout": "IPY_MODEL_b3a43d35381945978621b39b7cee725f",
            "_model_module": "@jupyter-widgets/controls",
            "children": [
              "IPY_MODEL_5ceaf78bc8c24d87a619dca0c77dad43",
              "IPY_MODEL_6b9fae9b54b948598115604e3c2ee718"
            ]
          }
        },
        "b3a43d35381945978621b39b7cee725f": {
          "model_module": "@jupyter-widgets/base",
          "model_name": "LayoutModel",
          "state": {
            "_view_name": "LayoutView",
            "grid_template_rows": null,
            "right": null,
            "justify_content": null,
            "_view_module": "@jupyter-widgets/base",
            "overflow": null,
            "_model_module_version": "1.2.0",
            "_view_count": null,
            "flex_flow": null,
            "width": null,
            "min_width": null,
            "border": null,
            "align_items": null,
            "bottom": null,
            "_model_module": "@jupyter-widgets/base",
            "top": null,
            "grid_column": null,
            "overflow_y": null,
            "overflow_x": null,
            "grid_auto_flow": null,
            "grid_area": null,
            "grid_template_columns": null,
            "flex": null,
            "_model_name": "LayoutModel",
            "justify_items": null,
            "grid_row": null,
            "max_height": null,
            "align_content": null,
            "visibility": null,
            "align_self": null,
            "height": null,
            "min_height": null,
            "padding": null,
            "grid_auto_rows": null,
            "grid_gap": null,
            "max_width": null,
            "order": null,
            "_view_module_version": "1.2.0",
            "grid_template_areas": null,
            "object_position": null,
            "object_fit": null,
            "grid_auto_columns": null,
            "margin": null,
            "display": null,
            "left": null
          }
        },
        "5ceaf78bc8c24d87a619dca0c77dad43": {
          "model_module": "@jupyter-widgets/controls",
          "model_name": "FloatProgressModel",
          "state": {
            "_view_name": "ProgressView",
            "style": "IPY_MODEL_d377257d0751440e90935cd550b59114",
            "_dom_classes": [],
            "description": "100%",
            "_model_name": "FloatProgressModel",
            "bar_style": "success",
            "max": 10,
            "_view_module": "@jupyter-widgets/controls",
            "_model_module_version": "1.5.0",
            "value": 10,
            "_view_count": null,
            "_view_module_version": "1.5.0",
            "orientation": "horizontal",
            "min": 0,
            "description_tooltip": null,
            "_model_module": "@jupyter-widgets/controls",
            "layout": "IPY_MODEL_d2c33f864fc74d52b3146934c38469d5"
          }
        },
        "6b9fae9b54b948598115604e3c2ee718": {
          "model_module": "@jupyter-widgets/controls",
          "model_name": "HTMLModel",
          "state": {
            "_view_name": "HTMLView",
            "style": "IPY_MODEL_c1705fba9ab843dfb0a871f78e827913",
            "_dom_classes": [],
            "description": "",
            "_model_name": "HTMLModel",
            "placeholder": "​",
            "_view_module": "@jupyter-widgets/controls",
            "_model_module_version": "1.5.0",
            "value": " 10/10 [00:03&lt;00:00,  2.85it/s, train_acc=0.973, valid_acc=0.918, test_acc=0.882]",
            "_view_count": null,
            "_view_module_version": "1.5.0",
            "description_tooltip": null,
            "_model_module": "@jupyter-widgets/controls",
            "layout": "IPY_MODEL_e7bbd747ae634f7aacb10b2b8bec4f2c"
          }
        },
        "d377257d0751440e90935cd550b59114": {
          "model_module": "@jupyter-widgets/controls",
          "model_name": "ProgressStyleModel",
          "state": {
            "_view_name": "StyleView",
            "_model_name": "ProgressStyleModel",
            "description_width": "initial",
            "_view_module": "@jupyter-widgets/base",
            "_model_module_version": "1.5.0",
            "_view_count": null,
            "_view_module_version": "1.2.0",
            "bar_color": null,
            "_model_module": "@jupyter-widgets/controls"
          }
        },
        "d2c33f864fc74d52b3146934c38469d5": {
          "model_module": "@jupyter-widgets/base",
          "model_name": "LayoutModel",
          "state": {
            "_view_name": "LayoutView",
            "grid_template_rows": null,
            "right": null,
            "justify_content": null,
            "_view_module": "@jupyter-widgets/base",
            "overflow": null,
            "_model_module_version": "1.2.0",
            "_view_count": null,
            "flex_flow": null,
            "width": null,
            "min_width": null,
            "border": null,
            "align_items": null,
            "bottom": null,
            "_model_module": "@jupyter-widgets/base",
            "top": null,
            "grid_column": null,
            "overflow_y": null,
            "overflow_x": null,
            "grid_auto_flow": null,
            "grid_area": null,
            "grid_template_columns": null,
            "flex": null,
            "_model_name": "LayoutModel",
            "justify_items": null,
            "grid_row": null,
            "max_height": null,
            "align_content": null,
            "visibility": null,
            "align_self": null,
            "height": null,
            "min_height": null,
            "padding": null,
            "grid_auto_rows": null,
            "grid_gap": null,
            "max_width": null,
            "order": null,
            "_view_module_version": "1.2.0",
            "grid_template_areas": null,
            "object_position": null,
            "object_fit": null,
            "grid_auto_columns": null,
            "margin": null,
            "display": null,
            "left": null
          }
        },
        "c1705fba9ab843dfb0a871f78e827913": {
          "model_module": "@jupyter-widgets/controls",
          "model_name": "DescriptionStyleModel",
          "state": {
            "_view_name": "StyleView",
            "_model_name": "DescriptionStyleModel",
            "description_width": "",
            "_view_module": "@jupyter-widgets/base",
            "_model_module_version": "1.5.0",
            "_view_count": null,
            "_view_module_version": "1.2.0",
            "_model_module": "@jupyter-widgets/controls"
          }
        },
        "e7bbd747ae634f7aacb10b2b8bec4f2c": {
          "model_module": "@jupyter-widgets/base",
          "model_name": "LayoutModel",
          "state": {
            "_view_name": "LayoutView",
            "grid_template_rows": null,
            "right": null,
            "justify_content": null,
            "_view_module": "@jupyter-widgets/base",
            "overflow": null,
            "_model_module_version": "1.2.0",
            "_view_count": null,
            "flex_flow": null,
            "width": null,
            "min_width": null,
            "border": null,
            "align_items": null,
            "bottom": null,
            "_model_module": "@jupyter-widgets/base",
            "top": null,
            "grid_column": null,
            "overflow_y": null,
            "overflow_x": null,
            "grid_auto_flow": null,
            "grid_area": null,
            "grid_template_columns": null,
            "flex": null,
            "_model_name": "LayoutModel",
            "justify_items": null,
            "grid_row": null,
            "max_height": null,
            "align_content": null,
            "visibility": null,
            "align_self": null,
            "height": null,
            "min_height": null,
            "padding": null,
            "grid_auto_rows": null,
            "grid_gap": null,
            "max_width": null,
            "order": null,
            "_view_module_version": "1.2.0",
            "grid_template_areas": null,
            "object_position": null,
            "object_fit": null,
            "grid_auto_columns": null,
            "margin": null,
            "display": null,
            "left": null
          }
        },
        "b5f733d9dd014c249584e138f9002dac": {
          "model_module": "@jupyter-widgets/controls",
          "model_name": "HBoxModel",
          "state": {
            "_view_name": "HBoxView",
            "_dom_classes": [],
            "_model_name": "HBoxModel",
            "_view_module": "@jupyter-widgets/controls",
            "_model_module_version": "1.5.0",
            "_view_count": null,
            "_view_module_version": "1.5.0",
            "box_style": "",
            "layout": "IPY_MODEL_f5e6359229264362b62221150124684f",
            "_model_module": "@jupyter-widgets/controls",
            "children": [
              "IPY_MODEL_fd9b568e2a214ee7b4472a49749c32fc",
              "IPY_MODEL_2cad667d00e34007b8f95df72e317ca3"
            ]
          }
        },
        "f5e6359229264362b62221150124684f": {
          "model_module": "@jupyter-widgets/base",
          "model_name": "LayoutModel",
          "state": {
            "_view_name": "LayoutView",
            "grid_template_rows": null,
            "right": null,
            "justify_content": null,
            "_view_module": "@jupyter-widgets/base",
            "overflow": null,
            "_model_module_version": "1.2.0",
            "_view_count": null,
            "flex_flow": null,
            "width": null,
            "min_width": null,
            "border": null,
            "align_items": null,
            "bottom": null,
            "_model_module": "@jupyter-widgets/base",
            "top": null,
            "grid_column": null,
            "overflow_y": null,
            "overflow_x": null,
            "grid_auto_flow": null,
            "grid_area": null,
            "grid_template_columns": null,
            "flex": null,
            "_model_name": "LayoutModel",
            "justify_items": null,
            "grid_row": null,
            "max_height": null,
            "align_content": null,
            "visibility": null,
            "align_self": null,
            "height": null,
            "min_height": null,
            "padding": null,
            "grid_auto_rows": null,
            "grid_gap": null,
            "max_width": null,
            "order": null,
            "_view_module_version": "1.2.0",
            "grid_template_areas": null,
            "object_position": null,
            "object_fit": null,
            "grid_auto_columns": null,
            "margin": null,
            "display": null,
            "left": null
          }
        },
        "fd9b568e2a214ee7b4472a49749c32fc": {
          "model_module": "@jupyter-widgets/controls",
          "model_name": "FloatProgressModel",
          "state": {
            "_view_name": "ProgressView",
            "style": "IPY_MODEL_628aee0eda164a22b6ecd0212fbc8bf2",
            "_dom_classes": [],
            "description": "100%",
            "_model_name": "FloatProgressModel",
            "bar_style": "success",
            "max": 15,
            "_view_module": "@jupyter-widgets/controls",
            "_model_module_version": "1.5.0",
            "value": 15,
            "_view_count": null,
            "_view_module_version": "1.5.0",
            "orientation": "horizontal",
            "min": 0,
            "description_tooltip": null,
            "_model_module": "@jupyter-widgets/controls",
            "layout": "IPY_MODEL_fc4b0154cc434ae98f5bbe41677b37a6"
          }
        },
        "2cad667d00e34007b8f95df72e317ca3": {
          "model_module": "@jupyter-widgets/controls",
          "model_name": "HTMLModel",
          "state": {
            "_view_name": "HTMLView",
            "style": "IPY_MODEL_7a2d674621344a26ad9c2a94c31142ca",
            "_dom_classes": [],
            "description": "",
            "_model_name": "HTMLModel",
            "placeholder": "​",
            "_view_module": "@jupyter-widgets/controls",
            "_model_module_version": "1.5.0",
            "value": " 15/15 [00:29&lt;00:00,  1.94s/it, train_acc=0.934, valid_acc=0.9, test_acc=0.864]",
            "_view_count": null,
            "_view_module_version": "1.5.0",
            "description_tooltip": null,
            "_model_module": "@jupyter-widgets/controls",
            "layout": "IPY_MODEL_1c8d6192961a4d9dbcb271df977e9eab"
          }
        },
        "628aee0eda164a22b6ecd0212fbc8bf2": {
          "model_module": "@jupyter-widgets/controls",
          "model_name": "ProgressStyleModel",
          "state": {
            "_view_name": "StyleView",
            "_model_name": "ProgressStyleModel",
            "description_width": "initial",
            "_view_module": "@jupyter-widgets/base",
            "_model_module_version": "1.5.0",
            "_view_count": null,
            "_view_module_version": "1.2.0",
            "bar_color": null,
            "_model_module": "@jupyter-widgets/controls"
          }
        },
        "fc4b0154cc434ae98f5bbe41677b37a6": {
          "model_module": "@jupyter-widgets/base",
          "model_name": "LayoutModel",
          "state": {
            "_view_name": "LayoutView",
            "grid_template_rows": null,
            "right": null,
            "justify_content": null,
            "_view_module": "@jupyter-widgets/base",
            "overflow": null,
            "_model_module_version": "1.2.0",
            "_view_count": null,
            "flex_flow": null,
            "width": null,
            "min_width": null,
            "border": null,
            "align_items": null,
            "bottom": null,
            "_model_module": "@jupyter-widgets/base",
            "top": null,
            "grid_column": null,
            "overflow_y": null,
            "overflow_x": null,
            "grid_auto_flow": null,
            "grid_area": null,
            "grid_template_columns": null,
            "flex": null,
            "_model_name": "LayoutModel",
            "justify_items": null,
            "grid_row": null,
            "max_height": null,
            "align_content": null,
            "visibility": null,
            "align_self": null,
            "height": null,
            "min_height": null,
            "padding": null,
            "grid_auto_rows": null,
            "grid_gap": null,
            "max_width": null,
            "order": null,
            "_view_module_version": "1.2.0",
            "grid_template_areas": null,
            "object_position": null,
            "object_fit": null,
            "grid_auto_columns": null,
            "margin": null,
            "display": null,
            "left": null
          }
        },
        "7a2d674621344a26ad9c2a94c31142ca": {
          "model_module": "@jupyter-widgets/controls",
          "model_name": "DescriptionStyleModel",
          "state": {
            "_view_name": "StyleView",
            "_model_name": "DescriptionStyleModel",
            "description_width": "",
            "_view_module": "@jupyter-widgets/base",
            "_model_module_version": "1.5.0",
            "_view_count": null,
            "_view_module_version": "1.2.0",
            "_model_module": "@jupyter-widgets/controls"
          }
        },
        "1c8d6192961a4d9dbcb271df977e9eab": {
          "model_module": "@jupyter-widgets/base",
          "model_name": "LayoutModel",
          "state": {
            "_view_name": "LayoutView",
            "grid_template_rows": null,
            "right": null,
            "justify_content": null,
            "_view_module": "@jupyter-widgets/base",
            "overflow": null,
            "_model_module_version": "1.2.0",
            "_view_count": null,
            "flex_flow": null,
            "width": null,
            "min_width": null,
            "border": null,
            "align_items": null,
            "bottom": null,
            "_model_module": "@jupyter-widgets/base",
            "top": null,
            "grid_column": null,
            "overflow_y": null,
            "overflow_x": null,
            "grid_auto_flow": null,
            "grid_area": null,
            "grid_template_columns": null,
            "flex": null,
            "_model_name": "LayoutModel",
            "justify_items": null,
            "grid_row": null,
            "max_height": null,
            "align_content": null,
            "visibility": null,
            "align_self": null,
            "height": null,
            "min_height": null,
            "padding": null,
            "grid_auto_rows": null,
            "grid_gap": null,
            "max_width": null,
            "order": null,
            "_view_module_version": "1.2.0",
            "grid_template_areas": null,
            "object_position": null,
            "object_fit": null,
            "grid_auto_columns": null,
            "margin": null,
            "display": null,
            "left": null
          }
        },
        "0044693cb27f40c9a28c81a728027d6c": {
          "model_module": "@jupyter-widgets/controls",
          "model_name": "HBoxModel",
          "state": {
            "_view_name": "HBoxView",
            "_dom_classes": [],
            "_model_name": "HBoxModel",
            "_view_module": "@jupyter-widgets/controls",
            "_model_module_version": "1.5.0",
            "_view_count": null,
            "_view_module_version": "1.5.0",
            "box_style": "",
            "layout": "IPY_MODEL_063880e92cff4de0a7ffb3e8763a3e50",
            "_model_module": "@jupyter-widgets/controls",
            "children": [
              "IPY_MODEL_b108593180f54e15b2d0d1121ac74a48",
              "IPY_MODEL_72eba21a5fb648df9a017c35ac1a7898"
            ]
          }
        },
        "063880e92cff4de0a7ffb3e8763a3e50": {
          "model_module": "@jupyter-widgets/base",
          "model_name": "LayoutModel",
          "state": {
            "_view_name": "LayoutView",
            "grid_template_rows": null,
            "right": null,
            "justify_content": null,
            "_view_module": "@jupyter-widgets/base",
            "overflow": null,
            "_model_module_version": "1.2.0",
            "_view_count": null,
            "flex_flow": null,
            "width": null,
            "min_width": null,
            "border": null,
            "align_items": null,
            "bottom": null,
            "_model_module": "@jupyter-widgets/base",
            "top": null,
            "grid_column": null,
            "overflow_y": null,
            "overflow_x": null,
            "grid_auto_flow": null,
            "grid_area": null,
            "grid_template_columns": null,
            "flex": null,
            "_model_name": "LayoutModel",
            "justify_items": null,
            "grid_row": null,
            "max_height": null,
            "align_content": null,
            "visibility": null,
            "align_self": null,
            "height": null,
            "min_height": null,
            "padding": null,
            "grid_auto_rows": null,
            "grid_gap": null,
            "max_width": null,
            "order": null,
            "_view_module_version": "1.2.0",
            "grid_template_areas": null,
            "object_position": null,
            "object_fit": null,
            "grid_auto_columns": null,
            "margin": null,
            "display": null,
            "left": null
          }
        },
        "b108593180f54e15b2d0d1121ac74a48": {
          "model_module": "@jupyter-widgets/controls",
          "model_name": "FloatProgressModel",
          "state": {
            "_view_name": "ProgressView",
            "style": "IPY_MODEL_c9b40711ca5b44248f966be1c61e132b",
            "_dom_classes": [],
            "description": "Downloading: 100%",
            "_model_name": "FloatProgressModel",
            "bar_style": "success",
            "max": 466062,
            "_view_module": "@jupyter-widgets/controls",
            "_model_module_version": "1.5.0",
            "value": 466062,
            "_view_count": null,
            "_view_module_version": "1.5.0",
            "orientation": "horizontal",
            "min": 0,
            "description_tooltip": null,
            "_model_module": "@jupyter-widgets/controls",
            "layout": "IPY_MODEL_98f712b10b84461ebdcda88e38bf7b91"
          }
        },
        "72eba21a5fb648df9a017c35ac1a7898": {
          "model_module": "@jupyter-widgets/controls",
          "model_name": "HTMLModel",
          "state": {
            "_view_name": "HTMLView",
            "style": "IPY_MODEL_e25f6477aa1d4a93bacd22dc4841a965",
            "_dom_classes": [],
            "description": "",
            "_model_name": "HTMLModel",
            "placeholder": "​",
            "_view_module": "@jupyter-widgets/controls",
            "_model_module_version": "1.5.0",
            "value": " 466k/466k [53:11&lt;00:00, 146B/s]",
            "_view_count": null,
            "_view_module_version": "1.5.0",
            "description_tooltip": null,
            "_model_module": "@jupyter-widgets/controls",
            "layout": "IPY_MODEL_c39194e00c8642178e69a2ed87471b2c"
          }
        },
        "c9b40711ca5b44248f966be1c61e132b": {
          "model_module": "@jupyter-widgets/controls",
          "model_name": "ProgressStyleModel",
          "state": {
            "_view_name": "StyleView",
            "_model_name": "ProgressStyleModel",
            "description_width": "initial",
            "_view_module": "@jupyter-widgets/base",
            "_model_module_version": "1.5.0",
            "_view_count": null,
            "_view_module_version": "1.2.0",
            "bar_color": null,
            "_model_module": "@jupyter-widgets/controls"
          }
        },
        "98f712b10b84461ebdcda88e38bf7b91": {
          "model_module": "@jupyter-widgets/base",
          "model_name": "LayoutModel",
          "state": {
            "_view_name": "LayoutView",
            "grid_template_rows": null,
            "right": null,
            "justify_content": null,
            "_view_module": "@jupyter-widgets/base",
            "overflow": null,
            "_model_module_version": "1.2.0",
            "_view_count": null,
            "flex_flow": null,
            "width": null,
            "min_width": null,
            "border": null,
            "align_items": null,
            "bottom": null,
            "_model_module": "@jupyter-widgets/base",
            "top": null,
            "grid_column": null,
            "overflow_y": null,
            "overflow_x": null,
            "grid_auto_flow": null,
            "grid_area": null,
            "grid_template_columns": null,
            "flex": null,
            "_model_name": "LayoutModel",
            "justify_items": null,
            "grid_row": null,
            "max_height": null,
            "align_content": null,
            "visibility": null,
            "align_self": null,
            "height": null,
            "min_height": null,
            "padding": null,
            "grid_auto_rows": null,
            "grid_gap": null,
            "max_width": null,
            "order": null,
            "_view_module_version": "1.2.0",
            "grid_template_areas": null,
            "object_position": null,
            "object_fit": null,
            "grid_auto_columns": null,
            "margin": null,
            "display": null,
            "left": null
          }
        },
        "e25f6477aa1d4a93bacd22dc4841a965": {
          "model_module": "@jupyter-widgets/controls",
          "model_name": "DescriptionStyleModel",
          "state": {
            "_view_name": "StyleView",
            "_model_name": "DescriptionStyleModel",
            "description_width": "",
            "_view_module": "@jupyter-widgets/base",
            "_model_module_version": "1.5.0",
            "_view_count": null,
            "_view_module_version": "1.2.0",
            "_model_module": "@jupyter-widgets/controls"
          }
        },
        "c39194e00c8642178e69a2ed87471b2c": {
          "model_module": "@jupyter-widgets/base",
          "model_name": "LayoutModel",
          "state": {
            "_view_name": "LayoutView",
            "grid_template_rows": null,
            "right": null,
            "justify_content": null,
            "_view_module": "@jupyter-widgets/base",
            "overflow": null,
            "_model_module_version": "1.2.0",
            "_view_count": null,
            "flex_flow": null,
            "width": null,
            "min_width": null,
            "border": null,
            "align_items": null,
            "bottom": null,
            "_model_module": "@jupyter-widgets/base",
            "top": null,
            "grid_column": null,
            "overflow_y": null,
            "overflow_x": null,
            "grid_auto_flow": null,
            "grid_area": null,
            "grid_template_columns": null,
            "flex": null,
            "_model_name": "LayoutModel",
            "justify_items": null,
            "grid_row": null,
            "max_height": null,
            "align_content": null,
            "visibility": null,
            "align_self": null,
            "height": null,
            "min_height": null,
            "padding": null,
            "grid_auto_rows": null,
            "grid_gap": null,
            "max_width": null,
            "order": null,
            "_view_module_version": "1.2.0",
            "grid_template_areas": null,
            "object_position": null,
            "object_fit": null,
            "grid_auto_columns": null,
            "margin": null,
            "display": null,
            "left": null
          }
        },
        "4fdb2a2f967748d8b0475d511e841b8c": {
          "model_module": "@jupyter-widgets/controls",
          "model_name": "HBoxModel",
          "state": {
            "_view_name": "HBoxView",
            "_dom_classes": [],
            "_model_name": "HBoxModel",
            "_view_module": "@jupyter-widgets/controls",
            "_model_module_version": "1.5.0",
            "_view_count": null,
            "_view_module_version": "1.5.0",
            "box_style": "",
            "layout": "IPY_MODEL_3f0b69c279ab4f15bcbc7650dc6bfe8b",
            "_model_module": "@jupyter-widgets/controls",
            "children": [
              "IPY_MODEL_5a8c23fea56b43f2ae9596b76ec5fb15",
              "IPY_MODEL_407483d52b714a229a19302d7afa1cf9"
            ]
          }
        },
        "3f0b69c279ab4f15bcbc7650dc6bfe8b": {
          "model_module": "@jupyter-widgets/base",
          "model_name": "LayoutModel",
          "state": {
            "_view_name": "LayoutView",
            "grid_template_rows": null,
            "right": null,
            "justify_content": null,
            "_view_module": "@jupyter-widgets/base",
            "overflow": null,
            "_model_module_version": "1.2.0",
            "_view_count": null,
            "flex_flow": null,
            "width": null,
            "min_width": null,
            "border": null,
            "align_items": null,
            "bottom": null,
            "_model_module": "@jupyter-widgets/base",
            "top": null,
            "grid_column": null,
            "overflow_y": null,
            "overflow_x": null,
            "grid_auto_flow": null,
            "grid_area": null,
            "grid_template_columns": null,
            "flex": null,
            "_model_name": "LayoutModel",
            "justify_items": null,
            "grid_row": null,
            "max_height": null,
            "align_content": null,
            "visibility": null,
            "align_self": null,
            "height": null,
            "min_height": null,
            "padding": null,
            "grid_auto_rows": null,
            "grid_gap": null,
            "max_width": null,
            "order": null,
            "_view_module_version": "1.2.0",
            "grid_template_areas": null,
            "object_position": null,
            "object_fit": null,
            "grid_auto_columns": null,
            "margin": null,
            "display": null,
            "left": null
          }
        },
        "5a8c23fea56b43f2ae9596b76ec5fb15": {
          "model_module": "@jupyter-widgets/controls",
          "model_name": "FloatProgressModel",
          "state": {
            "_view_name": "ProgressView",
            "style": "IPY_MODEL_39a2f61d05434c4e800bf77edca540be",
            "_dom_classes": [],
            "description": "100%",
            "_model_name": "FloatProgressModel",
            "bar_style": "success",
            "max": 3,
            "_view_module": "@jupyter-widgets/controls",
            "_model_module_version": "1.5.0",
            "value": 3,
            "_view_count": null,
            "_view_module_version": "1.5.0",
            "orientation": "horizontal",
            "min": 0,
            "description_tooltip": null,
            "_model_module": "@jupyter-widgets/controls",
            "layout": "IPY_MODEL_9a99c7c8b3ad434ca03926b20a0f5816"
          }
        },
        "407483d52b714a229a19302d7afa1cf9": {
          "model_module": "@jupyter-widgets/controls",
          "model_name": "HTMLModel",
          "state": {
            "_view_name": "HTMLView",
            "style": "IPY_MODEL_874d4b4beb7949419f936a8ce3bad746",
            "_dom_classes": [],
            "description": "",
            "_model_name": "HTMLModel",
            "placeholder": "​",
            "_view_module": "@jupyter-widgets/controls",
            "_model_module_version": "1.5.0",
            "value": " 3/3 [05:41&lt;00:00, 113.94s/it, train_acc=0.993, valid_acc=0.944, test_acc=0.924]",
            "_view_count": null,
            "_view_module_version": "1.5.0",
            "description_tooltip": null,
            "_model_module": "@jupyter-widgets/controls",
            "layout": "IPY_MODEL_7cb311852aca452fa170bf40edf143ef"
          }
        },
        "39a2f61d05434c4e800bf77edca540be": {
          "model_module": "@jupyter-widgets/controls",
          "model_name": "ProgressStyleModel",
          "state": {
            "_view_name": "StyleView",
            "_model_name": "ProgressStyleModel",
            "description_width": "initial",
            "_view_module": "@jupyter-widgets/base",
            "_model_module_version": "1.5.0",
            "_view_count": null,
            "_view_module_version": "1.2.0",
            "bar_color": null,
            "_model_module": "@jupyter-widgets/controls"
          }
        },
        "9a99c7c8b3ad434ca03926b20a0f5816": {
          "model_module": "@jupyter-widgets/base",
          "model_name": "LayoutModel",
          "state": {
            "_view_name": "LayoutView",
            "grid_template_rows": null,
            "right": null,
            "justify_content": null,
            "_view_module": "@jupyter-widgets/base",
            "overflow": null,
            "_model_module_version": "1.2.0",
            "_view_count": null,
            "flex_flow": null,
            "width": null,
            "min_width": null,
            "border": null,
            "align_items": null,
            "bottom": null,
            "_model_module": "@jupyter-widgets/base",
            "top": null,
            "grid_column": null,
            "overflow_y": null,
            "overflow_x": null,
            "grid_auto_flow": null,
            "grid_area": null,
            "grid_template_columns": null,
            "flex": null,
            "_model_name": "LayoutModel",
            "justify_items": null,
            "grid_row": null,
            "max_height": null,
            "align_content": null,
            "visibility": null,
            "align_self": null,
            "height": null,
            "min_height": null,
            "padding": null,
            "grid_auto_rows": null,
            "grid_gap": null,
            "max_width": null,
            "order": null,
            "_view_module_version": "1.2.0",
            "grid_template_areas": null,
            "object_position": null,
            "object_fit": null,
            "grid_auto_columns": null,
            "margin": null,
            "display": null,
            "left": null
          }
        },
        "874d4b4beb7949419f936a8ce3bad746": {
          "model_module": "@jupyter-widgets/controls",
          "model_name": "DescriptionStyleModel",
          "state": {
            "_view_name": "StyleView",
            "_model_name": "DescriptionStyleModel",
            "description_width": "",
            "_view_module": "@jupyter-widgets/base",
            "_model_module_version": "1.5.0",
            "_view_count": null,
            "_view_module_version": "1.2.0",
            "_model_module": "@jupyter-widgets/controls"
          }
        },
        "7cb311852aca452fa170bf40edf143ef": {
          "model_module": "@jupyter-widgets/base",
          "model_name": "LayoutModel",
          "state": {
            "_view_name": "LayoutView",
            "grid_template_rows": null,
            "right": null,
            "justify_content": null,
            "_view_module": "@jupyter-widgets/base",
            "overflow": null,
            "_model_module_version": "1.2.0",
            "_view_count": null,
            "flex_flow": null,
            "width": null,
            "min_width": null,
            "border": null,
            "align_items": null,
            "bottom": null,
            "_model_module": "@jupyter-widgets/base",
            "top": null,
            "grid_column": null,
            "overflow_y": null,
            "overflow_x": null,
            "grid_auto_flow": null,
            "grid_area": null,
            "grid_template_columns": null,
            "flex": null,
            "_model_name": "LayoutModel",
            "justify_items": null,
            "grid_row": null,
            "max_height": null,
            "align_content": null,
            "visibility": null,
            "align_self": null,
            "height": null,
            "min_height": null,
            "padding": null,
            "grid_auto_rows": null,
            "grid_gap": null,
            "max_width": null,
            "order": null,
            "_view_module_version": "1.2.0",
            "grid_template_areas": null,
            "object_position": null,
            "object_fit": null,
            "grid_auto_columns": null,
            "margin": null,
            "display": null,
            "left": null
          }
        }
      }
    }
  },
  "cells": [
    {
      "cell_type": "code",
      "metadata": {
        "id": "Sea0TnAXPhRg"
      },
      "source": [
        "import pandas as pd\n",
        "train_df = pd.read_csv('train.txt', delimiter='\\t')\n",
        "valid_df = pd.read_csv('valid.txt', delimiter='\\t')\n",
        "test_df = pd.read_csv('test.txt', delimiter='\\t')"
      ],
      "execution_count": 1,
      "outputs": []
    },
    {
      "cell_type": "code",
      "metadata": {
        "id": "YV1qahILP5CG"
      },
      "source": [
        "import spacy\n",
        "nlp = spacy.load('en_core_web_sm')"
      ],
      "execution_count": 2,
      "outputs": []
    },
    {
      "cell_type": "code",
      "metadata": {
        "id": "CAkYpSM2P6jH"
      },
      "source": [
        "import re\n",
        "import time\n",
        "from collections import  Counter\n",
        "from pathlib import Path\n",
        "\n",
        "import numpy as np\n",
        "import gensim\n",
        "import pickle\n",
        "import scipy\n",
        "\n",
        "from tqdm.auto import tqdm\n",
        "\n",
        "import torch\n",
        "import torch.nn as nn\n",
        "from torch.nn.utils.rnn import pad_sequence\n",
        "from torch.utils.data import TensorDataset, DataLoader, Dataset\n",
        "\n",
        "from sklearn.metrics import accuracy_score\n",
        "\n",
        "import matplotlib.pyplot as plt"
      ],
      "execution_count": 3,
      "outputs": []
    },
    {
      "cell_type": "code",
      "metadata": {
        "id": "n07zNl1LP8Xs"
      },
      "source": [
        "# 第6章と同様に前処理\n",
        "# ulrの削除\n",
        "def remove_url(text):\n",
        "    url_pat = r'http[s]?://(?:[a-zA-Z]|[0-9]|[$-_@.&+]|[!*\\(\\),]|(?:%[0-9a-fA-F][0-9a-fA-F]))+'\n",
        "    text = re.sub(url_pat, ' ', text)\n",
        "    return text\n",
        "\n",
        "# 小文字化\n",
        "def lower_text(text):\n",
        "    return text.lower()\n",
        "\n",
        "# トークン化\n",
        "def tokenize(text):\n",
        "    tokens = ' '.join([str(token) for token in nlp.make_doc(text) if str(token) != ' '])\n",
        "    return tokens\n",
        "\n",
        "def preporcessing(text):\n",
        "    text = lower_text(text)\n",
        "    text = remove_url(text)\n",
        "    tokens = tokenize(text)\n",
        "    return tokens"
      ],
      "execution_count": 4,
      "outputs": []
    },
    {
      "cell_type": "code",
      "metadata": {
        "id": "dQEiyPXGQDIL"
      },
      "source": [
        "train_title_tokenized = train_df['title'].map(preporcessing)\n",
        "valid_title_tokenized = valid_df['title'].map(preporcessing)\n",
        "test_title_tokenized = test_df['title'].map(preporcessing)"
      ],
      "execution_count": 5,
      "outputs": []
    },
    {
      "cell_type": "code",
      "metadata": {
        "id": "-zE_1SGs06sU"
      },
      "source": [
        "category_map = {'b': 0, 't': 1, 'e':2, 'm': 3}\n",
        "train_df['category'] = train_df['category'].map(category_map)\n",
        "valid_df['category'] = valid_df['category'].map(category_map)\n",
        "test_df['category'] = test_df['category'].map(category_map)"
      ],
      "execution_count": 6,
      "outputs": []
    },
    {
      "cell_type": "markdown",
      "metadata": {
        "id": "hJ2w3qyyPtf0"
      },
      "source": [
        "# ch 80"
      ]
    },
    {
      "cell_type": "code",
      "metadata": {
        "id": "zcB4eERRQESJ"
      },
      "source": [
        "# train内で2回以上出現した単語を選択\n",
        "counter = Counter()\n",
        "for text in train_title_tokenized:\n",
        "    counter.update(text.split())\n",
        "\n",
        "vocab = {'<unk>': 0, '<pad>': 1}\n",
        "vocab_id = 2\n",
        "for word, freq in counter.items():\n",
        "    if freq >= 2:\n",
        "        vocab[word] = vocab_id\n",
        "        vocab_id += 1"
      ],
      "execution_count": 7,
      "outputs": []
    },
    {
      "cell_type": "code",
      "metadata": {
        "id": "JAE-0yLOQGPo",
        "outputId": "d7ae465c-42ee-4760-af32-e3f37898840e",
        "colab": {
          "base_uri": "https://localhost:8080/",
          "height": 34
        }
      },
      "source": [
        "len(vocab)"
      ],
      "execution_count": 8,
      "outputs": [
        {
          "output_type": "execute_result",
          "data": {
            "text/plain": [
              "6496"
            ]
          },
          "metadata": {
            "tags": []
          },
          "execution_count": 8
        }
      ]
    },
    {
      "cell_type": "code",
      "metadata": {
        "id": "w8TY82IEEvtU"
      },
      "source": [
        "it2token = {0:'<unk>', 1: '<pad>'}\n",
        "it2token.update({v:k for k, v in vocab.items()})"
      ],
      "execution_count": 9,
      "outputs": []
    },
    {
      "cell_type": "code",
      "metadata": {
        "id": "0BfKlqzX1Gp5"
      },
      "source": [
        "def encode(text):\n",
        "    return [vocab[token] if vocab.get(token) else 0 for token in text.split()]"
      ],
      "execution_count": 10,
      "outputs": []
    },
    {
      "cell_type": "code",
      "metadata": {
        "id": "2GvD3Dwi1Wff"
      },
      "source": [
        "x_train = list(map(encode, train_title_tokenized))\n",
        "y_train = train_df['category'].values\n",
        "\n",
        "x_valid = list(map(encode, valid_title_tokenized))\n",
        "y_valid = valid_df['category'].values\n",
        "\n",
        "x_test = list(map(encode, test_title_tokenized))\n",
        "y_test = test_df['category'].values"
      ],
      "execution_count": 151,
      "outputs": []
    },
    {
      "cell_type": "code",
      "metadata": {
        "id": "2DnFf8x02DXm",
        "outputId": "b2660143-294d-4dc2-cc2a-d18b6b5d9a9f",
        "colab": {
          "base_uri": "https://localhost:8080/",
          "height": 68
        }
      },
      "source": [
        "print(x_train[10])\n",
        "print(train_title_tokenized[10])\n",
        "print(' '.join([it2token[token] for token in x_train[10]]))"
      ],
      "execution_count": 12,
      "outputs": [
        {
          "output_type": "stream",
          "text": [
            "[93, 37, 94, 7, 95, 0, 96, 45, 97, 98]\n",
            "southern and turner to buy macho springs from first solar\n",
            "southern and turner to buy <unk> springs from first solar\n"
          ],
          "name": "stdout"
        }
      ]
    },
    {
      "cell_type": "markdown",
      "metadata": {
        "id": "j8439AIOtO2q"
      },
      "source": [
        "# 81 - 85\n",
        "RNNによる予測\n",
        "- RNNの出力を確認\n",
        "- SGDによる学習\n",
        "- ミニバッチ化, GPU上での学習\n",
        "- 単語ベクトルの導入\n",
        "- 多層化\n"
      ]
    },
    {
      "cell_type": "code",
      "metadata": {
        "id": "Aq1DHjsGy7vp"
      },
      "source": [
        "class TextDataset(Dataset):\n",
        "    def __init__(self, xs, ys=None):\n",
        "        self.xs = xs\n",
        "        self.ys = ys\n",
        "\n",
        "    def __len__(self):\n",
        "        return len(self.xs)\n",
        "\n",
        "    def __getitem__(self, index):\n",
        "        if self.ys is None:\n",
        "            return self.xs[index]\n",
        "        return self.xs[index], self.ys[index]"
      ],
      "execution_count": 13,
      "outputs": []
    },
    {
      "cell_type": "code",
      "metadata": {
        "id": "1L5C0jN03hYw"
      },
      "source": [
        "def collate_fn(batch):\n",
        "    def _pad_sequences(seqs):\n",
        "        lens = [len(seq) for seq in seqs]\n",
        "        max_len = max(lens)\n",
        "\n",
        "        # 最初にPADDINGの配列用意\n",
        "        # 1がPAD TOKEN\n",
        "        padded_seqs = torch.ones(len(seqs), max_len).long()\n",
        "        for i, seq in enumerate(seqs):\n",
        "            start = max_len - lens[i]\n",
        "            padded_seqs[i, :lens[i]] = torch.LongTensor(seq)\n",
        "        return padded_seqs\n",
        "    \n",
        "    if isinstance(batch[0], tuple):\n",
        "        transposed = list(zip(*batch))\n",
        "        data = transposed[0]\n",
        "        data = _pad_sequences(data)\n",
        "        return data, torch.LongTensor(transposed[1])\n",
        "\n",
        "    else:\n",
        "        data = _pad_sequences(batch)\n",
        "        return data"
      ],
      "execution_count": 14,
      "outputs": []
    },
    {
      "cell_type": "code",
      "metadata": {
        "id": "dfTtAPj62Oh-"
      },
      "source": [
        "trn_ds = TextDataset(x_train, y_train)\n",
        "trn_dl = DataLoader(trn_ds, batch_size=128, collate_fn=collate_fn)"
      ],
      "execution_count": 15,
      "outputs": []
    },
    {
      "cell_type": "code",
      "metadata": {
        "id": "GRr1lSz49hgw"
      },
      "source": [
        "xs, ys = next(iter(trn_dl))"
      ],
      "execution_count": 16,
      "outputs": []
    },
    {
      "cell_type": "code",
      "metadata": {
        "id": "gWLtRemXy3K3",
        "outputId": "985a156a-ea6e-4d2a-e7c8-fd703b300fc6",
        "colab": {
          "base_uri": "https://localhost:8080/",
          "height": 136
        }
      },
      "source": [
        "xs"
      ],
      "execution_count": 17,
      "outputs": [
        {
          "output_type": "execute_result",
          "data": {
            "text/plain": [
              "tensor([[  2,   3,   4,  ...,   1,   1,   1],\n",
              "        [ 14,   7,  15,  ...,   1,   1,   1],\n",
              "        [ 25,  26,  27,  ...,   1,   1,   1],\n",
              "        ...,\n",
              "        [803, 351, 255,  ...,   1,   1,   1],\n",
              "        [ 15, 806, 807,  ...,   1,   1,   1],\n",
              "        [813, 501, 390,  ...,   1,   1,   1]])"
            ]
          },
          "metadata": {
            "tags": []
          },
          "execution_count": 17
        }
      ]
    },
    {
      "cell_type": "code",
      "metadata": {
        "id": "p9gOTIlXK7xV",
        "outputId": "2ca2e1e5-6b93-4e17-d580-bef6ec464f3c",
        "colab": {
          "base_uri": "https://localhost:8080/",
          "height": 119
        }
      },
      "source": [
        "ys"
      ],
      "execution_count": 18,
      "outputs": [
        {
          "output_type": "execute_result",
          "data": {
            "text/plain": [
              "tensor([2, 2, 0, 2, 2, 2, 2, 2, 2, 2, 0, 2, 2, 2, 2, 2, 1, 1, 0, 2, 2, 1, 2, 2,\n",
              "        2, 2, 0, 3, 2, 3, 3, 2, 0, 2, 2, 1, 2, 2, 2, 2, 2, 2, 0, 3, 2, 2, 3, 0,\n",
              "        1, 2, 2, 1, 3, 0, 0, 2, 3, 2, 0, 1, 2, 2, 0, 0, 1, 0, 3, 3, 2, 0, 3, 2,\n",
              "        2, 2, 2, 2, 2, 0, 2, 0, 1, 2, 0, 1, 2, 0, 2, 2, 2, 2, 1, 1, 2, 3, 0, 2,\n",
              "        0, 0, 2, 0, 2, 1, 2, 2, 1, 3, 2, 2, 0, 0, 0, 0, 2, 1, 2, 2, 2, 2, 2, 1,\n",
              "        2, 0, 2, 2, 3, 1, 2, 0])"
            ]
          },
          "metadata": {
            "tags": []
          },
          "execution_count": 18
        }
      ]
    },
    {
      "cell_type": "code",
      "metadata": {
        "id": "QNSAFTGwK80Q",
        "outputId": "30d12b2f-0533-4efb-a1d4-81855df7cb9d",
        "colab": {
          "base_uri": "https://localhost:8080/",
          "height": 119
        }
      },
      "source": [
        "y_train[:128]"
      ],
      "execution_count": 19,
      "outputs": [
        {
          "output_type": "execute_result",
          "data": {
            "text/plain": [
              "array([2, 2, 0, 2, 2, 2, 2, 2, 2, 2, 0, 2, 2, 2, 2, 2, 1, 1, 0, 2, 2, 1,\n",
              "       2, 2, 2, 2, 0, 3, 2, 3, 3, 2, 0, 2, 2, 1, 2, 2, 2, 2, 2, 2, 0, 3,\n",
              "       2, 2, 3, 0, 1, 2, 2, 1, 3, 0, 0, 2, 3, 2, 0, 1, 2, 2, 0, 0, 1, 0,\n",
              "       3, 3, 2, 0, 3, 2, 2, 2, 2, 2, 2, 0, 2, 0, 1, 2, 0, 1, 2, 0, 2, 2,\n",
              "       2, 2, 1, 1, 2, 3, 0, 2, 0, 0, 2, 0, 2, 1, 2, 2, 1, 3, 2, 2, 0, 0,\n",
              "       0, 0, 2, 1, 2, 2, 2, 2, 2, 1, 2, 0, 2, 2, 3, 1, 2, 0])"
            ]
          },
          "metadata": {
            "tags": []
          },
          "execution_count": 19
        }
      ]
    },
    {
      "cell_type": "code",
      "metadata": {
        "id": "viyFwXUOQYFB"
      },
      "source": [
        "class RnnNet(nn.Module):\n",
        "    def __init__(self, vocab_size, embed_dim, hidden_dim, embed=None, arch='rnn', num_layers=1, bi_dir=False):\n",
        "        super().__init__()\n",
        "\n",
        "        self.emb = nn.Embedding(vocab_size, embed_dim)\n",
        "\n",
        "        if embed is None:\n",
        "            self.emb.weight.data.uniform_(-0.1, 0.1)\n",
        "        else:\n",
        "            self.emb.weight = nn.Parameter(torch.tensor(embed, dtype=torch.float32))\n",
        "            self.emb.weight.requires_grad = False\n",
        "\n",
        "        if arch == 'rnn':\n",
        "            self.rnn = nn.RNN(embed_dim, hidden_dim, batch_first=True, num_layers=num_layers, bidirectional=bi_dir)\n",
        "        elif arch == 'lstm':\n",
        "            self.rnn = nn.LSTM(embed_dim, hidden_dim, batch_first=True, num_layers=num_layers, bidirectional=bi_dir)\n",
        "\n",
        "        self.fc = nn.Linear(hidden_dim if not bi_dir else hidden_dim * 2, 4)\n",
        "\n",
        "    def forward(self, x):\n",
        "        out = self.emb(x)\n",
        "        out, _  = self.rnn(out)\n",
        "        out = self.fc(out[:, -1, :])\n",
        "        return out"
      ],
      "execution_count": 20,
      "outputs": []
    },
    {
      "cell_type": "code",
      "metadata": {
        "id": "jkdTUrH-vBDn"
      },
      "source": [
        "model = RnnNet(vocab_size=len(vocab), embed_dim=300, hidden_dim=50)"
      ],
      "execution_count": 21,
      "outputs": []
    },
    {
      "cell_type": "code",
      "metadata": {
        "id": "sIMeoOYIvQKB"
      },
      "source": [
        "with torch.no_grad():\n",
        "    out = model(xs)"
      ],
      "execution_count": 22,
      "outputs": []
    },
    {
      "cell_type": "code",
      "metadata": {
        "id": "SMZXxlaKvYgc",
        "outputId": "622a19d3-d79d-489c-e201-ce84430b9d43",
        "colab": {
          "base_uri": "https://localhost:8080/",
          "height": 102
        }
      },
      "source": [
        "out[:5]"
      ],
      "execution_count": 23,
      "outputs": [
        {
          "output_type": "execute_result",
          "data": {
            "text/plain": [
              "tensor([[ 0.1273, -0.1423, -0.1674, -0.1708],\n",
              "        [ 0.1246, -0.1398, -0.1633, -0.1696],\n",
              "        [ 0.1278, -0.1415, -0.1681, -0.1708],\n",
              "        [ 0.1311, -0.1386, -0.1639, -0.1726],\n",
              "        [ 0.1236, -0.1395, -0.1711, -0.1683]])"
            ]
          },
          "metadata": {
            "tags": []
          },
          "execution_count": 23
        }
      ]
    },
    {
      "cell_type": "code",
      "metadata": {
        "id": "oFkzv6ss2jue"
      },
      "source": [
        "def to_cpu(x):\n",
        "    return x.contiguous().detach().cpu()\n",
        "\n",
        "def to_numpy(x):\n",
        "    return to_cpu(x).numpy()"
      ],
      "execution_count": 24,
      "outputs": []
    },
    {
      "cell_type": "code",
      "metadata": {
        "id": "RNYo0p1U06xH"
      },
      "source": [
        "class Trainer:\n",
        "    def __init__(self, model, optimizer, trn_dl, val_dl, test_dl, num_epoch, device):\n",
        "        self.trn_dl = trn_dl\n",
        "        self.val_dl = val_dl\n",
        "        self.test_dl = test_dl\n",
        "\n",
        "        self.model = model\n",
        "        self.num_epoch = num_epoch\n",
        "\n",
        "        self.device = device\n",
        "\n",
        "        self.optimizer = optimizer\n",
        "        self.criterion = nn.CrossEntropyLoss()\n",
        "\n",
        "    def batch_step(self):\n",
        "        for xs, ys in self.trn_dl:\n",
        "            xs, ys = xs.to(self.device), ys.to(self.device)\n",
        "            \n",
        "            y_hat = self.model(xs)\n",
        "            loss = self.criterion(y_hat, ys)\n",
        "\n",
        "            loss.backward()\n",
        "            self.optimizer.step()\n",
        "            self.optimizer.zero_grad()\n",
        "\n",
        "    def evaluation(self, dl):\n",
        "        acc_scores = []\n",
        "        losses = []\n",
        "        self.model.eval()\n",
        "        with torch.no_grad():\n",
        "            for xs, ys in dl:\n",
        "                xs, ys = xs.to(self.device), ys.to(self.device)\n",
        "                y_hat = self.model(xs)\n",
        "\n",
        "                loss = self.criterion(y_hat, ys).item()\n",
        "\n",
        "                ys = to_numpy(ys)\n",
        "                y_hat = np.argmax(to_numpy(y_hat), axis=-1)\n",
        "\n",
        "                acc = accuracy_score(ys, y_hat)\n",
        "\n",
        "                acc_scores.append(acc)\n",
        "                losses.append(loss)\n",
        "\n",
        "        return np.mean(acc_scores), np.mean(losses)\n",
        "\n",
        "    def train(self):\n",
        "        self.model.zero_grad()\n",
        "\n",
        "        acc_epcohs = []\n",
        "        losses_epochs = []\n",
        "        epoch_time = []\n",
        "\n",
        "        with tqdm(range(self.num_epoch)) as pbar:\n",
        "            for epoch in pbar:\n",
        "                self.model.train()\n",
        "                self.batch_step()\n",
        "                # 評価\n",
        "                acc_score = {}\n",
        "                losses = {}\n",
        "\n",
        "                acc_epoch, loss_epoch = self.evaluation(self.trn_dl)\n",
        "                acc_score['train_acc'] = acc_epoch\n",
        "                losses['train_loss'] = loss_epoch\n",
        "\n",
        "                acc_epoch, loss_epoch = self.evaluation(self.val_dl)\n",
        "                acc_score['valid_acc'] = acc_epoch\n",
        "                losses['valid_loss'] = loss_epoch\n",
        "\n",
        "                acc_epoch, loss_epoch = self.evaluation(self.test_dl)\n",
        "                acc_score['test_acc'] = acc_epoch\n",
        "                losses['test_loss'] = loss_epoch\n",
        "\n",
        "\n",
        "                acc_epcohs.append(acc_score)\n",
        "                losses_epochs.append(losses)\n",
        "                pbar.set_postfix(acc_score)\n",
        "\n",
        "        return acc_epcohs, losses_epochs"
      ],
      "execution_count": 25,
      "outputs": []
    },
    {
      "cell_type": "code",
      "metadata": {
        "id": "CWT8cwvX37rx"
      },
      "source": [
        "#　確率的勾配\n",
        "trn_ds = TextDataset(x_train, y_train)\n",
        "trn_dl = DataLoader(trn_ds, batch_size=1, collate_fn=collate_fn, shuffle=True)\n",
        "\n",
        "val_ds = TextDataset(x_valid, y_valid)\n",
        "val_dl = DataLoader(val_ds, batch_size=128, collate_fn=collate_fn, shuffle=False)\n",
        "\n",
        "test_ds = TextDataset(x_test, y_test)\n",
        "test_dl = DataLoader(test_ds, batch_size=128, collate_fn=collate_fn, shuffle=False)\n",
        "\n",
        "model = RnnNet(vocab_size=len(vocab), embed_dim=300, hidden_dim=50)\n",
        "optimizer = torch.optim.SGD(model.parameters(), lr=3e-1)"
      ],
      "execution_count": 26,
      "outputs": []
    },
    {
      "cell_type": "code",
      "metadata": {
        "id": "z2kjUfrJ3j22"
      },
      "source": [
        "trainer = Trainer(model, optimizer, trn_dl, val_dl, test_dl, 5, device='cpu')"
      ],
      "execution_count": 27,
      "outputs": []
    },
    {
      "cell_type": "code",
      "metadata": {
        "id": "eekWlfbL4u4N",
        "outputId": "f3b57ad1-7722-4835-e5d6-3017b916064e",
        "colab": {
          "base_uri": "https://localhost:8080/",
          "height": 66,
          "referenced_widgets": [
            "06ce8f5c081442d9b3130bab69ad5fff",
            "3d35981ffc5c4eef8d593cfcd16415e2",
            "799f9ba61fe24c1ab96617232a42f578",
            "bcf858fbf2bc4cbd90f97db4c8bdf19e",
            "74eacac33b0b4addb77e2cdaf2bba86f",
            "0faccfd023414cfdaea015ad9aa9f7ee",
            "4acbac823da743a2b5deba39c2fb85d4",
            "be1d4265cd564ac0bb30d91337fa1e7d"
          ]
        }
      },
      "source": [
        "acc_epcohs, losses_epochs = trainer.train()"
      ],
      "execution_count": 28,
      "outputs": [
        {
          "output_type": "display_data",
          "data": {
            "application/vnd.jupyter.widget-view+json": {
              "model_id": "06ce8f5c081442d9b3130bab69ad5fff",
              "version_minor": 0,
              "version_major": 2
            },
            "text/plain": [
              "HBox(children=(FloatProgress(value=0.0, max=5.0), HTML(value='')))"
            ]
          },
          "metadata": {
            "tags": []
          }
        },
        {
          "output_type": "stream",
          "text": [
            "\n"
          ],
          "name": "stdout"
        }
      ]
    },
    {
      "cell_type": "code",
      "metadata": {
        "id": "qlpmS9zJ6eTb"
      },
      "source": [
        "#　ミニバッチ＋GPU\n",
        "trn_ds = TextDataset(x_train, y_train)\n",
        "trn_dl = DataLoader(trn_ds, batch_size=64, collate_fn=collate_fn, shuffle=True)\n",
        "\n",
        "val_ds = TextDataset(x_valid, y_valid)\n",
        "val_dl = DataLoader(val_ds, batch_size=128, collate_fn=collate_fn, shuffle=False)\n",
        "\n",
        "\n",
        "test_ds = TextDataset(x_test, y_test)\n",
        "test_dl = DataLoader(test_ds, batch_size=128, collate_fn=collate_fn, shuffle=False)\n",
        "\n",
        "model = RnnNet(vocab_size=len(vocab), embed_dim=300, hidden_dim=50)\n",
        "model.to('cuda')\n",
        "\n",
        "# SGDだと学習が進まないので以降Adamに変更する\n",
        "optimizer = torch.optim.Adam(model.parameters(), lr=1e-3)"
      ],
      "execution_count": 29,
      "outputs": []
    },
    {
      "cell_type": "code",
      "metadata": {
        "id": "9i7mmQaV8hA1"
      },
      "source": [
        "trainer = Trainer(model, optimizer, trn_dl, val_dl, test_dl, 15, device='cuda')"
      ],
      "execution_count": 30,
      "outputs": []
    },
    {
      "cell_type": "code",
      "metadata": {
        "id": "PibHPOK68kFb",
        "outputId": "e0017e02-2736-4126-9cb6-ed16a75608e1",
        "colab": {
          "base_uri": "https://localhost:8080/",
          "height": 66,
          "referenced_widgets": [
            "94b40974fd734121a02c450563a02da2",
            "fd1d09b6084047bfbb22fe791c3e0632",
            "f9ef48694e7f4a599b0e806e644de5a0",
            "fc89e551045d46cc9c1dfd7b0977f22a",
            "6b1b3536f6d74b3b818a893b1d32aea0",
            "e234dd896d0c4ae1a042bb9c40c29cc2",
            "add3abffb6994ca58e922adcf2f1b9d8",
            "716a9893030c44198392a8d490c11915"
          ]
        }
      },
      "source": [
        "acc_epcohs, losses_epochs = trainer.train()"
      ],
      "execution_count": 31,
      "outputs": [
        {
          "output_type": "display_data",
          "data": {
            "application/vnd.jupyter.widget-view+json": {
              "model_id": "94b40974fd734121a02c450563a02da2",
              "version_minor": 0,
              "version_major": 2
            },
            "text/plain": [
              "HBox(children=(FloatProgress(value=0.0, max=15.0), HTML(value='')))"
            ]
          },
          "metadata": {
            "tags": []
          }
        },
        {
          "output_type": "stream",
          "text": [
            "\n"
          ],
          "name": "stdout"
        }
      ]
    },
    {
      "cell_type": "markdown",
      "metadata": {
        "id": "gWo1X-he9Ust"
      },
      "source": [
        "単語ベクトルの導入"
      ]
    },
    {
      "cell_type": "code",
      "metadata": {
        "id": "ZeXzw89220OD",
        "outputId": "87389329-66f6-4f80-e4c4-d9a99344f884",
        "colab": {
          "base_uri": "https://localhost:8080/",
          "height": 85
        }
      },
      "source": [
        "# donwload word2vec\n",
        "import gdown\n",
        "url = 'https://drive.google.com/u/0/uc?export=download&confirm=xJKk&id=0B7XkCwpI5KDYNlNUTTlSS21pQmM'\n",
        "output = 'GoogleNews-vectors-negative300.bin.gz'\n",
        "gdown.download(url, output, quiet=False)\n",
        "!gzip -d '/content/GoogleNews-vectors-negative300.bin.gz'"
      ],
      "execution_count": 32,
      "outputs": [
        {
          "output_type": "stream",
          "text": [
            "Downloading...\n",
            "From: https://drive.google.com/u/0/uc?export=download&confirm=xJKk&id=0B7XkCwpI5KDYNlNUTTlSS21pQmM\n",
            "To: /content/GoogleNews-vectors-negative300.bin.gz\n",
            "1.65GB [00:23, 70.7MB/s]\n"
          ],
          "name": "stderr"
        }
      ]
    },
    {
      "cell_type": "code",
      "metadata": {
        "id": "cFdc-INZ3ERb",
        "outputId": "350cf77e-3224-492d-9915-f2f7235209d2",
        "colab": {
          "base_uri": "https://localhost:8080/",
          "height": 71
        }
      },
      "source": [
        "model = gensim.models.KeyedVectors.load_word2vec_format('/content/GoogleNews-vectors-negative300.bin', binary=True)"
      ],
      "execution_count": 33,
      "outputs": [
        {
          "output_type": "stream",
          "text": [
            "/usr/local/lib/python3.6/dist-packages/smart_open/smart_open_lib.py:252: UserWarning: This function is deprecated, use smart_open.open instead. See the migration notes for details: https://github.com/RaRe-Technologies/smart_open/blob/master/README.rst#migrating-to-the-new-open-function\n",
            "  'See the migration notes for details: %s' % _MIGRATION_NOTES_URL\n"
          ],
          "name": "stderr"
        }
      ]
    },
    {
      "cell_type": "code",
      "metadata": {
        "id": "uJ8hN01J3SBg"
      },
      "source": [
        "# 平均と分散を算出して初期化する\n",
        "embedding_matrix = np.random.normal(np.mean(model.vectors), np.std(model.vectors), (len(vocab), 300))"
      ],
      "execution_count": 34,
      "outputs": []
    },
    {
      "cell_type": "code",
      "metadata": {
        "id": "geKPAoPb4HlU"
      },
      "source": [
        "for word, index in vocab.items():\n",
        "    if word in model.vocab:\n",
        "        embedding_matrix[index] = model.get_vector(word)"
      ],
      "execution_count": 35,
      "outputs": []
    },
    {
      "cell_type": "code",
      "metadata": {
        "id": "9K7tH2pP6UJn"
      },
      "source": [
        "trn_ds = TextDataset(x_train, y_train)\n",
        "trn_dl = DataLoader(trn_ds, batch_size=64, collate_fn=collate_fn, shuffle=True)\n",
        "\n",
        "val_ds = TextDataset(x_valid, y_valid)\n",
        "val_dl = DataLoader(val_ds, batch_size=128, collate_fn=collate_fn, shuffle=False)\n",
        "\n",
        "\n",
        "test_ds = TextDataset(x_test, y_test)\n",
        "test_dl = DataLoader(test_ds, batch_size=128, collate_fn=collate_fn, shuffle=False)\n",
        "\n",
        "model = RnnNet(vocab_size=len(vocab), embed_dim=300, hidden_dim=50, embed=embedding_matrix)\n",
        "model.to('cuda')\n",
        "\n",
        "optimizer = torch.optim.Adam(model.parameters(), lr=1e-3)"
      ],
      "execution_count": 36,
      "outputs": []
    },
    {
      "cell_type": "code",
      "metadata": {
        "id": "0jzPqL9d6dgS"
      },
      "source": [
        "trainer = Trainer(model, optimizer, trn_dl, val_dl, test_dl, 15, device='cuda')"
      ],
      "execution_count": 37,
      "outputs": []
    },
    {
      "cell_type": "code",
      "metadata": {
        "id": "pGFhNwHj6fv6",
        "outputId": "ea85ba57-f2e9-434e-f239-2fee9475042c",
        "colab": {
          "base_uri": "https://localhost:8080/",
          "height": 66,
          "referenced_widgets": [
            "f9c9b2447ba145ea826e08b8eda17d7b",
            "fdd99675017944f3b58c877579ec7bd6",
            "2f47f70811d5479a91fa8a4edcccbafd",
            "efdfd4c6b7b248d2aaae93b0a11c1f8a",
            "86c7a30805054802a83cdd959a89423e",
            "38140d53e3ea4847a1e3809694757fad",
            "29fc6fd36c6d44aab5a959101208a6a7",
            "3a759ea9be734404ab19400adfd4e3e2"
          ]
        }
      },
      "source": [
        "acc_epcohs, losses_epochs = trainer.train()"
      ],
      "execution_count": 38,
      "outputs": [
        {
          "output_type": "display_data",
          "data": {
            "application/vnd.jupyter.widget-view+json": {
              "model_id": "f9c9b2447ba145ea826e08b8eda17d7b",
              "version_minor": 0,
              "version_major": 2
            },
            "text/plain": [
              "HBox(children=(FloatProgress(value=0.0, max=15.0), HTML(value='')))"
            ]
          },
          "metadata": {
            "tags": []
          }
        },
        {
          "output_type": "stream",
          "text": [
            "\n"
          ],
          "name": "stdout"
        }
      ]
    },
    {
      "cell_type": "code",
      "metadata": {
        "id": "iw1JNOMIOY-Y"
      },
      "source": [
        "# 多層化\n",
        "#　ミニバッチ＋GPU+bi_dir+multilayer\n",
        "trn_ds = TextDataset(x_train, y_train)\n",
        "trn_dl = DataLoader(trn_ds, batch_size=128, collate_fn=collate_fn, shuffle=True)\n",
        "\n",
        "val_ds = TextDataset(x_valid, y_valid)\n",
        "val_dl = DataLoader(val_ds, batch_size=128, collate_fn=collate_fn, shuffle=False)\n",
        "\n",
        "\n",
        "test_ds = TextDataset(x_test, y_test)\n",
        "test_dl = DataLoader(test_ds, batch_size=128, collate_fn=collate_fn, shuffle=False)\n",
        "\n",
        "model = RnnNet(vocab_size=len(vocab), embed_dim=300, hidden_dim=50, embed=embedding_matrix, num_layers=2, bi_dir=True)\n",
        "model.to('cuda')\n",
        "\n",
        "optimizer = torch.optim.Adam(model.parameters(), lr=1e-3)"
      ],
      "execution_count": 39,
      "outputs": []
    },
    {
      "cell_type": "code",
      "metadata": {
        "id": "Ix5V71QbPC4n"
      },
      "source": [
        "trainer = Trainer(model, optimizer, trn_dl, val_dl, test_dl, 15, device='cuda')"
      ],
      "execution_count": 40,
      "outputs": []
    },
    {
      "cell_type": "code",
      "metadata": {
        "id": "aE11DAy7PEYM",
        "outputId": "c308a16c-ce30-4e2f-fb40-68768077f57f",
        "colab": {
          "base_uri": "https://localhost:8080/",
          "height": 66,
          "referenced_widgets": [
            "ea7a9e12a8d24d9982260c608d817f69",
            "887264e0b41b47938a261c235a7f4fd1",
            "8c84e4e560cc4ad7a6817efd42fccdea",
            "c9af794ba9044bb9b52e6137de1f6570",
            "9971d4a9f9f1485aac6d475dc08f4234",
            "91d58cc8aba84a01b1dc8fd906938ec2",
            "db650a5a9b2542dea8b5ae990041fe95",
            "f5cb0f2f4a514d06b4d21da703792690"
          ]
        }
      },
      "source": [
        "acc_epcohs, losses_epochs = trainer.train()"
      ],
      "execution_count": 41,
      "outputs": [
        {
          "output_type": "display_data",
          "data": {
            "application/vnd.jupyter.widget-view+json": {
              "model_id": "ea7a9e12a8d24d9982260c608d817f69",
              "version_minor": 0,
              "version_major": 2
            },
            "text/plain": [
              "HBox(children=(FloatProgress(value=0.0, max=15.0), HTML(value='')))"
            ]
          },
          "metadata": {
            "tags": []
          }
        },
        {
          "output_type": "stream",
          "text": [
            "\n"
          ],
          "name": "stdout"
        }
      ]
    },
    {
      "cell_type": "markdown",
      "metadata": {
        "id": "OIZOf_VX93lz"
      },
      "source": [
        "# 86-87\n",
        "- CNNによる分類"
      ]
    },
    {
      "cell_type": "code",
      "metadata": {
        "id": "p0HNiGLpWgYW"
      },
      "source": [
        "class CnnNet(nn.Module):\n",
        "    def __init__(self, embed, hidden_dim=50):\n",
        "        super().__init__()\n",
        "\n",
        "        self.emb = nn.Embedding(*embed.shape)\n",
        "        self.emb.weight = nn.Parameter(torch.tensor(embed, dtype=torch.float32))\n",
        "        self.emb.weight.requires_grad = False\n",
        "\n",
        "        self.conv = nn.Conv2d(\n",
        "            in_channels = 1,\n",
        "            out_channels = hidden_dim,\n",
        "            kernel_size = (3, embed.shape[1]),\n",
        "            padding = (1, 0)\n",
        "        )\n",
        "\n",
        "        self.fc = nn.Linear(hidden_dim, 4)\n",
        "\n",
        "    def forward(self, x):\n",
        "        out = self.emb(x)\n",
        "        out = out.unsqueeze(1)\n",
        "        out = self.conv(out)\n",
        "        \n",
        "        #[batch_size, hidden_dim, seq_len]\n",
        "        out = out.squeeze()\n",
        "\n",
        "        max_pool, _ = torch.max(out, -1)\n",
        "        out = self.fc(max_pool)\n",
        "        return out"
      ],
      "execution_count": 42,
      "outputs": []
    },
    {
      "cell_type": "code",
      "metadata": {
        "id": "gpO-ZFvEY4XA"
      },
      "source": [
        "model = CnnNet(embedding_matrix)"
      ],
      "execution_count": 43,
      "outputs": []
    },
    {
      "cell_type": "code",
      "metadata": {
        "id": "2xWnd3yXY7E8"
      },
      "source": [
        "with torch.no_grad():\n",
        "    out = model(xs)"
      ],
      "execution_count": 44,
      "outputs": []
    },
    {
      "cell_type": "code",
      "metadata": {
        "id": "mvlV_XWvZGRQ",
        "outputId": "289a1fab-3915-418f-e107-d5890c2efcaf",
        "colab": {
          "base_uri": "https://localhost:8080/",
          "height": 68
        }
      },
      "source": [
        "out[:3, :]"
      ],
      "execution_count": 45,
      "outputs": [
        {
          "output_type": "execute_result",
          "data": {
            "text/plain": [
              "tensor([[ 0.0577,  0.0576,  0.1822, -0.2564],\n",
              "        [-0.0293,  0.0647,  0.1331, -0.1519],\n",
              "        [-0.0022,  0.0747,  0.0779, -0.2070]])"
            ]
          },
          "metadata": {
            "tags": []
          },
          "execution_count": 45
        }
      ]
    },
    {
      "cell_type": "markdown",
      "metadata": {
        "id": "xj1ygYlxbq5-"
      },
      "source": [
        "学習"
      ]
    },
    {
      "cell_type": "code",
      "metadata": {
        "id": "7NuU-JkHbpo_"
      },
      "source": [
        "trn_ds = TextDataset(x_train, y_train)\n",
        "trn_dl = DataLoader(trn_ds, batch_size=128, collate_fn=collate_fn, shuffle=True)\n",
        "\n",
        "val_ds = TextDataset(x_valid, y_valid)\n",
        "val_dl = DataLoader(val_ds, batch_size=128, collate_fn=collate_fn, shuffle=False)\n",
        "\n",
        "\n",
        "test_ds = TextDataset(x_test, y_test)\n",
        "test_dl = DataLoader(test_ds, batch_size=128, collate_fn=collate_fn, shuffle=False)\n",
        "\n",
        "model = CnnNet(embedding_matrix)\n",
        "model.to('cuda')\n",
        "\n",
        "optimizer = torch.optim.Adam(model.parameters(), lr=1e-3)"
      ],
      "execution_count": 157,
      "outputs": []
    },
    {
      "cell_type": "code",
      "metadata": {
        "id": "xzEWKEQ9b04s"
      },
      "source": [
        "trainer = Trainer(model, optimizer, trn_dl, val_dl, test_dl, 10, device='cuda')"
      ],
      "execution_count": 158,
      "outputs": []
    },
    {
      "cell_type": "code",
      "metadata": {
        "id": "ypDW1442b4q6",
        "outputId": "0fdb11d2-f7f8-4a9f-d574-a2717ee5327d",
        "colab": {
          "base_uri": "https://localhost:8080/",
          "height": 66,
          "referenced_widgets": [
            "224da281747c4381a6b4f96751594156",
            "b3a43d35381945978621b39b7cee725f",
            "5ceaf78bc8c24d87a619dca0c77dad43",
            "6b9fae9b54b948598115604e3c2ee718",
            "d377257d0751440e90935cd550b59114",
            "d2c33f864fc74d52b3146934c38469d5",
            "c1705fba9ab843dfb0a871f78e827913",
            "e7bbd747ae634f7aacb10b2b8bec4f2c"
          ]
        }
      },
      "source": [
        "acc_epcohs, losses_epochs = trainer.train()"
      ],
      "execution_count": 159,
      "outputs": [
        {
          "output_type": "display_data",
          "data": {
            "application/vnd.jupyter.widget-view+json": {
              "model_id": "224da281747c4381a6b4f96751594156",
              "version_minor": 0,
              "version_major": 2
            },
            "text/plain": [
              "HBox(children=(FloatProgress(value=0.0, max=10.0), HTML(value='')))"
            ]
          },
          "metadata": {
            "tags": []
          }
        },
        {
          "output_type": "stream",
          "text": [
            "\n"
          ],
          "name": "stdout"
        }
      ]
    },
    {
      "cell_type": "code",
      "metadata": {
        "id": "jGRlGHUTwm3I",
        "outputId": "2145ba12-591a-46a0-85b6-913497ca3803",
        "colab": {
          "base_uri": "https://localhost:8080/",
          "height": 359
        }
      },
      "source": [
        "pd.DataFrame(acc_epcohs)"
      ],
      "execution_count": 160,
      "outputs": [
        {
          "output_type": "execute_result",
          "data": {
            "text/html": [
              "<div>\n",
              "<style scoped>\n",
              "    .dataframe tbody tr th:only-of-type {\n",
              "        vertical-align: middle;\n",
              "    }\n",
              "\n",
              "    .dataframe tbody tr th {\n",
              "        vertical-align: top;\n",
              "    }\n",
              "\n",
              "    .dataframe thead th {\n",
              "        text-align: right;\n",
              "    }\n",
              "</style>\n",
              "<table border=\"1\" class=\"dataframe\">\n",
              "  <thead>\n",
              "    <tr style=\"text-align: right;\">\n",
              "      <th></th>\n",
              "      <th>train_acc</th>\n",
              "      <th>valid_acc</th>\n",
              "      <th>test_acc</th>\n",
              "    </tr>\n",
              "  </thead>\n",
              "  <tbody>\n",
              "    <tr>\n",
              "      <th>0</th>\n",
              "      <td>0.778156</td>\n",
              "      <td>0.767350</td>\n",
              "      <td>0.775211</td>\n",
              "    </tr>\n",
              "    <tr>\n",
              "      <th>1</th>\n",
              "      <td>0.872589</td>\n",
              "      <td>0.875644</td>\n",
              "      <td>0.852639</td>\n",
              "    </tr>\n",
              "    <tr>\n",
              "      <th>2</th>\n",
              "      <td>0.895236</td>\n",
              "      <td>0.906084</td>\n",
              "      <td>0.868264</td>\n",
              "    </tr>\n",
              "    <tr>\n",
              "      <th>3</th>\n",
              "      <td>0.911778</td>\n",
              "      <td>0.910696</td>\n",
              "      <td>0.873147</td>\n",
              "    </tr>\n",
              "    <tr>\n",
              "      <th>4</th>\n",
              "      <td>0.927949</td>\n",
              "      <td>0.913626</td>\n",
              "      <td>0.874123</td>\n",
              "    </tr>\n",
              "    <tr>\n",
              "      <th>5</th>\n",
              "      <td>0.936960</td>\n",
              "      <td>0.916826</td>\n",
              "      <td>0.877053</td>\n",
              "    </tr>\n",
              "    <tr>\n",
              "      <th>6</th>\n",
              "      <td>0.944760</td>\n",
              "      <td>0.918509</td>\n",
              "      <td>0.885842</td>\n",
              "    </tr>\n",
              "    <tr>\n",
              "      <th>7</th>\n",
              "      <td>0.956561</td>\n",
              "      <td>0.919486</td>\n",
              "      <td>0.887795</td>\n",
              "    </tr>\n",
              "    <tr>\n",
              "      <th>8</th>\n",
              "      <td>0.966097</td>\n",
              "      <td>0.919486</td>\n",
              "      <td>0.884865</td>\n",
              "    </tr>\n",
              "    <tr>\n",
              "      <th>9</th>\n",
              "      <td>0.973246</td>\n",
              "      <td>0.917532</td>\n",
              "      <td>0.881936</td>\n",
              "    </tr>\n",
              "  </tbody>\n",
              "</table>\n",
              "</div>"
            ],
            "text/plain": [
              "   train_acc  valid_acc  test_acc\n",
              "0   0.778156   0.767350  0.775211\n",
              "1   0.872589   0.875644  0.852639\n",
              "2   0.895236   0.906084  0.868264\n",
              "3   0.911778   0.910696  0.873147\n",
              "4   0.927949   0.913626  0.874123\n",
              "5   0.936960   0.916826  0.877053\n",
              "6   0.944760   0.918509  0.885842\n",
              "7   0.956561   0.919486  0.887795\n",
              "8   0.966097   0.919486  0.884865\n",
              "9   0.973246   0.917532  0.881936"
            ]
          },
          "metadata": {
            "tags": []
          },
          "execution_count": 160
        }
      ]
    },
    {
      "cell_type": "code",
      "metadata": {
        "id": "4ZTU6PoUwqYB",
        "outputId": "5ef35a1c-a26f-49c5-b22a-2c842e9632fb",
        "colab": {
          "base_uri": "https://localhost:8080/",
          "height": 359
        }
      },
      "source": [
        "pd.DataFrame(losses_epochs)"
      ],
      "execution_count": 161,
      "outputs": [
        {
          "output_type": "execute_result",
          "data": {
            "text/html": [
              "<div>\n",
              "<style scoped>\n",
              "    .dataframe tbody tr th:only-of-type {\n",
              "        vertical-align: middle;\n",
              "    }\n",
              "\n",
              "    .dataframe tbody tr th {\n",
              "        vertical-align: top;\n",
              "    }\n",
              "\n",
              "    .dataframe thead th {\n",
              "        text-align: right;\n",
              "    }\n",
              "</style>\n",
              "<table border=\"1\" class=\"dataframe\">\n",
              "  <thead>\n",
              "    <tr style=\"text-align: right;\">\n",
              "      <th></th>\n",
              "      <th>train_loss</th>\n",
              "      <th>valid_loss</th>\n",
              "      <th>test_loss</th>\n",
              "    </tr>\n",
              "  </thead>\n",
              "  <tbody>\n",
              "    <tr>\n",
              "      <th>0</th>\n",
              "      <td>0.605197</td>\n",
              "      <td>0.621732</td>\n",
              "      <td>0.629327</td>\n",
              "    </tr>\n",
              "    <tr>\n",
              "      <th>1</th>\n",
              "      <td>0.407857</td>\n",
              "      <td>0.424720</td>\n",
              "      <td>0.461269</td>\n",
              "    </tr>\n",
              "    <tr>\n",
              "      <th>2</th>\n",
              "      <td>0.321714</td>\n",
              "      <td>0.349428</td>\n",
              "      <td>0.389409</td>\n",
              "    </tr>\n",
              "    <tr>\n",
              "      <th>3</th>\n",
              "      <td>0.272928</td>\n",
              "      <td>0.315754</td>\n",
              "      <td>0.367470</td>\n",
              "    </tr>\n",
              "    <tr>\n",
              "      <th>4</th>\n",
              "      <td>0.235690</td>\n",
              "      <td>0.303662</td>\n",
              "      <td>0.353428</td>\n",
              "    </tr>\n",
              "    <tr>\n",
              "      <th>5</th>\n",
              "      <td>0.205368</td>\n",
              "      <td>0.294526</td>\n",
              "      <td>0.340190</td>\n",
              "    </tr>\n",
              "    <tr>\n",
              "      <th>6</th>\n",
              "      <td>0.177283</td>\n",
              "      <td>0.278743</td>\n",
              "      <td>0.329126</td>\n",
              "    </tr>\n",
              "    <tr>\n",
              "      <th>7</th>\n",
              "      <td>0.154625</td>\n",
              "      <td>0.275986</td>\n",
              "      <td>0.326148</td>\n",
              "    </tr>\n",
              "    <tr>\n",
              "      <th>8</th>\n",
              "      <td>0.135545</td>\n",
              "      <td>0.275547</td>\n",
              "      <td>0.324773</td>\n",
              "    </tr>\n",
              "    <tr>\n",
              "      <th>9</th>\n",
              "      <td>0.117621</td>\n",
              "      <td>0.271838</td>\n",
              "      <td>0.326719</td>\n",
              "    </tr>\n",
              "  </tbody>\n",
              "</table>\n",
              "</div>"
            ],
            "text/plain": [
              "   train_loss  valid_loss  test_loss\n",
              "0    0.605197    0.621732   0.629327\n",
              "1    0.407857    0.424720   0.461269\n",
              "2    0.321714    0.349428   0.389409\n",
              "3    0.272928    0.315754   0.367470\n",
              "4    0.235690    0.303662   0.353428\n",
              "5    0.205368    0.294526   0.340190\n",
              "6    0.177283    0.278743   0.329126\n",
              "7    0.154625    0.275986   0.326148\n",
              "8    0.135545    0.275547   0.324773\n",
              "9    0.117621    0.271838   0.326719"
            ]
          },
          "metadata": {
            "tags": []
          },
          "execution_count": 161
        }
      ]
    },
    {
      "cell_type": "markdown",
      "metadata": {
        "id": "OTqSNtOSPPe_"
      },
      "source": [
        "# 88 ハイパーパラメーターのチューニング\n",
        "- アーキテクチャの変更"
      ]
    },
    {
      "cell_type": "code",
      "metadata": {
        "id": "KnMr2VeXPFEs"
      },
      "source": [
        "#　ミニバッチ＋GPU+LSTM\n",
        "trn_ds = TextDataset(x_train, y_train)\n",
        "trn_dl = DataLoader(trn_ds, batch_size=128, collate_fn=collate_fn, shuffle=True)\n",
        "\n",
        "val_ds = TextDataset(x_valid, y_valid)\n",
        "val_dl = DataLoader(val_ds, batch_size=128, collate_fn=collate_fn, shuffle=False)\n",
        "\n",
        "test_ds = TextDataset(x_test, y_test)\n",
        "test_dl = DataLoader(test_ds, batch_size=128, collate_fn=collate_fn, shuffle=False)\n",
        "\n",
        "model = RnnNet(vocab_size=len(vocab), embed_dim=300, hidden_dim=50, embed=embedding_matrix, num_layers=2, bi_dir=True, arch='lstm')\n",
        "model.to('cuda')\n",
        "\n",
        "optimizer = torch.optim.Adam(model.parameters(), lr=1e-3)"
      ],
      "execution_count": 152,
      "outputs": []
    },
    {
      "cell_type": "code",
      "metadata": {
        "id": "fMUzju8ZPmcf"
      },
      "source": [
        "trainer = Trainer(model, optimizer, trn_dl, val_dl, test_dl, 15, device='cuda')"
      ],
      "execution_count": 153,
      "outputs": []
    },
    {
      "cell_type": "code",
      "metadata": {
        "id": "UWwBx0-TPn6X",
        "outputId": "3b2a8604-9eb7-43b1-939f-fbf876a3d538",
        "colab": {
          "base_uri": "https://localhost:8080/",
          "height": 66,
          "referenced_widgets": [
            "b5f733d9dd014c249584e138f9002dac",
            "f5e6359229264362b62221150124684f",
            "fd9b568e2a214ee7b4472a49749c32fc",
            "2cad667d00e34007b8f95df72e317ca3",
            "628aee0eda164a22b6ecd0212fbc8bf2",
            "fc4b0154cc434ae98f5bbe41677b37a6",
            "7a2d674621344a26ad9c2a94c31142ca",
            "1c8d6192961a4d9dbcb271df977e9eab"
          ]
        }
      },
      "source": [
        "acc_epcohs, losses_epochs = trainer.train()"
      ],
      "execution_count": 154,
      "outputs": [
        {
          "output_type": "display_data",
          "data": {
            "application/vnd.jupyter.widget-view+json": {
              "model_id": "b5f733d9dd014c249584e138f9002dac",
              "version_minor": 0,
              "version_major": 2
            },
            "text/plain": [
              "HBox(children=(FloatProgress(value=0.0, max=15.0), HTML(value='')))"
            ]
          },
          "metadata": {
            "tags": []
          }
        },
        {
          "output_type": "stream",
          "text": [
            "\n"
          ],
          "name": "stdout"
        }
      ]
    },
    {
      "cell_type": "code",
      "metadata": {
        "id": "4whkO7XZwa6q",
        "outputId": "6060eb5d-cf4c-4375-9709-b73316ca6f37",
        "colab": {
          "base_uri": "https://localhost:8080/",
          "height": 514
        }
      },
      "source": [
        "pd.DataFrame(acc_epcohs)"
      ],
      "execution_count": 155,
      "outputs": [
        {
          "output_type": "execute_result",
          "data": {
            "text/html": [
              "<div>\n",
              "<style scoped>\n",
              "    .dataframe tbody tr th:only-of-type {\n",
              "        vertical-align: middle;\n",
              "    }\n",
              "\n",
              "    .dataframe tbody tr th {\n",
              "        vertical-align: top;\n",
              "    }\n",
              "\n",
              "    .dataframe thead th {\n",
              "        text-align: right;\n",
              "    }\n",
              "</style>\n",
              "<table border=\"1\" class=\"dataframe\">\n",
              "  <thead>\n",
              "    <tr style=\"text-align: right;\">\n",
              "      <th></th>\n",
              "      <th>train_acc</th>\n",
              "      <th>valid_acc</th>\n",
              "      <th>test_acc</th>\n",
              "    </tr>\n",
              "  </thead>\n",
              "  <tbody>\n",
              "    <tr>\n",
              "      <th>0</th>\n",
              "      <td>0.703575</td>\n",
              "      <td>0.720475</td>\n",
              "      <td>0.713847</td>\n",
              "    </tr>\n",
              "    <tr>\n",
              "      <th>1</th>\n",
              "      <td>0.761739</td>\n",
              "      <td>0.757148</td>\n",
              "      <td>0.781728</td>\n",
              "    </tr>\n",
              "    <tr>\n",
              "      <th>2</th>\n",
              "      <td>0.771388</td>\n",
              "      <td>0.771962</td>\n",
              "      <td>0.759427</td>\n",
              "    </tr>\n",
              "    <tr>\n",
              "      <th>3</th>\n",
              "      <td>0.783972</td>\n",
              "      <td>0.777115</td>\n",
              "      <td>0.786830</td>\n",
              "    </tr>\n",
              "    <tr>\n",
              "      <th>4</th>\n",
              "      <td>0.828487</td>\n",
              "      <td>0.818837</td>\n",
              "      <td>0.809072</td>\n",
              "    </tr>\n",
              "    <tr>\n",
              "      <th>5</th>\n",
              "      <td>0.851134</td>\n",
              "      <td>0.838805</td>\n",
              "      <td>0.834084</td>\n",
              "    </tr>\n",
              "    <tr>\n",
              "      <th>6</th>\n",
              "      <td>0.871133</td>\n",
              "      <td>0.862242</td>\n",
              "      <td>0.847975</td>\n",
              "    </tr>\n",
              "    <tr>\n",
              "      <th>7</th>\n",
              "      <td>0.882110</td>\n",
              "      <td>0.864466</td>\n",
              "      <td>0.857362</td>\n",
              "    </tr>\n",
              "    <tr>\n",
              "      <th>8</th>\n",
              "      <td>0.876291</td>\n",
              "      <td>0.847324</td>\n",
              "      <td>0.857143</td>\n",
              "    </tr>\n",
              "    <tr>\n",
              "      <th>9</th>\n",
              "      <td>0.898402</td>\n",
              "      <td>0.890729</td>\n",
              "      <td>0.868483</td>\n",
              "    </tr>\n",
              "    <tr>\n",
              "      <th>10</th>\n",
              "      <td>0.905569</td>\n",
              "      <td>0.873961</td>\n",
              "      <td>0.838369</td>\n",
              "    </tr>\n",
              "    <tr>\n",
              "      <th>11</th>\n",
              "      <td>0.901723</td>\n",
              "      <td>0.884870</td>\n",
              "      <td>0.862783</td>\n",
              "    </tr>\n",
              "    <tr>\n",
              "      <th>12</th>\n",
              "      <td>0.914701</td>\n",
              "      <td>0.897835</td>\n",
              "      <td>0.863002</td>\n",
              "    </tr>\n",
              "    <tr>\n",
              "      <th>13</th>\n",
              "      <td>0.927808</td>\n",
              "      <td>0.889046</td>\n",
              "      <td>0.847537</td>\n",
              "    </tr>\n",
              "    <tr>\n",
              "      <th>14</th>\n",
              "      <td>0.933780</td>\n",
              "      <td>0.899788</td>\n",
              "      <td>0.863760</td>\n",
              "    </tr>\n",
              "  </tbody>\n",
              "</table>\n",
              "</div>"
            ],
            "text/plain": [
              "    train_acc  valid_acc  test_acc\n",
              "0    0.703575   0.720475  0.713847\n",
              "1    0.761739   0.757148  0.781728\n",
              "2    0.771388   0.771962  0.759427\n",
              "3    0.783972   0.777115  0.786830\n",
              "4    0.828487   0.818837  0.809072\n",
              "5    0.851134   0.838805  0.834084\n",
              "6    0.871133   0.862242  0.847975\n",
              "7    0.882110   0.864466  0.857362\n",
              "8    0.876291   0.847324  0.857143\n",
              "9    0.898402   0.890729  0.868483\n",
              "10   0.905569   0.873961  0.838369\n",
              "11   0.901723   0.884870  0.862783\n",
              "12   0.914701   0.897835  0.863002\n",
              "13   0.927808   0.889046  0.847537\n",
              "14   0.933780   0.899788  0.863760"
            ]
          },
          "metadata": {
            "tags": []
          },
          "execution_count": 155
        }
      ]
    },
    {
      "cell_type": "code",
      "metadata": {
        "id": "kmHeDbixwfb8",
        "outputId": "cb288360-1909-4908-a069-f0a384ed63bb",
        "colab": {
          "base_uri": "https://localhost:8080/",
          "height": 514
        }
      },
      "source": [
        "pd.DataFrame(losses_epochs)"
      ],
      "execution_count": 156,
      "outputs": [
        {
          "output_type": "execute_result",
          "data": {
            "text/html": [
              "<div>\n",
              "<style scoped>\n",
              "    .dataframe tbody tr th:only-of-type {\n",
              "        vertical-align: middle;\n",
              "    }\n",
              "\n",
              "    .dataframe tbody tr th {\n",
              "        vertical-align: top;\n",
              "    }\n",
              "\n",
              "    .dataframe thead th {\n",
              "        text-align: right;\n",
              "    }\n",
              "</style>\n",
              "<table border=\"1\" class=\"dataframe\">\n",
              "  <thead>\n",
              "    <tr style=\"text-align: right;\">\n",
              "      <th></th>\n",
              "      <th>train_loss</th>\n",
              "      <th>valid_loss</th>\n",
              "      <th>test_loss</th>\n",
              "    </tr>\n",
              "  </thead>\n",
              "  <tbody>\n",
              "    <tr>\n",
              "      <th>0</th>\n",
              "      <td>0.905948</td>\n",
              "      <td>0.886408</td>\n",
              "      <td>0.890796</td>\n",
              "    </tr>\n",
              "    <tr>\n",
              "      <th>1</th>\n",
              "      <td>0.605668</td>\n",
              "      <td>0.610758</td>\n",
              "      <td>0.595089</td>\n",
              "    </tr>\n",
              "    <tr>\n",
              "      <th>2</th>\n",
              "      <td>0.624611</td>\n",
              "      <td>0.591338</td>\n",
              "      <td>0.634463</td>\n",
              "    </tr>\n",
              "    <tr>\n",
              "      <th>3</th>\n",
              "      <td>0.543932</td>\n",
              "      <td>0.568563</td>\n",
              "      <td>0.562850</td>\n",
              "    </tr>\n",
              "    <tr>\n",
              "      <th>4</th>\n",
              "      <td>0.480004</td>\n",
              "      <td>0.500629</td>\n",
              "      <td>0.519602</td>\n",
              "    </tr>\n",
              "    <tr>\n",
              "      <th>5</th>\n",
              "      <td>0.442483</td>\n",
              "      <td>0.472390</td>\n",
              "      <td>0.495153</td>\n",
              "    </tr>\n",
              "    <tr>\n",
              "      <th>6</th>\n",
              "      <td>0.389233</td>\n",
              "      <td>0.414854</td>\n",
              "      <td>0.456212</td>\n",
              "    </tr>\n",
              "    <tr>\n",
              "      <th>7</th>\n",
              "      <td>0.358939</td>\n",
              "      <td>0.409241</td>\n",
              "      <td>0.437760</td>\n",
              "    </tr>\n",
              "    <tr>\n",
              "      <th>8</th>\n",
              "      <td>0.359755</td>\n",
              "      <td>0.420029</td>\n",
              "      <td>0.441109</td>\n",
              "    </tr>\n",
              "    <tr>\n",
              "      <th>9</th>\n",
              "      <td>0.317784</td>\n",
              "      <td>0.373283</td>\n",
              "      <td>0.439657</td>\n",
              "    </tr>\n",
              "    <tr>\n",
              "      <th>10</th>\n",
              "      <td>0.298358</td>\n",
              "      <td>0.376897</td>\n",
              "      <td>0.471533</td>\n",
              "    </tr>\n",
              "    <tr>\n",
              "      <th>11</th>\n",
              "      <td>0.298441</td>\n",
              "      <td>0.363667</td>\n",
              "      <td>0.418788</td>\n",
              "    </tr>\n",
              "    <tr>\n",
              "      <th>12</th>\n",
              "      <td>0.268174</td>\n",
              "      <td>0.340500</td>\n",
              "      <td>0.422133</td>\n",
              "    </tr>\n",
              "    <tr>\n",
              "      <th>13</th>\n",
              "      <td>0.238404</td>\n",
              "      <td>0.344083</td>\n",
              "      <td>0.444774</td>\n",
              "    </tr>\n",
              "    <tr>\n",
              "      <th>14</th>\n",
              "      <td>0.218142</td>\n",
              "      <td>0.332979</td>\n",
              "      <td>0.411125</td>\n",
              "    </tr>\n",
              "  </tbody>\n",
              "</table>\n",
              "</div>"
            ],
            "text/plain": [
              "    train_loss  valid_loss  test_loss\n",
              "0     0.905948    0.886408   0.890796\n",
              "1     0.605668    0.610758   0.595089\n",
              "2     0.624611    0.591338   0.634463\n",
              "3     0.543932    0.568563   0.562850\n",
              "4     0.480004    0.500629   0.519602\n",
              "5     0.442483    0.472390   0.495153\n",
              "6     0.389233    0.414854   0.456212\n",
              "7     0.358939    0.409241   0.437760\n",
              "8     0.359755    0.420029   0.441109\n",
              "9     0.317784    0.373283   0.439657\n",
              "10    0.298358    0.376897   0.471533\n",
              "11    0.298441    0.363667   0.418788\n",
              "12    0.268174    0.340500   0.422133\n",
              "13    0.238404    0.344083   0.444774\n",
              "14    0.218142    0.332979   0.411125"
            ]
          },
          "metadata": {
            "tags": []
          },
          "execution_count": 156
        }
      ]
    },
    {
      "cell_type": "markdown",
      "metadata": {
        "id": "uPrJ5dcQ-HX9"
      },
      "source": [
        "#89 BERTによる分類"
      ]
    },
    {
      "cell_type": "code",
      "metadata": {
        "id": "iGmjNxIs-Qrh",
        "outputId": "ad67c571-5690-4f3b-d51f-ae6fe6d55c71",
        "colab": {
          "base_uri": "https://localhost:8080/",
          "height": 102
        }
      },
      "source": [
        "!pip install -q transformers"
      ],
      "execution_count": 52,
      "outputs": [
        {
          "output_type": "stream",
          "text": [
            "\u001b[K     |████████████████████████████████| 1.3MB 2.8MB/s \n",
            "\u001b[K     |████████████████████████████████| 2.9MB 18.7MB/s \n",
            "\u001b[K     |████████████████████████████████| 1.1MB 39.9MB/s \n",
            "\u001b[K     |████████████████████████████████| 890kB 41.8MB/s \n",
            "\u001b[?25h  Building wheel for sacremoses (setup.py) ... \u001b[?25l\u001b[?25hdone\n"
          ],
          "name": "stdout"
        }
      ]
    },
    {
      "cell_type": "code",
      "metadata": {
        "id": "ROb_8puMPpLw"
      },
      "source": [
        "from transformers import AutoConfig, AutoModel, AutoTokenizer"
      ],
      "execution_count": 53,
      "outputs": []
    },
    {
      "cell_type": "code",
      "metadata": {
        "id": "dtPC7wlz-Mze",
        "outputId": "0b6361ed-d1ae-4e32-afce-ed31287c6ea5",
        "colab": {
          "base_uri": "https://localhost:8080/",
          "height": 66,
          "referenced_widgets": [
            "0044693cb27f40c9a28c81a728027d6c",
            "063880e92cff4de0a7ffb3e8763a3e50",
            "b108593180f54e15b2d0d1121ac74a48",
            "72eba21a5fb648df9a017c35ac1a7898",
            "c9b40711ca5b44248f966be1c61e132b",
            "98f712b10b84461ebdcda88e38bf7b91",
            "e25f6477aa1d4a93bacd22dc4841a965",
            "c39194e00c8642178e69a2ed87471b2c"
          ]
        }
      },
      "source": [
        "tokenizer = AutoTokenizer.from_pretrained('bert-base-uncased', use_fast=True)"
      ],
      "execution_count": 63,
      "outputs": [
        {
          "output_type": "display_data",
          "data": {
            "application/vnd.jupyter.widget-view+json": {
              "model_id": "0044693cb27f40c9a28c81a728027d6c",
              "version_minor": 0,
              "version_major": 2
            },
            "text/plain": [
              "HBox(children=(FloatProgress(value=0.0, description='Downloading', max=466062.0, style=ProgressStyle(descripti…"
            ]
          },
          "metadata": {
            "tags": []
          }
        },
        {
          "output_type": "stream",
          "text": [
            "\n"
          ],
          "name": "stdout"
        }
      ]
    },
    {
      "cell_type": "code",
      "metadata": {
        "id": "iok5kzPYmtYF"
      },
      "source": [
        "def encode_text(tokenizer, texts):\n",
        "    encoded = tokenizer.batch_encode_plus(\n",
        "        texts,\n",
        "        return_token_type_ids=False,\n",
        "        max_length=120,\n",
        "        padding=True,\n",
        "        truncation=True,\n",
        "    )\n",
        "\n",
        "    # {'input_ids': [[A], [B], [C]],}\n",
        "    # {'attention_mask': [[1], [2], [3]]}\n",
        "    # list(zip(input_ids, attention_mask')) => [(A, 1), (B, 2), (C, 3)]\n",
        "    # np.array => (train_size, type, seq_len)\n",
        "\n",
        "    return np.array(\n",
        "        list(zip(encoded.input_ids, encoded.attention_mask))\n",
        "    )"
      ],
      "execution_count": 120,
      "outputs": []
    },
    {
      "cell_type": "code",
      "metadata": {
        "id": "hMEtHg1HhtmR"
      },
      "source": [
        "class BertTextDataset(Dataset):\n",
        "    def __init__(self, xy, ys, tokenizer):\n",
        "        self.xs = xs\n",
        "        self.ys = ys\n",
        "    \n",
        "    def __len__(self):\n",
        "        return len(self.xs)\n",
        "\n",
        "    def __getitem__(self, index):\n",
        "        return xs[index], ys[index]"
      ],
      "execution_count": 121,
      "outputs": []
    },
    {
      "cell_type": "code",
      "metadata": {
        "id": "4v93eo1wgvbA"
      },
      "source": [
        "x_train = encode_text(tokenizer, train_df['title'].values.tolist())\n",
        "x_valid = encode_text(tokenizer, valid_df['title'].values.tolist())\n",
        "x_test = encode_text(tokenizer, test_df['title'].values.tolist())"
      ],
      "execution_count": 126,
      "outputs": []
    },
    {
      "cell_type": "code",
      "metadata": {
        "id": "IkLTjeXbsofQ"
      },
      "source": [
        "class BertModel(nn.Module):\n",
        "    def __init__(self):\n",
        "        super().__init__()\n",
        "        self.transformer = AutoModel.from_pretrained('bert-base-uncased')\n",
        "        self.fc = nn.Linear(768, 4)\n",
        "\n",
        "    def forward(self, x):\n",
        "        input_ids = x[:, 0, :]\n",
        "        attention_mask = x[:, 1, :]\n",
        "\n",
        "        out, _ = self.transformer(input_ids, attention_mask)\n",
        "        out = self.fc(out[:, 0, :])\n",
        "        return out"
      ],
      "execution_count": 140,
      "outputs": []
    },
    {
      "cell_type": "code",
      "metadata": {
        "id": "h1m1UxSct74R"
      },
      "source": [
        "trn_ds = TextDataset(x_train, y_train)\n",
        "trn_dl = DataLoader(trn_ds, batch_size=32, shuffle=True)\n",
        "\n",
        "val_ds = TextDataset(x_valid, y_valid)\n",
        "val_dl = DataLoader(val_ds, batch_size=32, shuffle=False)\n",
        "\n",
        "test_ds = TextDataset(x_test, y_test)\n",
        "test_dl = DataLoader(test_ds, batch_size=32, shuffle=False)\n",
        "\n",
        "model = BertModel()\n",
        "model.to('cuda')\n",
        "\n",
        "optimizer = torch.optim.Adam(model.parameters(), lr=3e-5)"
      ],
      "execution_count": 145,
      "outputs": []
    },
    {
      "cell_type": "code",
      "metadata": {
        "id": "fWRURDkxuwjt"
      },
      "source": [
        "trainer = Trainer(model, optimizer, trn_dl, val_dl, test_dl, 3, device='cuda')"
      ],
      "execution_count": 146,
      "outputs": []
    },
    {
      "cell_type": "code",
      "metadata": {
        "id": "k6Olif7Iu1B3",
        "outputId": "3cf98a67-cb73-4a4b-dd57-80e4b6cb3407",
        "colab": {
          "base_uri": "https://localhost:8080/",
          "height": 66,
          "referenced_widgets": [
            "4fdb2a2f967748d8b0475d511e841b8c",
            "3f0b69c279ab4f15bcbc7650dc6bfe8b",
            "5a8c23fea56b43f2ae9596b76ec5fb15",
            "407483d52b714a229a19302d7afa1cf9",
            "39a2f61d05434c4e800bf77edca540be",
            "9a99c7c8b3ad434ca03926b20a0f5816",
            "874d4b4beb7949419f936a8ce3bad746",
            "7cb311852aca452fa170bf40edf143ef"
          ]
        }
      },
      "source": [
        "acc_epcohs, losses_epochs = trainer.train()"
      ],
      "execution_count": 147,
      "outputs": [
        {
          "output_type": "display_data",
          "data": {
            "application/vnd.jupyter.widget-view+json": {
              "model_id": "4fdb2a2f967748d8b0475d511e841b8c",
              "version_minor": 0,
              "version_major": 2
            },
            "text/plain": [
              "HBox(children=(FloatProgress(value=0.0, max=3.0), HTML(value='')))"
            ]
          },
          "metadata": {
            "tags": []
          }
        },
        {
          "output_type": "stream",
          "text": [
            "\n"
          ],
          "name": "stdout"
        }
      ]
    },
    {
      "cell_type": "code",
      "metadata": {
        "id": "PeB9-Imiu2xI",
        "outputId": "4a5b909c-fb57-4e98-dcae-b7aa4003cc6b",
        "colab": {
          "base_uri": "https://localhost:8080/",
          "height": 142
        }
      },
      "source": [
        "pd.DataFrame(acc_epcohs)"
      ],
      "execution_count": 148,
      "outputs": [
        {
          "output_type": "execute_result",
          "data": {
            "text/html": [
              "<div>\n",
              "<style scoped>\n",
              "    .dataframe tbody tr th:only-of-type {\n",
              "        vertical-align: middle;\n",
              "    }\n",
              "\n",
              "    .dataframe tbody tr th {\n",
              "        vertical-align: top;\n",
              "    }\n",
              "\n",
              "    .dataframe thead th {\n",
              "        text-align: right;\n",
              "    }\n",
              "</style>\n",
              "<table border=\"1\" class=\"dataframe\">\n",
              "  <thead>\n",
              "    <tr style=\"text-align: right;\">\n",
              "      <th></th>\n",
              "      <th>train_acc</th>\n",
              "      <th>valid_acc</th>\n",
              "      <th>test_acc</th>\n",
              "    </tr>\n",
              "  </thead>\n",
              "  <tbody>\n",
              "    <tr>\n",
              "      <th>0</th>\n",
              "      <td>0.957230</td>\n",
              "      <td>0.929028</td>\n",
              "      <td>0.898162</td>\n",
              "    </tr>\n",
              "    <tr>\n",
              "      <th>1</th>\n",
              "      <td>0.985152</td>\n",
              "      <td>0.949861</td>\n",
              "      <td>0.917953</td>\n",
              "    </tr>\n",
              "    <tr>\n",
              "      <th>2</th>\n",
              "      <td>0.992850</td>\n",
              "      <td>0.943611</td>\n",
              "      <td>0.924081</td>\n",
              "    </tr>\n",
              "  </tbody>\n",
              "</table>\n",
              "</div>"
            ],
            "text/plain": [
              "   train_acc  valid_acc  test_acc\n",
              "0   0.957230   0.929028  0.898162\n",
              "1   0.985152   0.949861  0.917953\n",
              "2   0.992850   0.943611  0.924081"
            ]
          },
          "metadata": {
            "tags": []
          },
          "execution_count": 148
        }
      ]
    },
    {
      "cell_type": "code",
      "metadata": {
        "id": "mkvYDc5nwLrP",
        "outputId": "23ab350d-234f-4a42-99d3-2607e059e42b",
        "colab": {
          "base_uri": "https://localhost:8080/",
          "height": 142
        }
      },
      "source": [
        "pd.DataFrame(losses_epochs)"
      ],
      "execution_count": 149,
      "outputs": [
        {
          "output_type": "execute_result",
          "data": {
            "text/html": [
              "<div>\n",
              "<style scoped>\n",
              "    .dataframe tbody tr th:only-of-type {\n",
              "        vertical-align: middle;\n",
              "    }\n",
              "\n",
              "    .dataframe tbody tr th {\n",
              "        vertical-align: top;\n",
              "    }\n",
              "\n",
              "    .dataframe thead th {\n",
              "        text-align: right;\n",
              "    }\n",
              "</style>\n",
              "<table border=\"1\" class=\"dataframe\">\n",
              "  <thead>\n",
              "    <tr style=\"text-align: right;\">\n",
              "      <th></th>\n",
              "      <th>train_loss</th>\n",
              "      <th>valid_loss</th>\n",
              "      <th>test_loss</th>\n",
              "    </tr>\n",
              "  </thead>\n",
              "  <tbody>\n",
              "    <tr>\n",
              "      <th>0</th>\n",
              "      <td>0.144934</td>\n",
              "      <td>0.221538</td>\n",
              "      <td>0.276624</td>\n",
              "    </tr>\n",
              "    <tr>\n",
              "      <th>1</th>\n",
              "      <td>0.053327</td>\n",
              "      <td>0.183858</td>\n",
              "      <td>0.234453</td>\n",
              "    </tr>\n",
              "    <tr>\n",
              "      <th>2</th>\n",
              "      <td>0.025281</td>\n",
              "      <td>0.200559</td>\n",
              "      <td>0.241853</td>\n",
              "    </tr>\n",
              "  </tbody>\n",
              "</table>\n",
              "</div>"
            ],
            "text/plain": [
              "   train_loss  valid_loss  test_loss\n",
              "0    0.144934    0.221538   0.276624\n",
              "1    0.053327    0.183858   0.234453\n",
              "2    0.025281    0.200559   0.241853"
            ]
          },
          "metadata": {
            "tags": []
          },
          "execution_count": 149
        }
      ]
    },
    {
      "cell_type": "code",
      "metadata": {
        "id": "YbFfacsUwP_w"
      },
      "source": [
        ""
      ],
      "execution_count": null,
      "outputs": []
    }
  ]
}