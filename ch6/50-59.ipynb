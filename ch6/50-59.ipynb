{
 "cells": [
  {
   "cell_type": "code",
   "execution_count": 44,
   "metadata": {},
   "outputs": [],
   "source": [
    "import gc\n",
    "import re\n",
    "\n",
    "import pandas as pd\n",
    "import numpy as np\n",
    "\n",
    "from tqdm.auto import tqdm\n",
    "\n",
    "import spacy\n",
    "\n",
    "from sklearn.feature_extraction.text import CountVectorizer\n",
    "from sklearn.linear_model import LogisticRegression\n",
    "from sklearn.ensemble import RandomForestClassifier\n",
    "from sklearn.metrics import accuracy_score, confusion_matrix, classification_report, f1_score, recall_score\n",
    "\n",
    "import matplotlib.pyplot as plt\n",
    "plt.style.use('ggplot')"
   ]
  },
  {
   "cell_type": "code",
   "execution_count": 2,
   "metadata": {},
   "outputs": [],
   "source": [
    "nlp = spacy.load('en_core_web_sm')"
   ]
  },
  {
   "cell_type": "markdown",
   "metadata": {},
   "source": [
    "# 50\n",
    "train, valid,test set に分ける"
   ]
  },
  {
   "cell_type": "code",
   "execution_count": 3,
   "metadata": {},
   "outputs": [],
   "source": [
    "df = pd.read_csv(\n",
    "    './NewsAggregatorDataset/newsCorpora.csv', \n",
    "    delimiter=\"\\t\", \n",
    "    header=None)"
   ]
  },
  {
   "cell_type": "code",
   "execution_count": 4,
   "metadata": {},
   "outputs": [],
   "source": [
    "df.columns =  ['id', 'title','url', 'publisher', 'category', 'story', 'hostname', 'timestamp']"
   ]
  },
  {
   "cell_type": "code",
   "execution_count": 5,
   "metadata": {},
   "outputs": [],
   "source": [
    "df = df[df['publisher'].isin(['Huffington Post', 'Businessweek', 'Contactmusic.com', 'Daily Mail'])]"
   ]
  },
  {
   "cell_type": "code",
   "execution_count": 6,
   "metadata": {},
   "outputs": [],
   "source": [
    "df = df.sample(frac=1.0).reset_index(drop=True)"
   ]
  },
  {
   "cell_type": "code",
   "execution_count": 7,
   "metadata": {},
   "outputs": [],
   "source": [
    "trn_frac = 0.8\n",
    "val_frac = 0.1\n",
    "test_frac = 0.1"
   ]
  },
  {
   "cell_type": "code",
   "execution_count": 8,
   "metadata": {},
   "outputs": [
    {
     "name": "stdout",
     "output_type": "stream",
     "text": [
      "train sample: 7550\n",
      "val sample: 943\n",
      "test sample: 945\n"
     ]
    }
   ],
   "source": [
    "trn_num = int(len(df)*trn_frac)\n",
    "val_num = int(len(df)*val_frac)\n",
    "test_num = len(df) - (trn_num+val_num)\n",
    "print(f\"train sample: {trn_num}\")\n",
    "print(f\"val sample: {val_num}\")\n",
    "print(f\"test sample: {test_num}\")\n",
    "assert len(df) == (trn_num + val_num + test_num)"
   ]
  },
  {
   "cell_type": "code",
   "execution_count": 9,
   "metadata": {},
   "outputs": [],
   "source": [
    "df.iloc[:trn_num][['title', 'category']].to_csv('train.txt', sep=\"\\t\", index=False)"
   ]
  },
  {
   "cell_type": "code",
   "execution_count": 10,
   "metadata": {},
   "outputs": [],
   "source": [
    "df.iloc[trn_num:trn_num+val_num][['title', 'category']].to_csv('valid.txt', sep=\"\\t\", index=False)"
   ]
  },
  {
   "cell_type": "code",
   "execution_count": 11,
   "metadata": {},
   "outputs": [],
   "source": [
    "df.iloc[-test_num:][['title', 'category']].to_csv('test.txt', sep=\"\\t\", index=False)"
   ]
  },
  {
   "cell_type": "code",
   "execution_count": 12,
   "metadata": {},
   "outputs": [
    {
     "data": {
      "text/plain": [
       "60"
      ]
     },
     "execution_count": 12,
     "metadata": {},
     "output_type": "execute_result"
    }
   ],
   "source": [
    "del df\n",
    "gc.collect()"
   ]
  },
  {
   "cell_type": "markdown",
   "metadata": {},
   "source": [
    "各カテゴリの事例数の確認"
   ]
  },
  {
   "cell_type": "code",
   "execution_count": 3,
   "metadata": {},
   "outputs": [
    {
     "data": {
      "text/plain": [
       "e    4102\n",
       "b    1946\n",
       "t     909\n",
       "m     593\n",
       "Name: category, dtype: int64"
      ]
     },
     "execution_count": 3,
     "metadata": {},
     "output_type": "execute_result"
    }
   ],
   "source": [
    "train_df = pd.read_csv('train.txt', delimiter='\\t')\n",
    "train_df.category.value_counts()"
   ]
  },
  {
   "cell_type": "code",
   "execution_count": 4,
   "metadata": {},
   "outputs": [
    {
     "data": {
      "text/plain": [
       "e    496\n",
       "b    249\n",
       "t    125\n",
       "m     73\n",
       "Name: category, dtype: int64"
      ]
     },
     "execution_count": 4,
     "metadata": {},
     "output_type": "execute_result"
    }
   ],
   "source": [
    "valid_df = pd.read_csv('valid.txt', delimiter='\\t')\n",
    "valid_df.category.value_counts()"
   ]
  },
  {
   "cell_type": "code",
   "execution_count": 5,
   "metadata": {},
   "outputs": [
    {
     "data": {
      "text/plain": [
       "e    497\n",
       "b    275\n",
       "t    114\n",
       "m     59\n",
       "Name: category, dtype: int64"
      ]
     },
     "execution_count": 5,
     "metadata": {},
     "output_type": "execute_result"
    }
   ],
   "source": [
    "test_df = pd.read_csv('test.txt', delimiter='\\t')\n",
    "test_df.category.value_counts()"
   ]
  },
  {
   "cell_type": "markdown",
   "metadata": {},
   "source": [
    "# 51\n",
    "特徴量を抽出して、ファイルに保存する  "
   ]
  },
  {
   "cell_type": "markdown",
   "metadata": {},
   "source": [
    "テキストのクリーニングとトークナイズ"
   ]
  },
  {
   "cell_type": "code",
   "execution_count": 6,
   "metadata": {},
   "outputs": [],
   "source": [
    "# ulrの削除\n",
    "def remove_url(text):\n",
    "    url_pat = r'http[s]?://(?:[a-zA-Z]|[0-9]|[$-_@.&+]|[!*\\(\\),]|(?:%[0-9a-fA-F][0-9a-fA-F]))+'\n",
    "    text = re.sub(url_pat, ' ', text)\n",
    "    return text\n",
    "\n",
    "# 小文字化\n",
    "def lower_text(text):\n",
    "    return text.lower()\n",
    "\n",
    "# トークン化\n",
    "def tokenize(text):\n",
    "    tokens = ' '.join([str(token) for token in nlp.make_doc(text) if str(token) != ' '])\n",
    "    return tokens\n",
    "\n",
    "def preporcessing(text):\n",
    "    text = lower_text(text)\n",
    "    text = remove_url(text)\n",
    "    tokens = tokenize(text)\n",
    "    return tokens"
   ]
  },
  {
   "cell_type": "code",
   "execution_count": 7,
   "metadata": {},
   "outputs": [],
   "source": [
    "train_title_tokenized = train_df['title'].apply(preporcessing).values.tolist()\n",
    "valid_title_tokenized = valid_df['title'].apply(preporcessing).values.tolist()\n",
    "test_title_tokenized = test_df['title'].apply(preporcessing).values.tolist()"
   ]
  },
  {
   "cell_type": "code",
   "execution_count": 45,
   "metadata": {},
   "outputs": [
    {
     "data": {
      "text/plain": [
       "[\"kiefer sutherland issues professional response to freddie prinze jr . 's ...\",\n",
       " 'soaring to the top ! rare copy of superman comic book fetches $ 3.2million',\n",
       " 'treasuries drop a 4th day on speculation rally gains excessive',\n",
       " \"' hedwig and the angry inch ' on broadway is going to be amazing\",\n",
       " \"monet from huguette clark 's dining room sells for $ 24million at auction\",\n",
       " 'celebrity photographer terry richardson defends himself against sexual ...',\n",
       " \"chris martin stars as lovestruck magician 's assistant in coldplay 's magic video\",\n",
       " 'claire danes puts on a brave face as she arrives in canada with son cyrus after ...',\n",
       " 'guardians of the galaxy movie review',\n",
       " 'pippa middleton looks cool and chic in forties - inspired playsuit for laid back ...']"
      ]
     },
     "execution_count": 45,
     "metadata": {},
     "output_type": "execute_result"
    }
   ],
   "source": [
    "train_title_tokenized[:10]"
   ]
  },
  {
   "cell_type": "markdown",
   "metadata": {},
   "source": [
    "ベクトル化  \n",
    "trainのみでfitさせてvalidとtestをtransformする"
   ]
  },
  {
   "cell_type": "code",
   "execution_count": 9,
   "metadata": {},
   "outputs": [
    {
     "data": {
      "text/plain": [
       "CountVectorizer()"
      ]
     },
     "execution_count": 9,
     "metadata": {},
     "output_type": "execute_result"
    }
   ],
   "source": [
    "encoder = CountVectorizer()\n",
    "encoder.fit(train_title_tokenized)"
   ]
  },
  {
   "cell_type": "code",
   "execution_count": 10,
   "metadata": {},
   "outputs": [],
   "source": [
    "train_title_feature = encoder.transform(train_title_tokenized)\n",
    "train_title_feature = pd.DataFrame(train_title_feature.toarray())\n",
    "\n",
    "valid_title_feature = encoder.transform(valid_title_tokenized)\n",
    "valid_title_feature = pd.DataFrame(valid_title_feature.toarray())\n",
    "\n",
    "test_title_feature = encoder.transform(test_title_tokenized)\n",
    "test_title_feature = pd.DataFrame(test_title_feature.toarray())"
   ]
  },
  {
   "cell_type": "code",
   "execution_count": 11,
   "metadata": {},
   "outputs": [],
   "source": [
    "train_title_feature.to_csv('train.feature.txt', sep='\\t', header=None, index=False)\n",
    "valid_title_feature.to_csv('valid.feature.txt', sep='\\t', header=None, index=False)\n",
    "test_title_feature.to_csv('test.feature.txt', sep='\\t', header=None, index=False)"
   ]
  },
  {
   "cell_type": "markdown",
   "metadata": {},
   "source": [
    "# 52\n",
    "学習"
   ]
  },
  {
   "cell_type": "code",
   "execution_count": 12,
   "metadata": {},
   "outputs": [],
   "source": [
    "train_title_feature = pd.read_csv('train.feature.txt', delimiter='\\t', header=None)\n",
    "valid_title_feature = pd.read_csv('valid.feature.txt', delimiter='\\t', header=None)\n",
    "test_title_feature = pd.read_csv('test.feature.txt', delimiter='\\t', header=None)\n",
    "\n",
    "train_df = pd.read_csv('train.txt', delimiter='\\t')\n",
    "valid_df = pd.read_csv('valid.txt', delimiter='\\t')\n",
    "test_df = pd.read_csv('test.txt', delimiter='\\t')"
   ]
  },
  {
   "cell_type": "code",
   "execution_count": 13,
   "metadata": {},
   "outputs": [
    {
     "data": {
      "text/plain": [
       "LogisticRegression(max_iter=1000)"
      ]
     },
     "execution_count": 13,
     "metadata": {},
     "output_type": "execute_result"
    }
   ],
   "source": [
    "rog_reg = LogisticRegression(max_iter=1000)\n",
    "rog_reg.fit(train_title_feature, train_df.category)"
   ]
  },
  {
   "cell_type": "markdown",
   "metadata": {},
   "source": [
    "# 53\n",
    "予測"
   ]
  },
  {
   "cell_type": "code",
   "execution_count": 14,
   "metadata": {},
   "outputs": [
    {
     "data": {
      "text/plain": [
       "array(['b', 'e', 'm', 't'], dtype=object)"
      ]
     },
     "execution_count": 14,
     "metadata": {},
     "output_type": "execute_result"
    }
   ],
   "source": [
    "rog_reg.classes_"
   ]
  },
  {
   "cell_type": "code",
   "execution_count": 15,
   "metadata": {},
   "outputs": [],
   "source": [
    "def predict(feature):\n",
    "    probas = rog_reg.predict_proba(feature)\n",
    "    preds = np.array([rog_reg.classes_[i] for i in np.argmax(probas, axis=1)])\n",
    "    return preds, probas"
   ]
  },
  {
   "cell_type": "code",
   "execution_count": 16,
   "metadata": {},
   "outputs": [],
   "source": [
    "train_preds, train_probas = predict(train_title_feature)\n",
    "test_preds, test_probas = predict(test_title_feature)"
   ]
  },
  {
   "cell_type": "code",
   "execution_count": 18,
   "metadata": {},
   "outputs": [
    {
     "name": "stdout",
     "output_type": "stream",
     "text": [
      "['b' 'e' 'e' 'b' 'm']\n",
      "[[0.98174785 0.00203946 0.00491359 0.01129911]\n",
      " [0.02899676 0.85588226 0.02692239 0.0881986 ]\n",
      " [0.00872326 0.94624795 0.03881936 0.00620943]\n",
      " [0.9802797  0.01059892 0.00261946 0.00650192]\n",
      " [0.01402873 0.00195517 0.95552888 0.02848722]]\n"
     ]
    }
   ],
   "source": [
    "print(test_preds[:5])\n",
    "print(test_probas[:5, :])"
   ]
  },
  {
   "cell_type": "markdown",
   "metadata": {},
   "source": [
    "# 54\n",
    "正解率の算出"
   ]
  },
  {
   "cell_type": "code",
   "execution_count": 19,
   "metadata": {},
   "outputs": [
    {
     "name": "stdout",
     "output_type": "stream",
     "text": [
      "train acc : 0.9973509933774835\n",
      "test acc : 0.8804232804232804\n"
     ]
    }
   ],
   "source": [
    "print(f\"train acc : {accuracy_score(train_df.category, train_preds)}\")\n",
    "print(f\"test acc : {accuracy_score(test_df.category, test_preds)}\")"
   ]
  },
  {
   "cell_type": "markdown",
   "metadata": {},
   "source": [
    "# 55\n",
    "混同行列"
   ]
  },
  {
   "cell_type": "code",
   "execution_count": 20,
   "metadata": {},
   "outputs": [
    {
     "data": {
      "text/plain": [
       "array([[1940,    2,    0,    6],\n",
       "       [   2, 4100,    2,    4],\n",
       "       [   0,    0,  591,    0],\n",
       "       [   4,    0,    0,  899]])"
      ]
     },
     "execution_count": 20,
     "metadata": {},
     "output_type": "execute_result"
    }
   ],
   "source": [
    "confusion_matrix(train_preds, train_df.category)"
   ]
  },
  {
   "cell_type": "code",
   "execution_count": 21,
   "metadata": {},
   "outputs": [
    {
     "data": {
      "text/plain": [
       "array([[231,   9,   6,   4],\n",
       "       [ 25, 480,  15,  21],\n",
       "       [  4,   1,  36,   4],\n",
       "       [ 15,   7,   2,  85]])"
      ]
     },
     "execution_count": 21,
     "metadata": {},
     "output_type": "execute_result"
    }
   ],
   "source": [
    "confusion_matrix(test_preds, test_df.category)"
   ]
  },
  {
   "cell_type": "markdown",
   "metadata": {},
   "source": [
    "# 56"
   ]
  },
  {
   "cell_type": "code",
   "execution_count": 22,
   "metadata": {},
   "outputs": [
    {
     "name": "stdout",
     "output_type": "stream",
     "text": [
      "              precision    recall  f1-score   support\n",
      "\n",
      "           b       0.84      0.92      0.88       250\n",
      "           e       0.97      0.89      0.92       541\n",
      "           m       0.61      0.80      0.69        45\n",
      "           t       0.75      0.78      0.76       109\n",
      "\n",
      "    accuracy                           0.88       945\n",
      "   macro avg       0.79      0.85      0.81       945\n",
      "weighted avg       0.89      0.88      0.88       945\n",
      "\n"
     ]
    }
   ],
   "source": [
    "print(classification_report(test_preds, test_df.category, ))"
   ]
  },
  {
   "cell_type": "code",
   "execution_count": 23,
   "metadata": {},
   "outputs": [],
   "source": [
    "test_cm = confusion_matrix(test_preds, test_df.category)"
   ]
  },
  {
   "cell_type": "code",
   "execution_count": 24,
   "metadata": {},
   "outputs": [
    {
     "data": {
      "text/plain": [
       "array([[231,   9,   6,   4],\n",
       "       [ 25, 480,  15,  21],\n",
       "       [  4,   1,  36,   4],\n",
       "       [ 15,   7,   2,  85]])"
      ]
     },
     "execution_count": 24,
     "metadata": {},
     "output_type": "execute_result"
    }
   ],
   "source": [
    "test_cm"
   ]
  },
  {
   "cell_type": "code",
   "execution_count": 25,
   "metadata": {},
   "outputs": [],
   "source": [
    "tp = test_cm.diagonal()\n",
    "fn = test_cm.sum(axis=1) - tp\n",
    "fp = test_cm.sum(axis=0) - tp"
   ]
  },
  {
   "cell_type": "code",
   "execution_count": 26,
   "metadata": {},
   "outputs": [
    {
     "data": {
      "text/plain": [
       "0.8804232804232804"
      ]
     },
     "execution_count": 26,
     "metadata": {},
     "output_type": "execute_result"
    }
   ],
   "source": [
    "tp.sum() / (tp + fp).sum()"
   ]
  },
  {
   "cell_type": "code",
   "execution_count": 27,
   "metadata": {},
   "outputs": [],
   "source": [
    "accuracy  = tp.sum() / (tp + fp).sum()\n",
    "\n",
    "precision = tp / (tp + fp)\n",
    "\n",
    "recall = tp / (fn + tp)\n",
    "\n",
    "f1 = 2 * (precision * recall) / (precision + recall)"
   ]
  },
  {
   "cell_type": "code",
   "execution_count": 28,
   "metadata": {},
   "outputs": [
    {
     "name": "stdout",
     "output_type": "stream",
     "text": [
      "accuracy:\t 0.8804232804232804\n",
      "precision score:\t [0.84       0.96579477 0.61016949 0.74561404]\n",
      "recall score:\t [0.924      0.88724584 0.8        0.77981651]\n",
      "f1 score:\t [0.88       0.92485549 0.69230769 0.76233184]\n"
     ]
    }
   ],
   "source": [
    "print(\"accuracy:\\t\", accuracy)\n",
    "print(\"precision score:\\t\", precision)\n",
    "print(\"recall score:\\t\", recall)\n",
    "print(\"f1 score:\\t\", f1)"
   ]
  },
  {
   "cell_type": "markdown",
   "metadata": {},
   "source": [
    "- マクロ平均：各クラスごとに評価値を算出して算術平均をとる\n",
    "- マイクロ平均：混同行列全体の値を集計して算出する。FP、FNが丸め込まれるため、recall、precision、f1が正解率に一致する\n",
    "\n",
    "参考：\n",
    "- https://analysis-navi.com/?p=553\n",
    "- https://qiita.com/FukuharaYohei/items/be89a99c53586fa4e2e4\n",
    "\n",
    "> マクロ平均は単純な算術平均(相加平均)です。調和平均ではありません。各クラスごとの正解率、適合率等の値を平均するだけです(なので式も省略)。\n",
    "マイクロ平均は各クラスごとの計算をせずに、混合行列全体からTP等の値集計をして算出します。他クラス分類の場合に、全体の合計で考えるのでPositiveとNegativeの区別が丸め込まれるためFPとFNは同一です。そのため、適合率・再現率・F値も同じ値です\n",
    "\n",
    "> ちなみに、「マクロ平均〜」に対して「マイクロ平均再現率」「マイクロ平均適合率」「マイクロ平均F値」という概念もありますが、多クラス混同行列においては、これらの値は全て「正解率」と一致しますので、除外しています。"
   ]
  },
  {
   "cell_type": "code",
   "execution_count": 29,
   "metadata": {},
   "outputs": [],
   "source": [
    "macro_precision = precision.sum() / len(precision)\n",
    "macro_recall = recall.sum() / len(recall)\n",
    "macro_f1 = f1.sum() / len(f1)"
   ]
  },
  {
   "cell_type": "code",
   "execution_count": 30,
   "metadata": {},
   "outputs": [
    {
     "name": "stdout",
     "output_type": "stream",
     "text": [
      "macro precision:\t 0.7903945738062033\n",
      "macro recall:\t 0.847765588699147\n",
      "macro f1:\t 0.8148737555505486\n"
     ]
    }
   ],
   "source": [
    "print(\"macro precision:\\t\", macro_precision)\n",
    "print(\"macro recall:\\t\", macro_recall)\n",
    "print(\"macro f1:\\t\", macro_f1)"
   ]
  },
  {
   "cell_type": "code",
   "execution_count": 31,
   "metadata": {},
   "outputs": [
    {
     "name": "stdout",
     "output_type": "stream",
     "text": [
      "0.8804232804232804\n",
      "0.8804232804232804\n",
      "0.8804232804232804\n",
      "0.8804232804232804\n",
      "0.8804232804232806\n"
     ]
    }
   ],
   "source": [
    "# マイクロ平均の評価値はすべて一致する\n",
    "print(tp.sum() / (tp.sum() + fp.sum()))\n",
    "print(tp.sum() / (fn.sum() + tp.sum()))\n",
    "print(accuracy_score(test_preds, test_df.category))\n",
    "print(recall_score(test_preds, test_df.category, average='micro'))\n",
    "print(f1_score(test_preds, test_df.category, average='micro'))"
   ]
  },
  {
   "cell_type": "markdown",
   "metadata": {},
   "source": [
    "# 57\n",
    "重みの高い特徴量を算出"
   ]
  },
  {
   "cell_type": "code",
   "execution_count": 32,
   "metadata": {},
   "outputs": [],
   "source": [
    "vocab = encoder.get_feature_names()\n",
    "class_names = rog_reg.classes_"
   ]
  },
  {
   "cell_type": "code",
   "execution_count": 33,
   "metadata": {},
   "outputs": [
    {
     "name": "stdout",
     "output_type": "stream",
     "text": [
      "class: b\n",
      "0 valued\n",
      "1 american\n",
      "2 her\n",
      "3 brand\n",
      "4 move\n",
      "5 spotify\n",
      "6 cancer\n",
      "7 young\n",
      "8 last\n",
      "9 men\n",
      "========================================\n",
      "class: e\n",
      "0 facebook\n",
      "1 amazon\n",
      "2 gm\n",
      "3 apple\n",
      "4 here\n",
      "5 climate\n",
      "6 twitter\n",
      "7 dimon\n",
      "8 news\n",
      "9 cars\n",
      "========================================\n",
      "class: m\n",
      "0 google\n",
      "1 facebook\n",
      "2 billion\n",
      "3 ceo\n",
      "4 gm\n",
      "5 climate\n",
      "6 china\n",
      "7 tesla\n",
      "8 ebola\n",
      "9 prices\n",
      "========================================\n",
      "class: t\n",
      "0 aereo\n",
      "1 can\n",
      "2 mother\n",
      "3 she\n",
      "4 ebola\n",
      "5 pump\n",
      "6 study\n",
      "7 gay\n",
      "8 early\n",
      "9 heart\n",
      "========================================\n"
     ]
    }
   ],
   "source": [
    "for cls, coef in zip(class_names, np.argsort(rog_reg.coef_, axis=1)[::-1][:, :10]):\n",
    "    print(\"class:\", cls)\n",
    "    for i, j in enumerate(coef):\n",
    "        print(i, vocab[j])\n",
    "    print(\"=\"*40)"
   ]
  },
  {
   "cell_type": "markdown",
   "metadata": {},
   "source": [
    "# 58\n",
    "正則化パラメーターの変更"
   ]
  },
  {
   "cell_type": "code",
   "execution_count": 34,
   "metadata": {},
   "outputs": [],
   "source": [
    "scores = []\n",
    "for C in [0.1,0.5, 1, 5, 10]:\n",
    "    rog_reg = LogisticRegression(C=C, max_iter=1000)\n",
    "    rog_reg.fit(train_title_feature, train_df.category)\n",
    "    \n",
    "    train_preds = rog_reg.predict(train_title_feature)\n",
    "    valid_preds = rog_reg.predict(valid_title_feature)\n",
    "    test_preds = rog_reg.predict(test_title_feature)\n",
    "    \n",
    "    train_acc = accuracy_score(train_df.category, train_preds)\n",
    "    valid_acc = accuracy_score(valid_df.category, valid_preds)\n",
    "    test_acc = accuracy_score(test_df.category, test_preds)\n",
    "    \n",
    "    score = {'C': C, 'train_acc': train_acc, 'valid_acc': valid_acc, 'test_acc': test_acc}\n",
    "    scores.append(score)"
   ]
  },
  {
   "cell_type": "code",
   "execution_count": 35,
   "metadata": {},
   "outputs": [
    {
     "data": {
      "text/html": [
       "<div>\n",
       "<style scoped>\n",
       "    .dataframe tbody tr th:only-of-type {\n",
       "        vertical-align: middle;\n",
       "    }\n",
       "\n",
       "    .dataframe tbody tr th {\n",
       "        vertical-align: top;\n",
       "    }\n",
       "\n",
       "    .dataframe thead th {\n",
       "        text-align: right;\n",
       "    }\n",
       "</style>\n",
       "<table border=\"1\" class=\"dataframe\">\n",
       "  <thead>\n",
       "    <tr style=\"text-align: right;\">\n",
       "      <th></th>\n",
       "      <th>C</th>\n",
       "      <th>train_acc</th>\n",
       "      <th>valid_acc</th>\n",
       "      <th>test_acc</th>\n",
       "    </tr>\n",
       "  </thead>\n",
       "  <tbody>\n",
       "    <tr>\n",
       "      <th>0</th>\n",
       "      <td>0.1</td>\n",
       "      <td>0.914834</td>\n",
       "      <td>0.861082</td>\n",
       "      <td>0.842328</td>\n",
       "    </tr>\n",
       "    <tr>\n",
       "      <th>1</th>\n",
       "      <td>0.5</td>\n",
       "      <td>0.989801</td>\n",
       "      <td>0.891835</td>\n",
       "      <td>0.871958</td>\n",
       "    </tr>\n",
       "    <tr>\n",
       "      <th>2</th>\n",
       "      <td>1.0</td>\n",
       "      <td>0.997351</td>\n",
       "      <td>0.899258</td>\n",
       "      <td>0.880423</td>\n",
       "    </tr>\n",
       "    <tr>\n",
       "      <th>3</th>\n",
       "      <td>5.0</td>\n",
       "      <td>0.999603</td>\n",
       "      <td>0.898197</td>\n",
       "      <td>0.881481</td>\n",
       "    </tr>\n",
       "    <tr>\n",
       "      <th>4</th>\n",
       "      <td>10.0</td>\n",
       "      <td>0.999603</td>\n",
       "      <td>0.900318</td>\n",
       "      <td>0.880423</td>\n",
       "    </tr>\n",
       "  </tbody>\n",
       "</table>\n",
       "</div>"
      ],
      "text/plain": [
       "      C  train_acc  valid_acc  test_acc\n",
       "0   0.1   0.914834   0.861082  0.842328\n",
       "1   0.5   0.989801   0.891835  0.871958\n",
       "2   1.0   0.997351   0.899258  0.880423\n",
       "3   5.0   0.999603   0.898197  0.881481\n",
       "4  10.0   0.999603   0.900318  0.880423"
      ]
     },
     "execution_count": 35,
     "metadata": {},
     "output_type": "execute_result"
    }
   ],
   "source": [
    "scores = pd.DataFrame(scores)\n",
    "scores"
   ]
  },
  {
   "cell_type": "code",
   "execution_count": 36,
   "metadata": {},
   "outputs": [
    {
     "data": {
      "image/png": "[encoded data removed]",
      "text/plain": [
       "<Figure size 432x288 with 1 Axes>"
      ]
     },
     "metadata": {},
     "output_type": "display_data"
    }
   ],
   "source": [
    "fig = plt.subplot(1,1,1)\n",
    "fig.scatter(x=scores.C, y=scores.train_acc, label='train')\n",
    "fig.plot(scores.C, scores.train_acc)\n",
    "\n",
    "train_max = scores.sort_values(by=\"train_acc\").iloc[-1]\n",
    "fig.plot(train_max.C, train_max.train_acc, marker='^', markersize=10, color='r')\n",
    "\n",
    "fig.scatter(x=scores.C, y=scores.valid_acc, label='valid')\n",
    "fig.plot(scores.C, scores.valid_acc)\n",
    "\n",
    "valid_max = scores.sort_values(by=\"valid_acc\").iloc[-1]\n",
    "fig.plot(valid_max.C, valid_max.valid_acc, marker='^', markersize=10, color='r')\n",
    "\n",
    "fig.scatter(x=scores.C, y=scores.test_acc, label='test')\n",
    "fig.plot(scores.C, scores.test_acc)\n",
    "\n",
    "test_max = scores.sort_values(by=\"test_acc\").iloc[-1]\n",
    "fig.plot(test_max.C, test_max.test_acc, marker='^', markersize=10, color='r')\n",
    "\n",
    "fig.plot()\n",
    "\n",
    "\n",
    "fig.set_xlabel('C')\n",
    "fig.set_ylabel('accuracy')\n",
    "\n",
    "fig.legend()\n",
    "\n",
    "plt.show()"
   ]
  },
  {
   "cell_type": "markdown",
   "metadata": {},
   "source": [
    "# 59\n",
    "学習アルゴリズムと学習パラメータを変更して検証データ上の正解率を比較する"
   ]
  },
  {
   "cell_type": "code",
   "execution_count": 46,
   "metadata": {},
   "outputs": [
    {
     "data": {
      "application/vnd.jupyter.widget-view+json": {
       "model_id": "6bb9a3c2ba7649918a3469d9336d097b",
       "version_major": 2,
       "version_minor": 0
      },
      "text/plain": [
       "HBox(children=(FloatProgress(value=0.0, max=5.0), HTML(value='')))"
      ]
     },
     "metadata": {},
     "output_type": "display_data"
    },
    {
     "name": "stdout",
     "output_type": "stream",
     "text": [
      "\n"
     ]
    }
   ],
   "source": [
    "valid_scores = []\n",
    "for n in tqdm([100, 300, 500, 700, 1000]):\n",
    "    tree_clf = RandomForestClassifier(n_estimators=n)\n",
    "    tree_clf.fit(train_title_feature, train_df.category)\n",
    "    \n",
    "    valid_preds = tree_clf.predict(valid_title_feature)\n",
    "    valid_score = accuracy_score(valid_df.category, valid_preds)\n",
    "    \n",
    "    valid_scores.append({'n':n, 'valid_score': valid_score})"
   ]
  },
  {
   "cell_type": "code",
   "execution_count": 48,
   "metadata": {},
   "outputs": [
    {
     "data": {
      "text/html": [
       "<div>\n",
       "<style scoped>\n",
       "    .dataframe tbody tr th:only-of-type {\n",
       "        vertical-align: middle;\n",
       "    }\n",
       "\n",
       "    .dataframe tbody tr th {\n",
       "        vertical-align: top;\n",
       "    }\n",
       "\n",
       "    .dataframe thead th {\n",
       "        text-align: right;\n",
       "    }\n",
       "</style>\n",
       "<table border=\"1\" class=\"dataframe\">\n",
       "  <thead>\n",
       "    <tr style=\"text-align: right;\">\n",
       "      <th></th>\n",
       "      <th>n</th>\n",
       "      <th>valid_score</th>\n",
       "    </tr>\n",
       "  </thead>\n",
       "  <tbody>\n",
       "    <tr>\n",
       "      <th>0</th>\n",
       "      <td>100</td>\n",
       "      <td>0.818664</td>\n",
       "    </tr>\n",
       "    <tr>\n",
       "      <th>1</th>\n",
       "      <td>300</td>\n",
       "      <td>0.829268</td>\n",
       "    </tr>\n",
       "    <tr>\n",
       "      <th>2</th>\n",
       "      <td>500</td>\n",
       "      <td>0.830329</td>\n",
       "    </tr>\n",
       "    <tr>\n",
       "      <th>3</th>\n",
       "      <td>700</td>\n",
       "      <td>0.825027</td>\n",
       "    </tr>\n",
       "    <tr>\n",
       "      <th>4</th>\n",
       "      <td>1000</td>\n",
       "      <td>0.829268</td>\n",
       "    </tr>\n",
       "  </tbody>\n",
       "</table>\n",
       "</div>"
      ],
      "text/plain": [
       "      n  valid_score\n",
       "0   100     0.818664\n",
       "1   300     0.829268\n",
       "2   500     0.830329\n",
       "3   700     0.825027\n",
       "4  1000     0.829268"
      ]
     },
     "execution_count": 48,
     "metadata": {},
     "output_type": "execute_result"
    }
   ],
   "source": [
    "pd.DataFrame(valid_scores)"
   ]
  },
  {
   "cell_type": "code",
   "execution_count": 49,
   "metadata": {},
   "outputs": [
    {
     "data": {
      "text/plain": [
       "RandomForestClassifier(n_estimators=500)"
      ]
     },
     "execution_count": 49,
     "metadata": {},
     "output_type": "execute_result"
    }
   ],
   "source": [
    "tree_clf = RandomForestClassifier(n_estimators=500)\n",
    "tree_clf.fit(train_title_feature, train_df.category)"
   ]
  },
  {
   "cell_type": "code",
   "execution_count": 50,
   "metadata": {},
   "outputs": [],
   "source": [
    "valid_preds = tree_clf.predict(valid_title_feature)\n",
    "valid_score = accuracy_score(valid_df.category, valid_preds)\n",
    "\n",
    "test_preds = tree_clf.predict(test_title_feature)\n",
    "test_score = accuracy_score(test_df.category, test_preds)"
   ]
  },
  {
   "cell_type": "code",
   "execution_count": 51,
   "metadata": {},
   "outputs": [
    {
     "data": {
      "text/plain": [
       "0.8285714285714286"
      ]
     },
     "execution_count": 51,
     "metadata": {},
     "output_type": "execute_result"
    }
   ],
   "source": [
    "test_score"
   ]
  }
 ],
 "metadata": {
  "kernelspec": {
   "display_name": "Python 3",
   "language": "python",
   "name": "python3"
  },
  "language_info": {
   "codemirror_mode": {
    "name": "ipython",
    "version": 3
   },
   "file_extension": ".py",
   "mimetype": "text/x-python",
   "name": "python",
   "nbconvert_exporter": "python",
   "pygments_lexer": "ipython3",
   "version": "3.7.8"
  }
 },
 "nbformat": 4,
 "nbformat_minor": 4
}
